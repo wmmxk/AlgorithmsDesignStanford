{
 "cells": [
  {
   "cell_type": "code",
   "execution_count": null,
   "metadata": {
    "collapsed": true
   },
   "outputs": [],
   "source": [
    "# the update of the membership of each vertice is not correct. (It is correct in some case)"
   ]
  },
  {
   "cell_type": "code",
   "execution_count": 1,
   "metadata": {
    "collapsed": false
   },
   "outputs": [
    {
     "ename": "SyntaxError",
     "evalue": "invalid syntax (<ipython-input-1-b8f1178ec5d3>, line 1)",
     "output_type": "error",
     "traceback": [
      "\u001b[0;36m  File \u001b[0;32m\"<ipython-input-1-b8f1178ec5d3>\"\u001b[0;36m, line \u001b[0;32m1\u001b[0m\n\u001b[0;31m    The distance between two nodes u and v in this problem is defined as the Hamming distance---\u001b[0m\n\u001b[0m               ^\u001b[0m\n\u001b[0;31mSyntaxError\u001b[0m\u001b[0;31m:\u001b[0m invalid syntax\n"
     ]
    }
   ],
   "source": [
    "The distance between two nodes u and v in this problem is defined as the Hamming distance--- \n",
    "the number of differing bits --- between the two nodes' labels. \n",
    "For example, the Hamming distance between the 24-bit label of node \n",
    "#2 above and the label \"0 1 0 0 0 1 0 0 0 1 0 1 1 1 1 1 1 0 1 0 0 1 0 1\" is 3 \n",
    "(since they differ in the 3rd, 7th, and 21st bits).\n",
    "\n",
    "The question is: what is the largest value of k such that there is a k-clustering\n",
    "    with spacing at least 3? That is, how many clusters are needed to ensure that \n",
    "    no pair of nodes with all but 2 bits in common get split into different clusters? (\n",
    "    That is to say merge all vertices that have a Hamming distance less or equal to 2)"
   ]
  },
  {
   "cell_type": "code",
   "execution_count": 2,
   "metadata": {
    "collapsed": false
   },
   "outputs": [
    {
     "ename": "SyntaxError",
     "evalue": "invalid syntax (<ipython-input-2-2634ba59ce6a>, line 1)",
     "output_type": "error",
     "traceback": [
      "\u001b[0;36m  File \u001b[0;32m\"<ipython-input-2-2634ba59ce6a>\"\u001b[0;36m, line \u001b[0;32m1\u001b[0m\n\u001b[0;31m    这道题的问题可以解释为：把所有Hamming Distance为0，1，2的点都聚合到一起，剩下多少个点？很自然地，\u001b[0m\n\u001b[0m    ^\u001b[0m\n\u001b[0;31mSyntaxError\u001b[0m\u001b[0;31m:\u001b[0m invalid syntax\n"
     ]
    }
   ],
   "source": [
    "这道题的问题可以解释为：把所有Hamming Distance为0，1，2的点都聚合到一起，剩下多少个点？很自然地，\n",
    "利用Union Find，把距离为0，1，2的点都union到一起，剩下的节点数就是结果。\n",
    "而距离每个string,距离小于3的string的数量是远远小于所有string的数量的。"
   ]
  },
  {
   "cell_type": "code",
   "execution_count": 3,
   "metadata": {
    "collapsed": true
   },
   "outputs": [],
   "source": [
    "# idea source: http://m.blog.csdn.net/article/details?id=11859621"
   ]
  },
  {
   "cell_type": "code",
   "execution_count": 4,
   "metadata": {
    "collapsed": true
   },
   "outputs": [],
   "source": [
    "def invert(bit):\n",
    "    if bit != '0' and bit != '1':\n",
    "        raise ValueError\n",
    "    return '1' if bit == '0' else '0'\n",
    "\n",
    "def similar(v):\n",
    "    out = []\n",
    "    for i in range(len(v)):\n",
    "        out.append(v[:i]+invert(v[i]) + v[i+1:])\n",
    "        for j in range(i+1, len(v)):\n",
    "            out.append(v[:i]+invert(v[i])+v[i+1:j]+invert(v[j])+v[j+1:])\n",
    "    out.append(v)\n",
    "    return out"
   ]
  },
  {
   "cell_type": "code",
   "execution_count": 5,
   "metadata": {
    "collapsed": false
   },
   "outputs": [],
   "source": [
    "vertices = [\"\".join(x.split(' ')) for x in open('./data/clustering_big.txt', 'r').read().split('\\n')[1:-1]]"
   ]
  },
  {
   "cell_type": "code",
   "execution_count": 6,
   "metadata": {
    "collapsed": false,
    "scrolled": false
   },
   "outputs": [
    {
     "data": {
      "text/plain": [
       "200000"
      ]
     },
     "execution_count": 6,
     "metadata": {},
     "output_type": "execute_result"
    }
   ],
   "source": [
    "len(vertices)"
   ]
  },
  {
   "cell_type": "code",
   "execution_count": 7,
   "metadata": {
    "collapsed": false
   },
   "outputs": [
    {
     "data": {
      "text/plain": [
       "198788"
      ]
     },
     "execution_count": 7,
     "metadata": {},
     "output_type": "execute_result"
    }
   ],
   "source": [
    "v_set = set(vertices)\n",
    "v_list = list(v_set)\n",
    "len(v_set)"
   ]
  },
  {
   "cell_type": "code",
   "execution_count": 8,
   "metadata": {
    "collapsed": false
   },
   "outputs": [],
   "source": [
    "member = {}\n",
    "cluster = {}\n",
    "index = {}\n",
    "for i in range(len(v_set)):\n",
    "    member[i] = i\n",
    "    cluster[i] = set([i])\n",
    "    index[v_list[i]] = i"
   ]
  },
  {
   "cell_type": "code",
   "execution_count": 9,
   "metadata": {
    "collapsed": false
   },
   "outputs": [
    {
     "name": "stdout",
     "output_type": "stream",
     "text": [
      "0\n",
      "20000\n",
      "40000\n",
      "60000\n",
      "80000\n",
      "100000\n",
      "120000\n",
      "140000\n",
      "160000\n",
      "180000\n"
     ]
    }
   ],
   "source": [
    "for i in range(len(v_list)):\n",
    "    candidates = similar(v_list[i])\n",
    "    showup = []\n",
    "    for candidate in candidates:\n",
    "        if candidate in v_set:\n",
    "            showup.append(candidate)\n",
    "\n",
    "    leader = min([member[index[string]] for string in showup])\n",
    "    for string in showup:\n",
    "        member[index[string]] = leader\n",
    "    if i%20000==0:\n",
    "        print i"
   ]
  },
  {
   "cell_type": "code",
   "execution_count": 10,
   "metadata": {
    "collapsed": false,
    "scrolled": true
   },
   "outputs": [
    {
     "data": {
      "text/plain": [
       "9723"
      ]
     },
     "execution_count": 10,
     "metadata": {},
     "output_type": "execute_result"
    }
   ],
   "source": [
    "len(set([member[key] for key in member.keys()]))"
   ]
  },
  {
   "cell_type": "code",
   "execution_count": 74,
   "metadata": {
    "collapsed": false,
    "scrolled": true
   },
   "outputs": [
    {
     "data": {
      "text/plain": [
       "{0: 0, 1: 1, 2: 0, 3: 0, 4: 1}"
      ]
     },
     "execution_count": 74,
     "metadata": {},
     "output_type": "execute_result"
    }
   ],
   "source": [
    "member"
   ]
  },
  {
   "cell_type": "code",
   "execution_count": 75,
   "metadata": {
    "collapsed": false
   },
   "outputs": [
    {
     "data": {
      "text/plain": [
       "['011001100101111110100001',\n",
       " '111000001101001111001111',\n",
       " '011001100101111110101101',\n",
       " '011001100101111110101100',\n",
       " '111000001101001111001110']"
      ]
     },
     "execution_count": 75,
     "metadata": {},
     "output_type": "execute_result"
    }
   ],
   "source": [
    "v_list"
   ]
  }
 ],
 "metadata": {
  "kernelspec": {
   "display_name": "Python 2",
   "language": "python",
   "name": "python2"
  },
  "language_info": {
   "codemirror_mode": {
    "name": "ipython",
    "version": 2
   },
   "file_extension": ".py",
   "mimetype": "text/x-python",
   "name": "python",
   "nbconvert_exporter": "python",
   "pygments_lexer": "ipython2",
   "version": "2.7.13"
  }
 },
 "nbformat": 4,
 "nbformat_minor": 0
}
