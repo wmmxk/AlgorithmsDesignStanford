{
 "cells": [
  {
   "cell_type": "code",
   "execution_count": null,
   "metadata": {
    "collapsed": true
   },
   "outputs": [],
   "source": [
    "# for v in member[cluster[v2]]:\n",
    "It the membership denoted the member v2 belongs to not member[v2]"
   ]
  },
  {
   "cell_type": "code",
   "execution_count": 79,
   "metadata": {
    "collapsed": false
   },
   "outputs": [],
   "source": [
    "filename=\"clustering1.txt\"\n",
    "edges = []\n",
    "with open(\"./data/\"+filename) as f:\n",
    "    for i,line in enumerate(f):\n",
    "        if i>0:\n",
    "            tmp = line.strip().split()\n",
    "            edges.append((int(tmp[2]),int(tmp[0]),int(tmp[1])))"
   ]
  },
  {
   "cell_type": "code",
   "execution_count": 80,
   "metadata": {
    "collapsed": false
   },
   "outputs": [],
   "source": [
    "edges.sort(key=lambda x: (x[0]))"
   ]
  },
  {
   "cell_type": "code",
   "execution_count": 81,
   "metadata": {
    "collapsed": false,
    "scrolled": true
   },
   "outputs": [],
   "source": [
    "def cluster(edges,k):\n",
    "    # scaffold and bookkeeping\n",
    "    vertices = set([edge[1] for edge in edges ] + [edge[2] for edge in edges ])\n",
    "    select = []\n",
    "    cluster = {}\n",
    "    member = {}\n",
    "    for i in range(1,len(vertices)+1):\n",
    "        cluster[i] = i\n",
    "        member[i] = set([i])\n",
    "    \n",
    "    \n",
    "    for edge in edges:\n",
    "       # print edge\n",
    "\n",
    "        v1 = edge[1]\n",
    "        v2 = edge[2]\n",
    "        if cluster[v1] != cluster[v2]:\n",
    "            select.append(edge)\n",
    "\n",
    "            if len(member[cluster[v1]]) >= len(member[cluster[v2]]):\n",
    "                member[cluster[v1]] = member[cluster[v1]] | member[cluster[v2]] \n",
    "                for v in member[cluster[v2]]:\n",
    "                    cluster[v] = cluster[v1]\n",
    "                #del member[v2]\n",
    "            else:\n",
    "                member[cluster[v2]] = member[cluster[v2]] | member[cluster[v1]]\n",
    "                for v in member[cluster[v1]]:\n",
    "                    cluster[v] = cluster[v2]\n",
    "\n",
    "                #del member[v1]\n",
    "        #print \"cluster\",cluster\n",
    "        #print \"member\",member\n",
    "        #print select\n",
    "    return select[-(k-1)][0]"
   ]
  },
  {
   "cell_type": "code",
   "execution_count": 82,
   "metadata": {
    "collapsed": false,
    "scrolled": true
   },
   "outputs": [
    {
     "data": {
      "text/plain": [
       "106"
      ]
     },
     "execution_count": 82,
     "metadata": {},
     "output_type": "execute_result"
    }
   ],
   "source": [
    "cluster(edges,4)"
   ]
  },
  {
   "cell_type": "code",
   "execution_count": 62,
   "metadata": {
    "collapsed": false
   },
   "outputs": [
    {
     "data": {
      "text/plain": [
       "3"
      ]
     },
     "execution_count": 62,
     "metadata": {},
     "output_type": "execute_result"
    }
   ],
   "source": [
    "a = [1,2,3]\n",
    "a[-1]"
   ]
  },
  {
   "cell_type": "code",
   "execution_count": 34,
   "metadata": {
    "collapsed": true
   },
   "outputs": [],
   "source": [
    "a = a|b"
   ]
  },
  {
   "cell_type": "code",
   "execution_count": 35,
   "metadata": {
    "collapsed": false
   },
   "outputs": [
    {
     "data": {
      "text/plain": [
       "{1, 2, 3, 4}"
      ]
     },
     "execution_count": 35,
     "metadata": {},
     "output_type": "execute_result"
    }
   ],
   "source": [
    "a"
   ]
  }
 ],
 "metadata": {
  "kernelspec": {
   "display_name": "Python 2",
   "language": "python",
   "name": "python2"
  },
  "language_info": {
   "codemirror_mode": {
    "name": "ipython",
    "version": 2
   },
   "file_extension": ".py",
   "mimetype": "text/x-python",
   "name": "python",
   "nbconvert_exporter": "python",
   "pygments_lexer": "ipython2",
   "version": "2.7.12"
  }
 },
 "nbformat": 4,
 "nbformat_minor": 0
}
