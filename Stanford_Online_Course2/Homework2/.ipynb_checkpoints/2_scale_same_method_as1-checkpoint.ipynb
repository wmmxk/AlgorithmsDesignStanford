{
 "cells": [
  {
   "cell_type": "code",
   "execution_count": 7,
   "metadata": {
    "collapsed": false
   },
   "outputs": [],
   "source": [
    "The distance between two nodes u and v in this problem is defined as the Hamming distance--- \n",
    "the number of differing bits --- between the two nodes' labels. \n",
    "For example, the Hamming distance between the 24-bit label of node \n",
    "#2 above and the label \"0 1 0 0 0 1 0 0 0 1 0 1 1 1 1 1 1 0 1 0 0 1 0 1\" is 3 \n",
    "(since they differ in the 3rd, 7th, and 21st bits).\n",
    "\n",
    "The question is: what is the largest value of k such that there is a k-clustering\n",
    "    with spacing at least 3? That is, how many clusters are needed to ensure that \n",
    "    no pair of nodes with all but 2 bits in common get split into different clusters? (\n",
    "    That is to say merge all vertices that have a Hamming distance less or equal to 2)"
   ]
  },
  {
   "cell_type": "code",
   "execution_count": 8,
   "metadata": {
    "collapsed": false
   },
   "outputs": [],
   "source": [
    "这道题的问题可以解释为：把所有Hamming Distance为0，1，2的点都聚合到一起，剩下多少个点？很自然地，\n",
    "利用Union Find，把距离为0，1，2的点都union到一起，剩下的节点数就是结果。"
   ]
  },
  {
   "cell_type": "code",
   "execution_count": 119,
   "metadata": {
    "collapsed": true
   },
   "outputs": [],
   "source": [
    "# idea source: http://m.blog.csdn.net/article/details?id=11859621"
   ]
  },
  {
   "cell_type": "code",
   "execution_count": 132,
   "metadata": {
    "collapsed": true
   },
   "outputs": [],
   "source": [
    "def invert(bit):\n",
    "    if bit != '0' and bit != '1':\n",
    "        raise ValueError\n",
    "    return '1' if bit == '0' else '0'\n",
    "\n",
    "def similar(v):\n",
    "    out = []\n",
    "    #out.append(v)\n",
    "    for i in range(len(v)):\n",
    "        out.append(v[:i]+invert(v[i]) + v[i+1:])\n",
    "        for j in range(i+1, len(v)):\n",
    "            out.append(v[:i]+invert(v[i])+v[i+1:j]+invert(v[j])+v[j+1:])\n",
    "    return out"
   ]
  },
  {
   "cell_type": "code",
   "execution_count": 133,
   "metadata": {
    "collapsed": false
   },
   "outputs": [],
   "source": [
    "vertices = [\"\".join(x.split(' ')) for x in open('./data/clustering_big.txt', 'r').read().split('\\n')[1:-1]]"
   ]
  },
  {
   "cell_type": "code",
   "execution_count": 134,
   "metadata": {
    "collapsed": false
   },
   "outputs": [
    {
     "data": {
      "text/plain": [
       "198788"
      ]
     },
     "execution_count": 134,
     "metadata": {},
     "output_type": "execute_result"
    }
   ],
   "source": [
    "v_set = set(vertices)\n",
    "v_list = list(v_set)\n",
    "len(v_set)"
   ]
  },
  {
   "cell_type": "code",
   "execution_count": 135,
   "metadata": {
    "collapsed": false
   },
   "outputs": [],
   "source": [
    "member = {}\n",
    "cluster = {}\n",
    "index = {}\n",
    "for i in range(len(v_set)):\n",
    "    member[i] = i\n",
    "    cluster[i] = set([i])\n",
    "    index[v_list[i]] = i"
   ]
  },
  {
   "cell_type": "code",
   "execution_count": null,
   "metadata": {
    "collapsed": false,
    "scrolled": true
   },
   "outputs": [],
   "source": [
    "\n",
    "for i in range(len(v_list)):\n",
    "    candidates = similar(v_list[i])\n",
    "    showup = []\n",
    "    for candidate in candidates:\n",
    "        if candidate in v_set:\n",
    "            showup.append(candidate)\n",
    "\n",
    "    for string in showup:\n",
    "        if len(cluster[member[index[v_list[i]]]]) >= len(cluster[member[index[string]]]):\n",
    "\n",
    "           cluster[member[index[v_list[i]]]] = cluster[member[index[v_list[i]]]] | cluster[member[index[string]]] \n",
    "           for v in cluster[member[index[string]]] :\n",
    "                member[v] = member[index[v_list[i]]] \n",
    "\n",
    "        else:\n",
    "           cluster[member[index[string]]] = cluster[member[index[string]]] | cluster[member[index[v_list[i]]]]\n",
    "           for v in cluster[member[index[v_list[i]]]]:\n",
    "                member[v] = member[index[string]]\n",
    "    if i%1000==0:\n",
    "        if i > 20000:\n",
    "          print len(cluster[member[index[v_list[i]]]]),  len(cluster[member[index[string]]])"
   ]
  },
  {
   "cell_type": "code",
   "execution_count": null,
   "metadata": {
    "collapsed": false
   },
   "outputs": [],
   "source": [
    "len(set([member[key] for key in member.keys()]))"
   ]
  },
  {
   "cell_type": "code",
   "execution_count": null,
   "metadata": {
    "collapsed": true
   },
   "outputs": [],
   "source": []
  }
 ],
 "metadata": {
  "kernelspec": {
   "display_name": "Python 2",
   "language": "python",
   "name": "python2"
  },
  "language_info": {
   "codemirror_mode": {
    "name": "ipython",
    "version": 2
   },
   "file_extension": ".py",
   "mimetype": "text/x-python",
   "name": "python",
   "nbconvert_exporter": "python",
   "pygments_lexer": "ipython2",
   "version": "2.7.12"
  }
 },
 "nbformat": 4,
 "nbformat_minor": 0
}
