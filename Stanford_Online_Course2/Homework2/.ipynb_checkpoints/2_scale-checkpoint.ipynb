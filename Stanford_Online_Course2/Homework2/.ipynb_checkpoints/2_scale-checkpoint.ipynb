{
 "cells": [
  {
   "cell_type": "code",
   "execution_count": 7,
   "metadata": {
    "collapsed": false
   },
   "outputs": [],
   "source": [
    "The distance between two nodes u and v in this problem is defined as the Hamming distance--- \n",
    "the number of differing bits --- between the two nodes' labels. \n",
    "For example, the Hamming distance between the 24-bit label of node \n",
    "#2 above and the label \"0 1 0 0 0 1 0 0 0 1 0 1 1 1 1 1 1 0 1 0 0 1 0 1\" is 3 \n",
    "(since they differ in the 3rd, 7th, and 21st bits).\n",
    "\n",
    "The question is: what is the largest value of k such that there is a k-clustering\n",
    "    with spacing at least 3? That is, how many clusters are needed to ensure that \n",
    "    no pair of nodes with all but 2 bits in common get split into different clusters? (\n",
    "    That is to say merge all vertices that have a Hamming distance less or equal to 2)"
   ]
  },
  {
   "cell_type": "code",
   "execution_count": 8,
   "metadata": {
    "collapsed": false
   },
   "outputs": [],
   "source": [
    "这道题的问题可以解释为：把所有Hamming Distance为0，1，2的点都聚合到一起，剩下多少个点？很自然地，\n",
    "利用Union Find，把距离为0，1，2的点都union到一起，剩下的节点数就是结果。"
   ]
  },
  {
   "cell_type": "code",
   "execution_count": null,
   "metadata": {
    "collapsed": true
   },
   "outputs": [],
   "source": [
    "# idea source: http://m.blog.csdn.net/article/details?id=11859621"
   ]
  },
  {
   "cell_type": "code",
   "execution_count": 15,
   "metadata": {
    "collapsed": false
   },
   "outputs": [],
   "source": [
    "vertices = [\"\".join(x.split(' ')) for x in open('./data/clustering_big.txt', 'r').read().split('\\n')[1:-1]]"
   ]
  },
  {
   "cell_type": "code",
   "execution_count": 18,
   "metadata": {
    "collapsed": false,
    "scrolled": true
   },
   "outputs": [
    {
     "data": {
      "text/plain": [
       "200000"
      ]
     },
     "execution_count": 18,
     "metadata": {},
     "output_type": "execute_result"
    }
   ],
   "source": [
    "len(vertices)"
   ]
  },
  {
   "cell_type": "code",
   "execution_count": 19,
   "metadata": {
    "collapsed": false,
    "scrolled": true
   },
   "outputs": [
    {
     "data": {
      "text/plain": [
       "198788"
      ]
     },
     "execution_count": 19,
     "metadata": {},
     "output_type": "execute_result"
    }
   ],
   "source": [
    "len(v_set)"
   ]
  },
  {
   "cell_type": "code",
   "execution_count": 22,
   "metadata": {
    "collapsed": true
   },
   "outputs": [],
   "source": [
    "v_set = set(vertices)\n",
    "v_list = list(v_set)\n"
   ]
  },
  {
   "cell_type": "code",
   "execution_count": 26,
   "metadata": {
    "collapsed": false
   },
   "outputs": [],
   "source": [
    "member = {}\n",
    "cluster = {}\n",
    "index = {}\n",
    "for i in range(len(v_set)):\n",
    "    member[i] = i\n",
    "    cluster[i] = set([i])\n",
    "    index[v_list[i]] = 0"
   ]
  },
  {
   "cell_type": "code",
   "execution_count": 25,
   "metadata": {
    "collapsed": true
   },
   "outputs": [],
   "source": [
    "candidates = similar(v_list[0])\n",
    "\n",
    "for candidate in candidates:\n",
    "    if candidate in v_set:\n",
    "        "
   ]
  },
  {
   "cell_type": "code",
   "execution_count": 24,
   "metadata": {
    "collapsed": true
   },
   "outputs": [],
   "source": [
    "def invert(bit):\n",
    "    if bit != '0' and bit != '1':\n",
    "        raise ValueError\n",
    "    return '1' if bit == '0' else '0'\n",
    "\n",
    "def similar(v):\n",
    "    out = []\n",
    "    for i in range(len(v)):\n",
    "        out.append(v[:i]+invert(v[i]) + v[i+1:])\n",
    "        for j in range(i+1, len(v)):\n",
    "            out.append(v[:i]+invert(v[i])+v[i+1:j]+invert(v[j])+v[j+1:])\n",
    "    return out"
   ]
  },
  {
   "cell_type": "code",
   "execution_count": 6,
   "metadata": {
    "collapsed": true
   },
   "outputs": [],
   "source": [
    "sim = similar(v1)"
   ]
  },
  {
   "cell_type": "code",
   "execution_count": 8,
   "metadata": {
    "collapsed": false
   },
   "outputs": [
    {
     "data": {
      "text/plain": [
       "300"
      ]
     },
     "execution_count": 8,
     "metadata": {},
     "output_type": "execute_result"
    }
   ],
   "source": [
    "len(sim)"
   ]
  },
  {
   "cell_type": "code",
   "execution_count": null,
   "metadata": {
    "collapsed": true
   },
   "outputs": [],
   "source": [
    "\n",
    "def similar(v):\n",
    "    out = []\n",
    "    for i in range(len(v)):\n",
    "        out.append(v[:i]+invert(v[i]) + v[i+1:])\n",
    "        for j in range(i+1, len(v)):\n",
    "            out.append(v[:i]+invert(v[i])+v[i+1:j]+invert(v[j])+v[j+1:])\n",
    "    return out\n",
    " \n",
    "heads = {}\n",
    "for v in vertices:\n",
    "    heads[v] = v\n",
    "clusters = len(heads) \n",
    "#print clusters\n",
    "for v in vertices:\n",
    "    v_head = heads[v]\n",
    "    while heads[v_head] != v_head:\n",
    "        v_head = heads[v_head]\n",
    "\n",
    "    for friend in similar(v):\n",
    "        if heads.get(friend):\n",
    "            head = heads[friend]\n",
    "            while heads[head] != head:\n",
    "                head = heads[head]\n",
    "            if v_head != head:\n",
    "                heads[head] = v_head\n",
    "                clusters -= 1\n",
    "print clusters"
   ]
  },
  {
   "cell_type": "code",
   "execution_count": null,
   "metadata": {
    "collapsed": true
   },
   "outputs": [],
   "source": []
  }
 ],
 "metadata": {
  "kernelspec": {
   "display_name": "Python 2",
   "language": "python",
   "name": "python2"
  },
  "language_info": {
   "codemirror_mode": {
    "name": "ipython",
    "version": 2
   },
   "file_extension": ".py",
   "mimetype": "text/x-python",
   "name": "python",
   "nbconvert_exporter": "python",
   "pygments_lexer": "ipython2",
   "version": "2.7.12"
  }
 },
 "nbformat": 4,
 "nbformat_minor": 0
}
