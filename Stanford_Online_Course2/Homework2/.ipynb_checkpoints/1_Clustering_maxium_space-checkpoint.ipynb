{
 "cells": [
  {
   "cell_type": "code",
   "execution_count": 43,
   "metadata": {
    "collapsed": false
   },
   "outputs": [],
   "source": [
    "filename=\"clustering_s.txt\"\n",
    "edges = []\n",
    "with open(\"./data/\"+filename) as f:\n",
    "    for i,line in enumerate(f):\n",
    "        if i>0:\n",
    "            tmp = line.strip().split()\n",
    "            edges.append((int(tmp[2]),int(tmp[0]),int(tmp[1])))"
   ]
  },
  {
   "cell_type": "code",
   "execution_count": 44,
   "metadata": {
    "collapsed": false
   },
   "outputs": [],
   "source": [
    "edges.sort(key=lambda x: (x[0]))"
   ]
  },
  {
   "cell_type": "code",
   "execution_count": 45,
   "metadata": {
    "collapsed": false
   },
   "outputs": [
    {
     "data": {
      "text/plain": [
       "[(1, 1, 2), (2, 2, 3), (2, 5, 6), (3, 4, 5), (4, 1, 6), (5, 3, 4)]"
      ]
     },
     "execution_count": 45,
     "metadata": {},
     "output_type": "execute_result"
    }
   ],
   "source": [
    "edges"
   ]
  },
  {
   "cell_type": "code",
   "execution_count": 46,
   "metadata": {
    "collapsed": false,
    "scrolled": false
   },
   "outputs": [],
   "source": [
    "vertices = set([v2 for edge in edges ] + [v2 for edge in edges ])\n"
   ]
  },
  {
   "cell_type": "code",
   "execution_count": 70,
   "metadata": {
    "collapsed": false
   },
   "outputs": [],
   "source": [
    "select = []\n",
    "cluster = {}\n",
    "member = {}\n",
    "for i in range(1,len(vertices)+1):\n",
    "    cluster[i] = i\n",
    "    member[i] = set([i])"
   ]
  },
  {
   "cell_type": "code",
   "execution_count": 71,
   "metadata": {
    "collapsed": false
   },
   "outputs": [
    {
     "name": "stdout",
     "output_type": "stream",
     "text": [
      "(1, 1, 2)\n",
      "{1: 1, 2: 1, 3: 3, 4: 4, 5: 5, 6: 6}\n",
      "[(1, 1, 2)]\n",
      "(2, 2, 3)\n",
      "{1: 1, 2: 1, 3: 1, 4: 4, 5: 5, 6: 6}\n",
      "[(1, 1, 2), (2, 2, 3)]\n",
      "(2, 5, 6)\n",
      "{1: 1, 2: 1, 3: 1, 4: 4, 5: 5, 6: 5}\n",
      "[(1, 1, 2), (2, 2, 3), (2, 5, 6)]\n",
      "(3, 4, 5)\n",
      "{1: 1, 2: 1, 3: 1, 4: 5, 5: 5, 6: 5}\n",
      "[(1, 1, 2), (2, 2, 3), (2, 5, 6), (3, 4, 5)]\n",
      "(4, 1, 6)\n",
      "{1: 5, 2: 1, 3: 1, 4: 5, 5: 5, 6: 5}\n",
      "[(1, 1, 2), (2, 2, 3), (2, 5, 6), (3, 4, 5), (4, 1, 6)]\n",
      "(5, 3, 4)\n",
      "{1: 5, 2: 1, 3: 5, 4: 5, 5: 5, 6: 5}\n",
      "[(1, 1, 2), (2, 2, 3), (2, 5, 6), (3, 4, 5), (4, 1, 6), (5, 3, 4)]\n"
     ]
    }
   ],
   "source": [
    "for edge in edges:\n",
    "    print edge\n",
    "\n",
    "    v1 = edge[1]\n",
    "    v2 = edge[2]\n",
    "    if cluster[v1] != cluster[v2]:\n",
    "        select.append(edge)\n",
    "        if len(member[cluster[v1]]) >= len(member[cluster[v2]]):\n",
    "            for v in member[v2]:\n",
    "                cluster[v2] = cluster[v1]\n",
    "            member[v1] = member[v1] | member[v2] \n",
    "            #del member[v2]\n",
    "        else:\n",
    "            for v in member[v1]:\n",
    "                cluster[v1] = cluster[v2]\n",
    "            member[v2] = member[v2] | member[v1]  \n",
    "            #del member[v1]\n",
    "    print cluster\n",
    "    print select"
   ]
  },
  {
   "cell_type": "code",
   "execution_count": 72,
   "metadata": {
    "collapsed": false
   },
   "outputs": [
    {
     "data": {
      "text/plain": [
       "{1: 5, 2: 1, 3: 5, 4: 5, 5: 5, 6: 5}"
      ]
     },
     "execution_count": 72,
     "metadata": {},
     "output_type": "execute_result"
    }
   ],
   "source": [
    "cluster"
   ]
  },
  {
   "cell_type": "code",
   "execution_count": 73,
   "metadata": {
    "collapsed": false
   },
   "outputs": [
    {
     "data": {
      "text/plain": [
       "{1: {1, 2}, 2: {2, 3}, 3: {3}, 4: {3, 4}, 5: {4, 5, 6}, 6: {1, 2, 6}}"
      ]
     },
     "execution_count": 73,
     "metadata": {},
     "output_type": "execute_result"
    }
   ],
   "source": [
    "member"
   ]
  },
  {
   "cell_type": "code",
   "execution_count": 34,
   "metadata": {
    "collapsed": true
   },
   "outputs": [],
   "source": [
    "a = a|b"
   ]
  },
  {
   "cell_type": "code",
   "execution_count": 35,
   "metadata": {
    "collapsed": false
   },
   "outputs": [
    {
     "data": {
      "text/plain": [
       "{1, 2, 3, 4}"
      ]
     },
     "execution_count": 35,
     "metadata": {},
     "output_type": "execute_result"
    }
   ],
   "source": [
    "a"
   ]
  }
 ],
 "metadata": {
  "kernelspec": {
   "display_name": "Python 2",
   "language": "python",
   "name": "python2"
  },
  "language_info": {
   "codemirror_mode": {
    "name": "ipython",
    "version": 2
   },
   "file_extension": ".py",
   "mimetype": "text/x-python",
   "name": "python",
   "nbconvert_exporter": "python",
   "pygments_lexer": "ipython2",
   "version": "2.7.12"
  }
 },
 "nbformat": 4,
 "nbformat_minor": 0
}
