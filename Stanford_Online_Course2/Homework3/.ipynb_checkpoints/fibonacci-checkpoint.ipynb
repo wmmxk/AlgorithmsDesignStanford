{
 "cells": [
  {
   "cell_type": "code",
   "execution_count": null,
   "metadata": {
    "collapsed": true
   },
   "outputs": [],
   "source": [
    "# DP: you store the solution to subproblems and check whether the subproblem has been solved or not every time"
   ]
  },
  {
   "cell_type": "code",
   "execution_count": 49,
   "metadata": {
    "collapsed": false
   },
   "outputs": [],
   "source": [
    "n =32\n",
    "res = [0]*n\n",
    "def fib(n):\n",
    "    if n==1 or n==2:\n",
    "        res[n-1] = 1\n",
    "    else:\n",
    "        if res[n-2] ==0:\n",
    "           res[n-2] = fib(n-1)\n",
    "        if res[n-3] ==0:\n",
    "            res[n-3] = fib(n-2)\n",
    "        \n",
    "        res[n-1] = res[n-2]+res[n-3]\n",
    "    return res[n-1]"
   ]
  },
  {
   "cell_type": "code",
   "execution_count": 50,
   "metadata": {
    "collapsed": false,
    "scrolled": true
   },
   "outputs": [
    {
     "data": {
      "text/plain": [
       "2178309"
      ]
     },
     "execution_count": 50,
     "metadata": {},
     "output_type": "execute_result"
    }
   ],
   "source": [
    "fib(n)"
   ]
  },
  {
   "cell_type": "code",
   "execution_count": 41,
   "metadata": {
    "collapsed": false
   },
   "outputs": [],
   "source": [
    "def fibRecurssion(n):\n",
    "    if n==1 or n==2:\n",
    "       return 1\n",
    "    else:\n",
    "       return fibRecurssion(n-1)+fibRecurssion(n-2)\n",
    "    "
   ]
  },
  {
   "cell_type": "code",
   "execution_count": 42,
   "metadata": {
    "collapsed": false
   },
   "outputs": [
    {
     "data": {
      "text/plain": [
       "9227465"
      ]
     },
     "execution_count": 42,
     "metadata": {},
     "output_type": "execute_result"
    }
   ],
   "source": [
    "fibRecurssion(n)"
   ]
  }
 ],
 "metadata": {
  "kernelspec": {
   "display_name": "Python 2",
   "language": "python",
   "name": "python2"
  },
  "language_info": {
   "codemirror_mode": {
    "name": "ipython",
    "version": 2
   },
   "file_extension": ".py",
   "mimetype": "text/x-python",
   "name": "python",
   "nbconvert_exporter": "python",
   "pygments_lexer": "ipython2",
   "version": "2.7.12"
  }
 },
 "nbformat": 4,
 "nbformat_minor": 0
}
