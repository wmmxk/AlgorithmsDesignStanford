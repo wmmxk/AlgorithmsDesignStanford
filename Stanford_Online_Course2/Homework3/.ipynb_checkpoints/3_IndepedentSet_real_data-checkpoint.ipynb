{
 "cells": [
  {
   "cell_type": "code",
   "execution_count": null,
   "metadata": {
    "collapsed": true
   },
   "outputs": [],
   "source": [
    "# when extract the elements selected, the critical point is the same as in MIS, beyond i>1, it follows a pattern\n",
    "  # but when i=1 or i=0, it follows another pattern.\n",
    "# The way you check the vertex in the S or not will fail if there are vertices that have equal weights"
   ]
  },
  {
   "cell_type": "code",
   "execution_count": 70,
   "metadata": {
    "collapsed": true
   },
   "outputs": [],
   "source": [
    "def read_file(filename):\n",
    "    w = []\n",
    "    with open(\"./data/\"+filename) as f:\n",
    "        for line in f:\n",
    "              w.append(int(line.strip()))\n",
    "        return w[1:]"
   ]
  },
  {
   "cell_type": "code",
   "execution_count": 71,
   "metadata": {
    "collapsed": false
   },
   "outputs": [],
   "source": [
    "ws = [1,6,3,2,4]\n",
    "#ws = read_file(\"mwis.txt\")\n",
    "A = [0]*len(ws)"
   ]
  },
  {
   "cell_type": "code",
   "execution_count": 72,
   "metadata": {
    "collapsed": true
   },
   "outputs": [],
   "source": [
    "def MIS(ws,n):\n",
    "    left = ws[:n]\n",
    "    if n == 2:\n",
    "        A[n-1] = max(left)\n",
    "    elif n==1:\n",
    "        A[n-1] = left[0]\n",
    "    else:\n",
    "        if A[n-2] ==0:\n",
    "           A[n-2] = MIS(ws,n-1)\n",
    "        if A[n-3] ==0:\n",
    "           A[n-3] = MIS(ws,n-2)\n",
    "        A[n-1] = max(A[n-2],A[n-3]+left[-1])\n",
    "    return A[n-1]"
   ]
  },
  {
   "cell_type": "code",
   "execution_count": 73,
   "metadata": {
    "collapsed": false,
    "scrolled": true
   },
   "outputs": [
    {
     "data": {
      "text/plain": [
       "2955353732"
      ]
     },
     "execution_count": 73,
     "metadata": {},
     "output_type": "execute_result"
    }
   ],
   "source": [
    "#ws = [6,1,3,8,4]\n",
    "ws = read_file(\"mwis.txt\")\n",
    "import sys\n",
    "sys.setrecursionlimit(len(ws)+100)\n",
    "A = [0]*len(ws)\n",
    "MIS(ws,len(ws))"
   ]
  },
  {
   "cell_type": "markdown",
   "metadata": {
    "collapsed": false
   },
   "source": [
    "S = set()\n",
    "for i in range(len(ws)-1,-1,-1):\n",
    "    if A[i-1] < A[i-2] + ws[i]:\n",
    "        S.add(ws[i])"
   ]
  },
  {
   "cell_type": "code",
   "execution_count": 75,
   "metadata": {
    "collapsed": false,
    "scrolled": true
   },
   "outputs": [
    {
     "name": "stdout",
     "output_type": "stream",
     "text": [
      "i 0\n"
     ]
    }
   ],
   "source": [
    "S = set()\n",
    "i = len(ws)-1\n",
    "while i>1: # beyond the third element in A , you can use the A[i-1] <= A[i-2] +ws[i] to decide\n",
    "    #print i\n",
    "    if A[i-1] <= A[i-2] + ws[i]:\n",
    "        S.add(ws[i])\n",
    "        i = i-2\n",
    "    else:\n",
    "        i -=1\n",
    "# At the beginning of the  last iteration of the while loop i can be 3,ending up with i=1\n",
    "# In the beginning of the last iteration, i can be 2, ending up with 1 or 0\n",
    "print \"i\",i\n",
    "if i == 1:\n",
    "    S.add(max(ws[:2]))\n",
    "else:\n",
    "    S.add(ws[0])\n",
    "\n",
    "#print S\n"
   ]
  },
  {
   "cell_type": "code",
   "execution_count": 80,
   "metadata": {
    "collapsed": false
   },
   "outputs": [],
   "source": [
    "checklist = [1, 2, 3, 4, 17, 117, 517,997]\n",
    "checklist = [i-1 for i in checklist]"
   ]
  },
  {
   "cell_type": "code",
   "execution_count": 81,
   "metadata": {
    "collapsed": false,
    "scrolled": false
   },
   "outputs": [
    {
     "data": {
      "text/plain": [
       "[1, 0, 1, 0, 0, 1, 1, 0]"
      ]
     },
     "execution_count": 81,
     "metadata": {},
     "output_type": "execute_result"
    }
   ],
   "source": [
    "# check whether there are duplicates or not\n",
    "import collections\n",
    "print [item for item, count in collections.Counter([1,2,3,1]).items() if count > 1]\n",
    "[1 if ws[i] in S else 0 for i in checklist]"
   ]
  },
  {
   "cell_type": "code",
   "execution_count": 79,
   "metadata": {
    "collapsed": false
   },
   "outputs": [
    {
     "name": "stdout",
     "output_type": "stream",
     "text": [
      "[1]\n"
     ]
    }
   ],
   "source": []
  }
 ],
 "metadata": {
  "kernelspec": {
   "display_name": "Python 2",
   "language": "python",
   "name": "python2"
  },
  "language_info": {
   "codemirror_mode": {
    "name": "ipython",
    "version": 2
   },
   "file_extension": ".py",
   "mimetype": "text/x-python",
   "name": "python",
   "nbconvert_exporter": "python",
   "pygments_lexer": "ipython2",
   "version": "2.7.13"
  }
 },
 "nbformat": 4,
 "nbformat_minor": 0
}
