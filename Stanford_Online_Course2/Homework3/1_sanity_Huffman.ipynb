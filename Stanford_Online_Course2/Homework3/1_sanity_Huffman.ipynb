{
 "cells": [
  {
   "cell_type": "code",
   "execution_count": 81,
   "metadata": {
    "collapsed": false
   },
   "outputs": [],
   "source": [
    "class Node(object):\n",
    "     def __init__(self,key=1,content=None,weight=None):\n",
    "         self.key = key\n",
    "         self.left,self.right = None, None\n",
    "         self.content, self.weight = content, weight\n",
    "     def __repr__(self):\n",
    "         return \"node_\"+str(self.content)"
   ]
  },
  {
   "cell_type": "code",
   "execution_count": 104,
   "metadata": {
    "collapsed": false
   },
   "outputs": [],
   "source": [
    "weights =[11,7,6,4,3,2]\n",
    "nodes = [Node(content=i,weight=w) for i,w in enumerate(weights)]\n",
    "nodes.sort(key = lambda x: x.weight)"
   ]
  },
  {
   "cell_type": "code",
   "execution_count": 105,
   "metadata": {
    "collapsed": false
   },
   "outputs": [
    {
     "data": {
      "text/plain": [
       "[node_5, node_4, node_3, node_2, node_1, node_0]"
      ]
     },
     "execution_count": 105,
     "metadata": {},
     "output_type": "execute_result"
    }
   ],
   "source": [
    "nodes"
   ]
  },
  {
   "cell_type": "code",
   "execution_count": 106,
   "metadata": {
    "collapsed": false
   },
   "outputs": [],
   "source": [
    "def Merge(A,B):\n",
    "    AB = Node(weight=A.weight+B.weight)\n",
    "    A.key = 0\n",
    "    AB.left, AB.right = A, B\n",
    "    return AB"
   ]
  },
  {
   "cell_type": "code",
   "execution_count": 107,
   "metadata": {
    "collapsed": false
   },
   "outputs": [],
   "source": [
    "def Huffman(nodes):\n",
    "    alphabet = nodes\n",
    "    while (len(alphabet)>1):\n",
    "        tmp = Merge(alpha[0],alpha[1])\n",
    "        alphabet.append(tmp)\n",
    "        alphabet = alphabet[2:]\n",
    "        alphabet.sort(key = lambda x: x.weight)"
   ]
  },
  {
   "cell_type": "code",
   "execution_count": 108,
   "metadata": {
    "collapsed": false
   },
   "outputs": [],
   "source": [
    "alphabet = nodes\n",
    "while (len(alphabet)>1):\n",
    "    tmp = Merge(alphabet[0],alphabet[1])\n",
    "    alphabet.append(tmp)\n",
    "    alphabet = alphabet[2:]\n",
    "    alphabet.sort(key = lambda x: x.weight)"
   ]
  },
  {
   "cell_type": "code",
   "execution_count": 121,
   "metadata": {
    "collapsed": true
   },
   "outputs": [],
   "source": [
    "def traverse(rootnode):\n",
    "  thislevel = [rootnode]\n",
    "  depth = 0\n",
    "  while thislevel:\n",
    "    nextlevel = list()\n",
    "    for n in thislevel:\n",
    "      #print n.weight\n",
    "      if n.left: nextlevel.append(n.left)\n",
    "      if n.right: nextlevel.append(n.right)\n",
    "    thislevel = nextlevel\n",
    "    depth +=1\n",
    "  return depth\n",
    "        "
   ]
  },
  {
   "cell_type": "code",
   "execution_count": 122,
   "metadata": {
    "collapsed": false
   },
   "outputs": [
    {
     "data": {
      "text/plain": [
       "5"
      ]
     },
     "execution_count": 122,
     "metadata": {},
     "output_type": "execute_result"
    }
   ],
   "source": [
    "traverse(tmp)"
   ]
  }
 ],
 "metadata": {
  "kernelspec": {
   "display_name": "Python 2",
   "language": "python",
   "name": "python2"
  },
  "language_info": {
   "codemirror_mode": {
    "name": "ipython",
    "version": 2
   },
   "file_extension": ".py",
   "mimetype": "text/x-python",
   "name": "python",
   "nbconvert_exporter": "python",
   "pygments_lexer": "ipython2",
   "version": "2.7.13"
  }
 },
 "nbformat": 4,
 "nbformat_minor": 0
}
