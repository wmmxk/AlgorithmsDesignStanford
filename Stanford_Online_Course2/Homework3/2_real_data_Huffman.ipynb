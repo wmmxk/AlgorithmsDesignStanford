{
 "cells": [
  {
   "cell_type": "code",
   "execution_count": 1,
   "metadata": {
    "collapsed": true
   },
   "outputs": [],
   "source": [
    "# procedure:\n",
    "#1. put each letter in a Node (Node is a class), so each letter can be connected to other nodes\n",
    "    # as it has a left and right properties\n",
    "#2. define basic operations: merge two nodes\n",
    "\n",
    "#3. the body of the Huffman, while loop. The while loop is composed of three parts:\n",
    "    #3.1. merge; 3.2. update and sort the alphabet\n",
    "    \n",
    "# the minimum length of codeword is short, no need to minus 1 but the maximum is depth -1"
   ]
  },
  {
   "cell_type": "code",
   "execution_count": 1,
   "metadata": {
    "collapsed": true
   },
   "outputs": [],
   "source": [
    "def read_file(filename):\n",
    "    w = []\n",
    "    with open(\"./data/\"+filename) as f:\n",
    "        for line in f:\n",
    "              w.append(int(line.strip()))\n",
    "        return w[1:]"
   ]
  },
  {
   "cell_type": "code",
   "execution_count": 2,
   "metadata": {
    "collapsed": false
   },
   "outputs": [],
   "source": [
    "class Node(object):\n",
    "     def __init__(self,key=1,content=None,weight=None):\n",
    "         self.key = key\n",
    "         self.left,self.right = None, None\n",
    "         self.content, self.weight = content, weight\n",
    "     def __repr__(self):\n",
    "         return \"node_\"+str(self.content)"
   ]
  },
  {
   "cell_type": "code",
   "execution_count": 3,
   "metadata": {
    "collapsed": false
   },
   "outputs": [],
   "source": [
    "def Merge(A,B):\n",
    "    AB = Node(weight=A.weight+B.weight)\n",
    "    A.key = 0\n",
    "    AB.left, AB.right = A, B\n",
    "    return AB"
   ]
  },
  {
   "cell_type": "code",
   "execution_count": 4,
   "metadata": {
    "collapsed": false
   },
   "outputs": [],
   "source": [
    "def Huffman(nodes):\n",
    "    alphabet = nodes\n",
    "    while (len(alphabet)>1):\n",
    "        tmp = Merge(alphabet[0],alphabet[1])\n",
    "        alphabet.append(tmp)\n",
    "        alphabet = alphabet[2:]\n",
    "        alphabet.sort(key = lambda x: x.weight)\n",
    "    return tmp"
   ]
  },
  {
   "cell_type": "code",
   "execution_count": 9,
   "metadata": {
    "collapsed": true
   },
   "outputs": [],
   "source": [
    "def traverse(rootnode):\n",
    "  thislevel = [rootnode]\n",
    "  depth = 0\n",
    "  first = True\n",
    "  while thislevel:\n",
    "    nextlevel = list()\n",
    "    for n in thislevel:\n",
    "      if first and n.left == None and n.right == None:\n",
    "        short = depth\n",
    "        first = False\n",
    "      #print n.weight\n",
    "      if n.left: nextlevel.append(n.left)\n",
    "      if n.right: nextlevel.append(n.right)\n",
    "    thislevel = nextlevel\n",
    "    depth +=1\n",
    "  return short,depth-1\n",
    "        "
   ]
  },
  {
   "cell_type": "code",
   "execution_count": 11,
   "metadata": {
    "collapsed": false,
    "scrolled": true
   },
   "outputs": [
    {
     "data": {
      "text/plain": [
       "(9, 19)"
      ]
     },
     "execution_count": 11,
     "metadata": {},
     "output_type": "execute_result"
    }
   ],
   "source": [
    "weights =[11,7,6,4,3,2]\n",
    "weights = read_file(\"huffman.txt\")\n",
    "nodes = [Node(content=i,weight=w) for i,w in enumerate(weights)]\n",
    "nodes.sort(key = lambda x: x.weight)\n",
    "res = Huffman(nodes)\n",
    "traverse(res)"
   ]
  },
  {
   "cell_type": "code",
   "execution_count": null,
   "metadata": {
    "collapsed": true
   },
   "outputs": [],
   "source": []
  }
 ],
 "metadata": {
  "kernelspec": {
   "display_name": "Python 2",
   "language": "python",
   "name": "python2"
  },
  "language_info": {
   "codemirror_mode": {
    "name": "ipython",
    "version": 2
   },
   "file_extension": ".py",
   "mimetype": "text/x-python",
   "name": "python",
   "nbconvert_exporter": "python",
   "pygments_lexer": "ipython2",
   "version": "2.7.13"
  }
 },
 "nbformat": 4,
 "nbformat_minor": 0
}
