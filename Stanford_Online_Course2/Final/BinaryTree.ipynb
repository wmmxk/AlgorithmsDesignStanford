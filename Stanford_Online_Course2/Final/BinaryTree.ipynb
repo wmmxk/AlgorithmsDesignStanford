{
 "cells": [
  {
   "cell_type": "code",
   "execution_count": 2,
   "metadata": {
    "collapsed": false
   },
   "outputs": [
    {
     "name": "stdout",
     "output_type": "stream",
     "text": [
      "2.23\n"
     ]
    }
   ],
   "source": [
    "import numpy as np\n",
    "\n",
    "# calculate the average search time of bianry search tree\n",
    "def calOBS(w):\n",
    "    n = len(w)\n",
    "    m = np.zeros([n,n])\n",
    "    for s in np.arange(n):\n",
    "        for i in np.arange(n-s):\n",
    "            temp = np.zeros(s+1)\n",
    "            for j in np.arange(s+1):\n",
    "                r = i+j\n",
    "                up = min([n-1,i+s])\n",
    "                temp[j] = sum(w[i:up+1])\n",
    "                if i<=r-1:\n",
    "                    temp[j] += m[i,r-1]\n",
    "                if i+s<n and r+1<= i+s:\n",
    "                    temp[j] += m[r+1,i+s]\n",
    "            m[i,i+s]=min(temp)\n",
    "    return m[0,-1]\n",
    "\n",
    "\n",
    "\n",
    "weight = [0.2,0.05,0.17,0.1,0.2,0.03,0.25]\n",
    "#weight = [0.05,0.4,0.08,0.04,0.1,0.1,0.23]\n",
    "print calOBS(weight)"
   ]
  }
 ],
 "metadata": {
  "kernelspec": {
   "display_name": "Python 2",
   "language": "python",
   "name": "python2"
  },
  "language_info": {
   "codemirror_mode": {
    "name": "ipython",
    "version": 2
   },
   "file_extension": ".py",
   "mimetype": "text/x-python",
   "name": "python",
   "nbconvert_exporter": "python",
   "pygments_lexer": "ipython2",
   "version": "2.7.13"
  }
 },
 "nbformat": 4,
 "nbformat_minor": 2
}
