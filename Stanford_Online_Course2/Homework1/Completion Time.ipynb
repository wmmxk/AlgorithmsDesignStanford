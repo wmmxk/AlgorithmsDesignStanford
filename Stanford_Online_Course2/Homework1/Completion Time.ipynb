{
 "cells": [
  {
   "cell_type": "code",
   "execution_count": 2,
   "metadata": {
    "collapsed": true
   },
   "outputs": [],
   "source": [
    "def getWL(filename):\n",
    "    ws = []\n",
    "    ls = []\n",
    "    with open(\"./data/\"+filename) as f:\n",
    "        for i,line in enumerate(f):\n",
    "            if i != 0:\n",
    "                w_l = line.strip().split()\n",
    "                ws.append(float(w_l[0]))\n",
    "                ls.append(float(w_l[1]))\n",
    "    return ws,ls"
   ]
  },
  {
   "cell_type": "code",
   "execution_count": 27,
   "metadata": {
    "collapsed": true
   },
   "outputs": [],
   "source": [
    "ws,ls = getWL(\"jobs.txt\")"
   ]
  },
  {
   "cell_type": "code",
   "execution_count": 28,
   "metadata": {
    "collapsed": false
   },
   "outputs": [
    {
     "name": "stdout",
     "output_type": "stream",
     "text": [
      "69119377652.0\n"
     ]
    }
   ],
   "source": [
    "dif_w_l = [(w-l,w,l) for w,l in zip(ws,ls)]\n",
    "\n",
    "dif_w_l.sort(key = lambda x: (-x[0],-x[1]))\n",
    "\n",
    "ws = [x[1] for x in dif_w_l]\n",
    "ls = [x[2] for x in dif_w_l]\n",
    "cs = [sum(ls[:i]) for i in range(1,len(ws)+1)]\n",
    "total = sum([c*w for c,w in zip(cs,ws)])\n",
    "print total"
   ]
  },
  {
   "cell_type": "code",
   "execution_count": 29,
   "metadata": {
    "collapsed": false
   },
   "outputs": [
    {
     "name": "stdout",
     "output_type": "stream",
     "text": [
      "67311454237.0\n"
     ]
    }
   ],
   "source": [
    "dif_w_l = [(w/l,w,l) for w,l in zip(ws,ls)]\n",
    "\n",
    "dif_w_l.sort(key = lambda x: (-x[0],-x[1]))\n",
    "\n",
    "ws = [x[1] for x in dif_w_l]\n",
    "ls = [x[2] for x in dif_w_l]\n",
    "cs = [sum(ls[:i]) for i in range(1,len(ws)+1)]\n",
    "total = sum([c*w for c,w in zip(cs,ws)])\n",
    "print total"
   ]
  },
  {
   "cell_type": "code",
   "execution_count": 21,
   "metadata": {
    "collapsed": false
   },
   "outputs": [],
   "source": []
  },
  {
   "cell_type": "code",
   "execution_count": 22,
   "metadata": {
    "collapsed": false
   },
   "outputs": [
    {
     "data": {
      "text/plain": [
       "97999394671.0"
      ]
     },
     "execution_count": 22,
     "metadata": {},
     "output_type": "execute_result"
    }
   ],
   "source": [
    "total"
   ]
  }
 ],
 "metadata": {
  "kernelspec": {
   "display_name": "Python 2",
   "language": "python",
   "name": "python2"
  },
  "language_info": {
   "codemirror_mode": {
    "name": "ipython",
    "version": 2
   },
   "file_extension": ".py",
   "mimetype": "text/x-python",
   "name": "python",
   "nbconvert_exporter": "python",
   "pygments_lexer": "ipython2",
   "version": "2.7.12"
  }
 },
 "nbformat": 4,
 "nbformat_minor": 0
}
