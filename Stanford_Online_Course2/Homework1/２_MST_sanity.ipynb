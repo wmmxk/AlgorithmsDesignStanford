{
 "cells": [
  {
   "cell_type": "code",
   "execution_count": null,
   "metadata": {
    "collapsed": true
   },
   "outputs": [],
   "source": [
    "# Your heap does not support delete so still o(mn)\n",
    "# how to deal the first iteration more elegantly"
   ]
  },
  {
   "cell_type": "code",
   "execution_count": null,
   "metadata": {
    "collapsed": true
   },
   "outputs": [],
   "source": [
    "# source of data for development:\n",
    "https://www.cs.princeton.edu/~rs/AlgsDS07/14MST.pdf"
   ]
  },
  {
   "cell_type": "code",
   "execution_count": 19,
   "metadata": {
    "collapsed": false
   },
   "outputs": [],
   "source": [
    "from collections import defaultdict\n",
    "G = defaultdict(set)\n",
    "filename=\"edges_sanity.txt\"\n",
    "with open(\"./data/\"+filename) as f:\n",
    "    for i,line in enumerate(f):\n",
    "        if i != 0:\n",
    "            u_v_e = line.strip().split()\n",
    "            G[int(u_v_e[0])].add((int(u_v_e[1]),float(u_v_e[2])))\n",
    "            G[int(u_v_e[1])].add((int(u_v_e[0]),float(u_v_e[2])))"
   ]
  },
  {
   "cell_type": "code",
   "execution_count": 39,
   "metadata": {
    "collapsed": true
   },
   "outputs": [],
   "source": [
    "from collections import defaultdict\n",
    "G = defaultdict(dict)\n",
    "filename=\"edges_sanity.txt\"\n",
    "with open(\"./data/\"+filename) as f:\n",
    "    for i,line in enumerate(f):\n",
    "        if i != 0:\n",
    "            u_v_e = line.strip().split()\n",
    "            G[int(u_v_e[0])][int(u_v_e[1])] = float(u_v_e[2])\n",
    "            G[int(u_v_e[1])][int(u_v_e[0])] = float(u_v_e[2])"
   ]
  },
  {
   "cell_type": "code",
   "execution_count": 40,
   "metadata": {
    "collapsed": false,
    "scrolled": true
   },
   "outputs": [
    {
     "data": {
      "text/plain": [
       "[0, 1, 2, 3, 4, 5, 6, 7]"
      ]
     },
     "execution_count": 40,
     "metadata": {},
     "output_type": "execute_result"
    }
   ],
   "source": [
    "G.keys()"
   ]
  },
  {
   "cell_type": "code",
   "execution_count": 41,
   "metadata": {
    "collapsed": false
   },
   "outputs": [],
   "source": [
    "from heapq import heapify,heappush,heappop"
   ]
  },
  {
   "cell_type": "code",
   "execution_count": 86,
   "metadata": {
    "collapsed": false,
    "scrolled": true
   },
   "outputs": [],
   "source": [
    "F = set([0])\n",
    "E = []\n",
    "\n",
    "key_v = [(float('inf'),i) for i in range(1,len(G))]\n",
    "heapify(key_v)\n",
    "v_key = [(i,float('inf')) for i in range(1,len(G))]\n",
    "v_key = dict(v_key)"
   ]
  },
  {
   "cell_type": "code",
   "execution_count": 87,
   "metadata": {
    "collapsed": false,
    "scrolled": true
   },
   "outputs": [
    {
     "name": "stdout",
     "output_type": "stream",
     "text": [
      "{0: 0.29}\n",
      "source 0 end 2\n",
      "{0: 0.31}\n",
      "source 0 end 7\n",
      "{0: 0.32, 7: 0.21}\n",
      "source 7 end 1\n",
      "{0: 0.51, 7: 0.25}\n",
      "source 7 end 6\n",
      "{6: 0.51, 7: 0.46}\n",
      "source 7 end 4\n",
      "{4: 0.34}\n",
      "source 4 end 3\n",
      "{0: 0.6, 3: 0.18, 4: 0.4}\n",
      "source 3 end 5\n"
     ]
    }
   ],
   "source": [
    "First = True\n",
    "while len(F) < len(G):\n",
    "    if First:\n",
    "        newv = 0\n",
    "        for w in G[newv].keys():\n",
    "            if w not in F:\n",
    "               # print key_v\n",
    "                key_v.remove((v_key[w],w))\n",
    "                v_key[w] = min(v_key[w],G[newv][w])\n",
    "                key_v.append((v_key[w],w))\n",
    "                heapify(key_v)\n",
    "        First = False\n",
    "    else:\n",
    "        \n",
    "        key, newv = heappop(key_v)\n",
    "        F.add(newv)\n",
    "\n",
    "        tmp = dict([(i,j) for i,j in G[newv].items() if i in F])\n",
    "        print tmp\n",
    "        source = min(tmp, key = tmp.get)\n",
    "        E.append((source,newv))\n",
    "\n",
    "        print \"source\",source,\"end\",newv\n",
    "        for w in G[newv].keys():\n",
    "            if w not in F:\n",
    "               # print key_v\n",
    "                key_v.remove((v_key[w],w))\n",
    "\n",
    "                v_key[w] = min(v_key[w],G[newv][w])\n",
    "\n",
    "                key_v.append((v_key[w],w))\n",
    "\n",
    "                heapify(key_v)\n",
    "\n"
   ]
  },
  {
   "cell_type": "code",
   "execution_count": 88,
   "metadata": {
    "collapsed": false
   },
   "outputs": [
    {
     "data": {
      "text/plain": [
       "[(0, 2), (0, 7), (7, 1), (7, 6), (7, 4), (4, 3), (3, 5)]"
      ]
     },
     "execution_count": 88,
     "metadata": {},
     "output_type": "execute_result"
    }
   ],
   "source": [
    "E"
   ]
  }
 ],
 "metadata": {
  "kernelspec": {
   "display_name": "Python 2",
   "language": "python",
   "name": "python2"
  },
  "language_info": {
   "codemirror_mode": {
    "name": "ipython",
    "version": 2
   },
   "file_extension": ".py",
   "mimetype": "text/x-python",
   "name": "python",
   "nbconvert_exporter": "python",
   "pygments_lexer": "ipython2",
   "version": "2.7.12"
  }
 },
 "nbformat": 4,
 "nbformat_minor": 0
}
