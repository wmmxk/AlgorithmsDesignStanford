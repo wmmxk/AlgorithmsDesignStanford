{
 "cells": [
  {
   "cell_type": "code",
   "execution_count": null,
   "metadata": {
    "collapsed": true
   },
   "outputs": [],
   "source": [
    "# Your heap does not support delete so still o(mn)\n",
    "# how to deal the first iteration more elegantly"
   ]
  },
  {
   "cell_type": "code",
   "execution_count": null,
   "metadata": {
    "collapsed": true
   },
   "outputs": [],
   "source": [
    "# F: store the frontier nodes\n",
    "# E: store the edges in the MST\n",
    "# v_key: store the (vertice,shortest edge indicent to this vertice)"
   ]
  },
  {
   "cell_type": "code",
   "execution_count": null,
   "metadata": {
    "collapsed": true
   },
   "outputs": [],
   "source": [
    "# the newv must be reachable from a visited vertices because it is unvisited, the key is infinity\n",
    "key, newv = heappop(key_v)\n",
    "F.add(newv)\n",
    "\n",
    "tmp = dict([(i,j) for i,j in G[newv].items() if i in F])"
   ]
  },
  {
   "cell_type": "code",
   "execution_count": null,
   "metadata": {
    "collapsed": true
   },
   "outputs": [],
   "source": [
    "# source of data for development:\n",
    "https://www.cs.princeton.edu/~rs/AlgsDS07/14MST.pdf"
   ]
  },
  {
   "cell_type": "code",
   "execution_count": 15,
   "metadata": {
    "collapsed": true
   },
   "outputs": [],
   "source": [
    "def create_G(filename):\n",
    "    from collections import defaultdict\n",
    "    G = defaultdict(dict)\n",
    "    with open(\"./data/\"+filename) as f:\n",
    "        for i,line in enumerate(f):\n",
    "            if i != 0:\n",
    "                u_v_e = line.strip().split()\n",
    "                G[int(u_v_e[0])][int(u_v_e[1])] = float(u_v_e[2])\n",
    "                G[int(u_v_e[1])][int(u_v_e[0])] = float(u_v_e[2])\n",
    "    return G"
   ]
  },
  {
   "cell_type": "code",
   "execution_count": 18,
   "metadata": {
    "collapsed": false,
    "scrolled": true
   },
   "outputs": [],
   "source": [
    "def Prims(G):\n",
    "    \n",
    "    cost = 0\n",
    "    \n",
    "    from heapq import heapify,heappush,heappop\n",
    "    F = set([0])\n",
    "    E = []\n",
    "    key_v = [(float('inf'),i) for i in range(1,len(G))]\n",
    "    heapify(key_v)\n",
    "    v_key = [(i,float('inf')) for i in range(1,len(G))]\n",
    "    v_key = dict(v_key)\n",
    "    \n",
    "    # first iteration\n",
    "    newv = 0\n",
    "    for w in G[newv].keys():\n",
    "        if w not in F:\n",
    "           # print key_v\n",
    "            key_v.remove((v_key[w],w))\n",
    "            v_key[w] = min(v_key[w],G[newv][w])\n",
    "            key_v.append((v_key[w],w))\n",
    "            heapify(key_v)\n",
    "# while loop       \n",
    "    while len(F) < len(G):    \n",
    "        key, newv = heappop(key_v)\n",
    "        F.add(newv)\n",
    "\n",
    "        tmp = dict([(i,j) for i,j in G[newv].items() if i in F])\n",
    "       # print tmp\n",
    "        source = min(tmp, key = tmp.get)\n",
    "        E.append((source,newv))\n",
    "        cost += G[source][newv]\n",
    "        \n",
    "        print \"source\",source,\"end\",newv\n",
    "        for w in G[newv].keys():\n",
    "            if w not in F:\n",
    "               # print key_v\n",
    "                key_v.remove((v_key[w],w))\n",
    "\n",
    "                v_key[w] = min(v_key[w],G[newv][w])\n",
    "\n",
    "                key_v.append((v_key[w],w))\n",
    "\n",
    "                heapify(key_v)\n",
    "    return F,E,cost\n"
   ]
  },
  {
   "cell_type": "code",
   "execution_count": 21,
   "metadata": {
    "collapsed": false,
    "scrolled": true
   },
   "outputs": [
    {
     "name": "stdout",
     "output_type": "stream",
     "text": [
      "source 0 end 2\n",
      "source 0 end 7\n",
      "source 7 end 1\n",
      "source 7 end 6\n",
      "source 7 end 4\n",
      "source 4 end 3\n",
      "source 3 end 5\n"
     ]
    }
   ],
   "source": [
    "G = create_G(\"edges_sanity.txt\")\n",
    "F, E, cost = Prims(G)\n"
   ]
  },
  {
   "cell_type": "code",
   "execution_count": null,
   "metadata": {
    "collapsed": true
   },
   "outputs": [],
   "source": [
    "E"
   ]
  },
  {
   "cell_type": "code",
   "execution_count": 8,
   "metadata": {
    "collapsed": false
   },
   "outputs": [
    {
     "data": {
      "text/plain": [
       "2.04"
      ]
     },
     "execution_count": 8,
     "metadata": {},
     "output_type": "execute_result"
    }
   ],
   "source": [
    "cost"
   ]
  }
 ],
 "metadata": {
  "kernelspec": {
   "display_name": "Python 2",
   "language": "python",
   "name": "python2"
  },
  "language_info": {
   "codemirror_mode": {
    "name": "ipython",
    "version": 2
   },
   "file_extension": ".py",
   "mimetype": "text/x-python",
   "name": "python",
   "nbconvert_exporter": "python",
   "pygments_lexer": "ipython2",
   "version": "2.7.12"
  }
 },
 "nbformat": 4,
 "nbformat_minor": 0
}
