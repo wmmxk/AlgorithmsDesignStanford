{
 "cells": [
  {
   "cell_type": "code",
   "execution_count": null,
   "metadata": {
    "collapsed": true
   },
   "outputs": [],
   "source": [
    "# different from sanity data, the vertices in the real graph starts from 1 to 500"
   ]
  },
  {
   "cell_type": "code",
   "execution_count": 9,
   "metadata": {
    "collapsed": true
   },
   "outputs": [],
   "source": [
    "def create_G(filename):\n",
    "    from collections import defaultdict\n",
    "    G = defaultdict(dict)\n",
    "    with open(\"./data/\"+filename) as f:\n",
    "        for i,line in enumerate(f):\n",
    "            if i != 0:\n",
    "                u_v_e = line.strip().split()\n",
    "                G[int(u_v_e[0])][int(u_v_e[1])] = float(u_v_e[2])\n",
    "                G[int(u_v_e[1])][int(u_v_e[0])] = float(u_v_e[2])\n",
    "    return G"
   ]
  },
  {
   "cell_type": "code",
   "execution_count": 27,
   "metadata": {
    "collapsed": false,
    "scrolled": true
   },
   "outputs": [],
   "source": [
    "def Prims(G):\n",
    "    \n",
    "    cost = 0\n",
    "    \n",
    "    from heapq import heapify,heappush,heappop\n",
    "    F = set([1])\n",
    "    E = []\n",
    "    key_v = [(float('inf'),i) for i in range(1,len(G)+1)]\n",
    "    heapify(key_v)\n",
    "    v_key = [(i,float('inf')) for i in range(1,len(G)+1)]\n",
    "    v_key = dict(v_key)\n",
    "    \n",
    "    # first iteration\n",
    "    newv = 1\n",
    "    for w in G[newv].keys():\n",
    "        if w not in F:\n",
    "           # print key_v\n",
    "            key_v.remove((v_key[w],w))\n",
    "            v_key[w] = min(v_key[w],G[newv][w])\n",
    "            key_v.append((v_key[w],w))\n",
    "            heapify(key_v)\n",
    "# while loop       \n",
    "    while len(F) < len(G):    \n",
    "        key, newv = heappop(key_v)\n",
    "        F.add(newv)\n",
    "\n",
    "        tmp = dict([(i,j) for i,j in G[newv].items() if i in F])\n",
    "\n",
    "        source = min(tmp, key = tmp.get)\n",
    "        E.append((source,newv))\n",
    "        cost += G[source][newv]\n",
    "    \n",
    "        for w in G[newv].keys():\n",
    "            if w not in F:\n",
    "                \n",
    "    \n",
    "                key_v.remove((v_key[w],w))\n",
    "\n",
    "                v_key[w] = min(v_key[w],G[newv][w])\n",
    "\n",
    "                key_v.append((v_key[w],w))\n",
    "\n",
    "                heapify(key_v)\n",
    "    return F,E,cost\n"
   ]
  },
  {
   "cell_type": "code",
   "execution_count": 28,
   "metadata": {
    "collapsed": false,
    "scrolled": false
   },
   "outputs": [],
   "source": [
    "G = create_G(\"edges.txt\")\n",
    "F, E, cost = Prims(G)\n"
   ]
  },
  {
   "cell_type": "code",
   "execution_count": 29,
   "metadata": {
    "collapsed": false
   },
   "outputs": [
    {
     "data": {
      "text/plain": [
       "-3612829.0"
      ]
     },
     "execution_count": 29,
     "metadata": {},
     "output_type": "execute_result"
    }
   ],
   "source": [
    "cost"
   ]
  },
  {
   "cell_type": "code",
   "execution_count": 8,
   "metadata": {
    "collapsed": false
   },
   "outputs": [
    {
     "data": {
      "text/plain": [
       "2.04"
      ]
     },
     "execution_count": 8,
     "metadata": {},
     "output_type": "execute_result"
    }
   ],
   "source": [
    "cost"
   ]
  }
 ],
 "metadata": {
  "kernelspec": {
   "display_name": "Python 2",
   "language": "python",
   "name": "python2"
  },
  "language_info": {
   "codemirror_mode": {
    "name": "ipython",
    "version": 2
   },
   "file_extension": ".py",
   "mimetype": "text/x-python",
   "name": "python",
   "nbconvert_exporter": "python",
   "pygments_lexer": "ipython2",
   "version": "2.7.12"
  }
 },
 "nbformat": 4,
 "nbformat_minor": 0
}
