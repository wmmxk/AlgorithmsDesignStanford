{
 "cells": [
  {
   "cell_type": "code",
   "execution_count": 8,
   "metadata": {
    "collapsed": false,
    "scrolled": true
   },
   "outputs": [],
   "source": [
    "v=[3,2,4,4]\n",
    "w=[4,3,2,3]\n",
    "c=6\n"
   ]
  },
  {
   "cell_type": "code",
   "execution_count": 42,
   "metadata": {
    "collapsed": true
   },
   "outputs": [],
   "source": [
    "def knapsack(v,w,c):\n",
    "    t = [[0]*(len(w)+1) for i in range(c+1)]\n",
    "    for r in range(1,c+1):\n",
    "        for i in range(len(w)):\n",
    "\n",
    "          #  print \"r\",r,\"i\",i\n",
    "            if w[i] > r:\n",
    "                t[r][i+1] = t[r][i]\n",
    "            else:\n",
    "                t[r][i+1] = max(t[r][i],t[r-w[i]][i]+v[i])\n",
    "\n",
    "    # get the index of selected items:\n",
    "    r = c\n",
    "    index = []\n",
    "    for i in range(len(w),0,-1):\n",
    "        if w[i-1] < r:\n",
    "            if t[r][i] != t[r][i-1]:\n",
    "                index.append(i-1)\n",
    "                r = r - w[i-1]\n",
    "    print \"The optimal weight and index of item selected are returned\"\n",
    "    return t[c][len(w)],index"
   ]
  },
  {
   "cell_type": "code",
   "execution_count": 43,
   "metadata": {
    "collapsed": false
   },
   "outputs": [
    {
     "name": "stdout",
     "output_type": "stream",
     "text": [
      "The optimal weight and index of item selected are returned\n"
     ]
    },
    {
     "data": {
      "text/plain": [
       "(8, [3, 2])"
      ]
     },
     "execution_count": 43,
     "metadata": {},
     "output_type": "execute_result"
    }
   ],
   "source": [
    "knapsack(v,w,c)"
   ]
  },
  {
   "cell_type": "code",
   "execution_count": 31,
   "metadata": {
    "collapsed": false,
    "scrolled": true
   },
   "outputs": [],
   "source": []
  },
  {
   "cell_type": "code",
   "execution_count": 32,
   "metadata": {
    "collapsed": false,
    "scrolled": true
   },
   "outputs": [
    {
     "data": {
      "text/plain": [
       "[3, 2]"
      ]
     },
     "execution_count": 32,
     "metadata": {},
     "output_type": "execute_result"
    }
   ],
   "source": [
    "index"
   ]
  }
 ],
 "metadata": {
  "kernelspec": {
   "display_name": "Python 2",
   "language": "python",
   "name": "python2"
  },
  "language_info": {
   "codemirror_mode": {
    "name": "ipython",
    "version": 2
   },
   "file_extension": ".py",
   "mimetype": "text/x-python",
   "name": "python",
   "nbconvert_exporter": "python",
   "pygments_lexer": "ipython2",
   "version": "2.7.12"
  }
 },
 "nbformat": 4,
 "nbformat_minor": 0
}
