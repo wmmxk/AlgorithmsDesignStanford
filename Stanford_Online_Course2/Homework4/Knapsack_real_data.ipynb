{
 "cells": [
  {
   "cell_type": "code",
   "execution_count": 1,
   "metadata": {
    "collapsed": false,
    "scrolled": true
   },
   "outputs": [],
   "source": [
    "def read_data(input):\n",
    "    v = []\n",
    "    w = []\n",
    "    with open(\"./data/\"+input) as f:\n",
    "        for i,line in enumerate(f):\n",
    "            if i == 0:\n",
    "                c = int(line.strip().split()[0])\n",
    "            else:\n",
    "                v.append(int(line.strip().split()[0]))\n",
    "                w.append(int(line.strip().split()[1]))\n",
    "    return v,w,c"
   ]
  },
  {
   "cell_type": "code",
   "execution_count": 2,
   "metadata": {
    "collapsed": true
   },
   "outputs": [],
   "source": [
    "def knapsack(v,w,c):\n",
    "    t = [[0]*(len(w)+1) for i in range(c+1)]\n",
    "    for r in range(1,c+1):\n",
    "        for i in range(len(w)):\n",
    "\n",
    "          #  print \"r\",r,\"i\",i\n",
    "            if w[i] > r:\n",
    "                t[r][i+1] = t[r][i]\n",
    "            else:\n",
    "                t[r][i+1] = max(t[r][i],t[r-w[i]][i]+v[i])\n",
    "\n",
    "    # get the index of selected items:\n",
    "    r = c\n",
    "    index = []\n",
    "    for i in range(len(w),0,-1):\n",
    "        if w[i-1] < r:\n",
    "            if t[r][i] != t[r][i-1]:\n",
    "                index.append(i-1)\n",
    "                r = r - w[i-1]\n",
    "    print \"The optimal weight and index of item selected are returned\"\n",
    "    return t[c][len(w)],index"
   ]
  },
  {
   "cell_type": "markdown",
   "metadata": {
    "collapsed": false
   },
   "source": [
    "v,w,c = read_data(\"knapsack.txt\")\n",
    "knapsack(v,w,c)"
   ]
  },
  {
   "cell_type": "code",
   "execution_count": null,
   "metadata": {
    "collapsed": true
   },
   "outputs": [],
   "source": [
    "v,w,c = read_data(\"knapsack_big.txt\")\n",
    "knapsack(v,w,c)"
   ]
  },
  {
   "cell_type": "code",
   "execution_count": 31,
   "metadata": {
    "collapsed": false,
    "scrolled": true
   },
   "outputs": [],
   "source": []
  },
  {
   "cell_type": "code",
   "execution_count": 32,
   "metadata": {
    "collapsed": false,
    "scrolled": false
   },
   "outputs": [
    {
     "data": {
      "text/plain": [
       "[3, 2]"
      ]
     },
     "execution_count": 32,
     "metadata": {},
     "output_type": "execute_result"
    }
   ],
   "source": [
    "index"
   ]
  }
 ],
 "metadata": {
  "kernelspec": {
   "display_name": "Python 2",
   "language": "python",
   "name": "python2"
  },
  "language_info": {
   "codemirror_mode": {
    "name": "ipython",
    "version": 2
   },
   "file_extension": ".py",
   "mimetype": "text/x-python",
   "name": "python",
   "nbconvert_exporter": "python",
   "pygments_lexer": "ipython2",
   "version": "2.7.12"
  }
 },
 "nbformat": 4,
 "nbformat_minor": 0
}
