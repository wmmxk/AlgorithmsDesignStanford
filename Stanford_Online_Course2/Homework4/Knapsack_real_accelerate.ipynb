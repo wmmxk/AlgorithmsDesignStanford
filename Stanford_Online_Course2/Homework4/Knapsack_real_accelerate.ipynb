{
 "cells": [
  {
   "cell_type": "code",
   "execution_count": null,
   "metadata": {
    "collapsed": true
   },
   "outputs": [],
   "source": [
    "# image the table in your mind when you pinpoint the subproblems to solve (\n",
    "  #each row corresponds a residual capacity)\n",
    "# creat a dict named must to store all the capacity to search for each column (the value for each key\n",
    "  # is a set, the key is from 1 to len(w))\n",
    "# create a dict named t to store the optimal for each subproblem (t is a nested dict)\n",
    "  # the outlayer dict has the same key with must and the inner layer dict has a key for each capacity"
   ]
  },
  {
   "cell_type": "code",
   "execution_count": null,
   "metadata": {
    "collapsed": true
   },
   "outputs": [],
   "source": [
    "# v: value; w: weight; c: capacity; r: residual; t: table; must: subproblems that must be solved;"
   ]
  },
  {
   "cell_type": "code",
   "execution_count": 25,
   "metadata": {
    "collapsed": false,
    "scrolled": true
   },
   "outputs": [],
   "source": [
    "def read_data(input):\n",
    "    v = []\n",
    "    w = []\n",
    "    with open(\"./data/\"+input) as f:\n",
    "        for i,line in enumerate(f):\n",
    "            if i == 0:\n",
    "                c = int(line.strip().split()[0])\n",
    "            else:\n",
    "                v.append(int(line.strip().split()[0]))\n",
    "                w.append(int(line.strip().split()[1]))\n",
    "    return v,w,c"
   ]
  },
  {
   "cell_type": "code",
   "execution_count": 37,
   "metadata": {
    "collapsed": true
   },
   "outputs": [],
   "source": [
    "v=[3,2,4,4]\n",
    "w=[4,3,2,3]\n",
    "c=6\n"
   ]
  },
  {
   "cell_type": "code",
   "execution_count": 38,
   "metadata": {
    "collapsed": false
   },
   "outputs": [],
   "source": [
    "# get the set of subproblems to solve and initiate a nested dict to store the house keeping\n",
    "\n",
    "def knapsack_scale(v,w,c):\n",
    "    from collections import defaultdict\n",
    "    must = defaultdict(set)\n",
    "    must[len(w)].add(c)\n",
    "    t = defaultdict(dict)\n",
    "    t[len(w)] = dict.fromkeys(must[len(w)])\n",
    "\n",
    "    num = len(must[len(w)])\n",
    "    import copy\n",
    "    for i in range(len(w)-1,0,-1):\n",
    "        must[i] = copy.copy(must[i+1])\n",
    "        for r in must[i+1]:\n",
    "            if r - w[i] >=0:\n",
    "                must[i].add(r-w[i])\n",
    "        num += len(must[i])\n",
    "        t[i] = dict.fromkeys(must[i])\n",
    "\n",
    "    # solve each subproblem\n",
    "    for i in range(1,len(w)+1):\n",
    "        if i ==1:\n",
    "            for r in t[i].keys():\n",
    "                if r < w[i-1]:\n",
    "                   t[i][r] = 0\n",
    "                else:\n",
    "                   t[i][r] = v[i-1]\n",
    "        else:\n",
    "            for r in t[i].keys():\n",
    "                if r < w[i-1]:\n",
    "                   t[i][r] = t[i-1][r]\n",
    "                else:\n",
    "                   t[i][r] = max(t[i-1][r],t[i-1][r-w[i-1]]+v[i-1])\n",
    "\n",
    "    return t[len(w)][c]"
   ]
  },
  {
   "cell_type": "code",
   "execution_count": 39,
   "metadata": {
    "collapsed": true
   },
   "outputs": [],
   "source": [
    "def knapsack(v,w,c):\n",
    "    t = [[0]*(len(w)+1) for i in range(c+1)]\n",
    "    for r in range(1,c+1):\n",
    "        for i in range(len(w)):\n",
    "\n",
    "          #  print \"r\",r,\"i\",i\n",
    "            if w[i] > r:\n",
    "                t[r][i+1] = t[r][i]\n",
    "            else:\n",
    "                t[r][i+1] = max(t[r][i],t[r-w[i]][i]+v[i])\n",
    "\n",
    "    # get the index of selected items:\n",
    "    r = c\n",
    "    index = []\n",
    "    for i in range(len(w),0,-1):\n",
    "        if w[i-1] < r:\n",
    "            if t[r][i] != t[r][i-1]:\n",
    "                index.append(i-1)\n",
    "                r = r - w[i-1]\n",
    "    print \"The optimal weight and index of item selected are returned\"\n",
    "    return t[c][len(w)],index"
   ]
  },
  {
   "cell_type": "code",
   "execution_count": 47,
   "metadata": {
    "collapsed": false,
    "scrolled": true
   },
   "outputs": [
    {
     "name": "stdout",
     "output_type": "stream",
     "text": [
      "4243395\n"
     ]
    }
   ],
   "source": [
    "v,w,c = read_data(\"knapsack_big.txt\")\n",
    "#optimal, index = knapsack(v,w,c)\n",
    "\n",
    "#print optimal\n",
    "\n",
    "print knapsack_scale(v,w,c)"
   ]
  }
 ],
 "metadata": {
  "kernelspec": {
   "display_name": "Python 2",
   "language": "python",
   "name": "python2"
  },
  "language_info": {
   "codemirror_mode": {
    "name": "ipython",
    "version": 2
   },
   "file_extension": ".py",
   "mimetype": "text/x-python",
   "name": "python",
   "nbconvert_exporter": "python",
   "pygments_lexer": "ipython2",
   "version": "2.7.12"
  }
 },
 "nbformat": 4,
 "nbformat_minor": 0
}
