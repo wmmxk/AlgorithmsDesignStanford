{
 "cells": [
  {
   "cell_type": "code",
   "execution_count": null,
   "metadata": {
    "collapsed": true
   },
   "outputs": [],
   "source": []
  },
  {
   "cell_type": "markdown",
   "metadata": {
    "collapsed": false
   },
   "source": [
    "# Framework:\n",
    "1. Suppose you know the median, when a new data point comes, add it to the left maxheap if it is less than the current \n",
    "median. Otherwise add to the right minheap. \n",
    "\n",
    "2. update the median and update the two heaps if necessay. (condition on the difference in the number of elements in the \n",
    "                                                         two heaps)\n",
    "\n",
    "3. the new median should be one of these values (the previous median, the root of the left maxheap, the root of the right\n",
    "                                             minheap)\n",
    "\n",
    "2.1. If num_l == num_r:\n",
    "        median_n = median_p (n:new, p:previous)\n",
    "     If num_l == num_r+1:\n",
    "        median_n = root_l (insert the previous median to the right heap; pop the root from left heap and \\\n",
    "                           assign it to median; after the modification num_l == num_r)\n",
    "     If num_l == num_r+2: (impossible)\n",
    "     If num_l+1 == num_r:\n",
    "        median_n == median_p (no modification on the heaps)\n",
    "     If num_l+2 == num_r:\n",
    "        median_n = root_r (insert the previous median to the left heap; pop the root of the right heap and\\\n",
    "                           assign it to median)\n",
    "        \n",
    "Based on the above analysis, if the coming element is equal to the current median, assert it to the right unless\n",
    "\n",
    "        "
   ]
  },
  {
   "cell_type": "code",
   "execution_count": 35,
   "metadata": {
    "collapsed": false
   },
   "outputs": [],
   "source": [
    "\n",
    "import heapq\n",
    "\n",
    "data = [5, 7, 9, 1, 3]\n",
    "\n",
    "left = []\n",
    "right = []\n",
    "median = data[0]\n",
    "medians = [median]\n",
    "\n",
    "for element in data[1:]:\n",
    "    if element < median:\n",
    "        heapq.heappush(left,-element)\n",
    "    else:\n",
    "        heapq.heappush(right,element)\n",
    "# modify heaps and update median if necessary        \n",
    "    if len(left) == len(right)+1:\n",
    "        heapq.heappush(right,median)\n",
    "        median = -heapq.heappop(left)\n",
    "    if len(left)+2 == len(right):\n",
    "        heapq.heappush(left,-median)\n",
    "        median = heapq.heappop(right)\n",
    "    medians.append(median)\n",
    " "
   ]
  },
  {
   "cell_type": "code",
   "execution_count": 36,
   "metadata": {
    "collapsed": false
   },
   "outputs": [
    {
     "data": {
      "text/plain": [
       "[5, 5, 7, 5, 5]"
      ]
     },
     "execution_count": 36,
     "metadata": {},
     "output_type": "execute_result"
    }
   ],
   "source": [
    "medians"
   ]
  },
  {
   "cell_type": "code",
   "execution_count": 37,
   "metadata": {
    "collapsed": false
   },
   "outputs": [
    {
     "data": {
      "text/plain": [
       "[5, 7, 9, 1, 3]"
      ]
     },
     "execution_count": 37,
     "metadata": {},
     "output_type": "execute_result"
    }
   ],
   "source": [
    "data"
   ]
  }
 ],
 "metadata": {
  "kernelspec": {
   "display_name": "Python 2",
   "language": "python",
   "name": "python2"
  },
  "language_info": {
   "codemirror_mode": {
    "name": "ipython",
    "version": 2
   },
   "file_extension": ".py",
   "mimetype": "text/x-python",
   "name": "python",
   "nbconvert_exporter": "python",
   "pygments_lexer": "ipython2",
   "version": "2.7.12"
  }
 },
 "nbformat": 4,
 "nbformat_minor": 0
}
