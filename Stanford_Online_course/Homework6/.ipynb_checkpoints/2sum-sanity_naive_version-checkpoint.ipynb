{
 "cells": [
  {
   "cell_type": "code",
   "execution_count": 2,
   "metadata": {
    "collapsed": false
   },
   "outputs": [],
   "source": [
    "import os\n",
    "def Hashdata(file):\n",
    "    H={}\n",
    "    with open(os.path.join('./data',file)) as f:\n",
    "              for line in f:\n",
    "                    tmp = line.rstrip().split(\" \")\n",
    "                    #print tmp\n",
    "                    H[int(tmp[0])]=None\n",
    "    return H\n"
   ]
  },
  {
   "cell_type": "code",
   "execution_count": 3,
   "metadata": {
    "collapsed": false,
    "scrolled": false
   },
   "outputs": [
    {
     "data": {
      "text/plain": [
       "{1: None, 2: None}"
      ]
     },
     "execution_count": 3,
     "metadata": {},
     "output_type": "execute_result"
    }
   ],
   "source": [
    "H={}\n",
    "H.fromkeys([1,2],None)"
   ]
  },
  {
   "cell_type": "code",
   "execution_count": 4,
   "metadata": {
    "collapsed": false
   },
   "outputs": [],
   "source": [
    "H = Hashdata('2sum.txt')"
   ]
  },
  {
   "cell_type": "code",
   "execution_count": 35,
   "metadata": {
    "collapsed": true
   },
   "outputs": [],
   "source": [
    "num_set = set(H.keys())"
   ]
  },
  {
   "cell_type": "code",
   "execution_count": 21,
   "metadata": {
    "collapsed": true
   },
   "outputs": [],
   "source": [
    "def has_two_sum(n, num_set):\n",
    "    return any(((n-x) in num_set) and 2*x != n for x in num_set)"
   ]
  },
  {
   "cell_type": "markdown",
   "metadata": {},
   "source": [
    "two_sum = sum(has_two_sum(n, num_set) for n in range(-10000, -9000))"
   ]
  },
  {
   "cell_type": "code",
   "execution_count": 18,
   "metadata": {
    "collapsed": false
   },
   "outputs": [],
   "source": [
    "pairs = list()\n",
    "hits = set()\n",
    "for target in range(-10000,-9900):\n",
    "    for v1 in keys:\n",
    "        v2 = target - v1\n",
    "        if v1!=v2 and v2 in keys:\n",
    "            hits.add(target)"
   ]
  },
  {
   "cell_type": "code",
   "execution_count": 37,
   "metadata": {
    "collapsed": true
   },
   "outputs": [],
   "source": [
    "nums = sorted(num_set)\n",
    "MIN = nums[0]\n",
    "MAX = nums[-1]\n",
    "total = 0\n",
    "seen = {}"
   ]
  },
  {
   "cell_type": "code",
   "execution_count": null,
   "metadata": {
    "collapsed": true
   },
   "outputs": [],
   "source": [
    "\n",
    "\n",
    "for i in nums:\n",
    "    a, b = sorted([(10000 - i), (-10000 - i)])\n",
    "\n",
    "    for n in range(max(MIN, a), min(MAX, b) + 1):\n",
    "        assert -10000 <= i + n <= 10000\n",
    "        if n != i and n in num_set:\n",
    "            if ((i, n) in seen) or ((n, i) in seen): continue\n",
    "            seen[(i, n)] = True\n",
    "            seen[(n, i)] = True\n",
    "            total += 1\n",
    "return total"
   ]
  },
  {
   "cell_type": "code",
   "execution_count": null,
   "metadata": {
    "collapsed": true
   },
   "outputs": [],
   "source": [
    "import cProfile\n",
    "\n",
    "def read_nums():\n",
    "    with open('./data/2sum.txt', 'r') as fp:\n",
    "        return [int(line) for line in fp]\n",
    "\n",
    "def has_two_sum(n,num_set,nums):\n",
    "    res = any(((n-x) in num_set) and 2*x !=n for x in nums)\n",
    "    return res\n",
    "\n",
    "def two_sum(nums):\n",
    "    nums = [int(line) for line in nums]\n",
    "    num_set = set(nums)\n",
    "    return sum(1  for n in range(-10000,-9000) if has_two_sum(n,num_set,nums))\n",
    "\n",
    "nums = read_nums()\n",
    "cProfile.run('two_sum({!r})'.format(nums))"
   ]
  }
 ],
 "metadata": {
  "kernelspec": {
   "display_name": "Python 2",
   "language": "python",
   "name": "python2"
  },
  "language_info": {
   "codemirror_mode": {
    "name": "ipython",
    "version": 2
   },
   "file_extension": ".py",
   "mimetype": "text/x-python",
   "name": "python",
   "nbconvert_exporter": "python",
   "pygments_lexer": "ipython2",
   "version": "2.7.13"
  }
 },
 "nbformat": 4,
 "nbformat_minor": 0
}
