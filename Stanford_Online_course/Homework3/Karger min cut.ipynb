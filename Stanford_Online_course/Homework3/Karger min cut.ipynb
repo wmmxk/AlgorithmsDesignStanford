{
 "cells": [
  {
   "cell_type": "code",
   "execution_count": null,
   "metadata": {
    "collapsed": true
   },
   "outputs": [],
   "source": [
    "#After you add v2's neighbhours to v1, you need to remove v1 itself\n",
    "# data = copy.deepcopy(G)\n",
    "#"
   ]
  },
  {
   "cell_type": "code",
   "execution_count": 19,
   "metadata": {
    "collapsed": false
   },
   "outputs": [],
   "source": [
    "import random, copy\n",
    "data = open(\"./data/kargerMinCut.txt\",\"r\")\n",
    "G = {}\n",
    "for line in data:\n",
    "    lst = [int(s) for s in line.rstrip().split()]\n",
    "    G[lst[0]] = lst[1:]   \n",
    "\n",
    "def choose_random_key(G):\n",
    "    v1 = random.choice(list(G.keys()))\n",
    "    v2 = random.choice(list(G[v1]))\n",
    "    return v1, v2"
   ]
  },
  {
   "cell_type": "code",
   "execution_count": 21,
   "metadata": {
    "collapsed": false
   },
   "outputs": [
    {
     "data": {
      "text/plain": [
       "200"
      ]
     },
     "execution_count": 21,
     "metadata": {},
     "output_type": "execute_result"
    }
   ],
   "source": [
    "len(G.keys()) # there is no vertice that has no edges"
   ]
  },
  {
   "cell_type": "code",
   "execution_count": 26,
   "metadata": {
    "collapsed": false
   },
   "outputs": [
    {
     "name": "stdout",
     "output_type": "stream",
     "text": [
      "17\n"
     ]
    }
   ],
   "source": [
    "def karger(G):\n",
    "    length = []\n",
    "    while len(G) > 2:\n",
    "        v1, v2 = choose_random_key(G)\n",
    "        G[v1].extend(G[v2])\n",
    "        for x in G[v2]:\n",
    "            G[x].remove(v2)\n",
    "            G[x].append(v1) \n",
    "        while v1 in G[v1]:\n",
    "            G[v1].remove(v1)\n",
    "        del G[v2]\n",
    "    for key in G.keys():\n",
    "        length.append(len(G[key]))\n",
    "    return length[0]\n",
    "\n",
    "def operation(n):\n",
    "    i = 0\n",
    "    count = 10000   \n",
    "    while i < n:\n",
    "        data = copy.deepcopy(G)\n",
    "        min_cut = karger(data)\n",
    "        if min_cut < count:\n",
    "            count = min_cut\n",
    "        i = i + 1\n",
    "    return count\n",
    "\n",
    "\n",
    "print(operation(1000))"
   ]
  }
 ],
 "metadata": {
  "kernelspec": {
   "display_name": "Python 2",
   "language": "python",
   "name": "python2"
  },
  "language_info": {
   "codemirror_mode": {
    "name": "ipython",
    "version": 2
   },
   "file_extension": ".py",
   "mimetype": "text/x-python",
   "name": "python",
   "nbconvert_exporter": "python",
   "pygments_lexer": "ipython2",
   "version": "2.7.13"
  }
 },
 "nbformat": 4,
 "nbformat_minor": 2
}
