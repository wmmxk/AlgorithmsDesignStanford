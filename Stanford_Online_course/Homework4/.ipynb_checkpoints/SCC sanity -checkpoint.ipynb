{
 "cells": [
  {
   "cell_type": "code",
   "execution_count": null,
   "metadata": {
    "collapsed": true
   },
   "outputs": [],
   "source": [
    "# source:https://github.com/ladamalina/coursera-algo/blob/master/PQ4.%20SCCs/kosaraju.py"
   ]
  },
  {
   "cell_type": "code",
   "execution_count": null,
   "metadata": {
    "collapsed": true
   },
   "outputs": [],
   "source": [
    "# when create graph from the txt file, some vertex might be missing\n",
    "#  [G_finish.setdefault(finish[i],set()).add(finish[x]) for x in G_rev[i]], no need to consider empty\n",
    "# the scope of aa global variable"
   ]
  },
  {
   "cell_type": "code",
   "execution_count": null,
   "metadata": {
    "collapsed": true
   },
   "outputs": [],
   "source": [
    "# When building G_finish, Since the vertex 4 has no edges\n",
    "You need to initialize all the vertices in the dictionary        \n",
    "[G_finish.setdefault(finish[i],set()).add(finish[x]) for x in G[i]]\n",
    "\n",
    "# G_finish is built on G not G_rev"
   ]
  },
  {
   "cell_type": "markdown",
   "metadata": {
    "collapsed": false,
    "scrolled": false
   },
   "source": [
    "Ctrl + / for commenting out a block of codes"
   ]
  },
  {
   "cell_type": "code",
   "execution_count": 112,
   "metadata": {
    "collapsed": false
   },
   "outputs": [],
   "source": [
    "import os\n",
    "def Get_G(file,num):\n",
    "    G={}\n",
    "    G_rev={}\n",
    "    with open(os.path.join('./data',file)) as f:\n",
    "              for line in f:\n",
    "                    tmp = line.rstrip().split(\" \")\n",
    "                    #print tmp\n",
    "                    G.setdefault(int(tmp[0]),set()).add(int(tmp[1]))\n",
    "                    G_rev.setdefault(int(tmp[1]),set()).add(int(tmp[0]))\n",
    "    for i in range(1,num+1):\n",
    "        G.setdefault(i,set())\n",
    "        G_rev.setdefault(i,set())\n",
    "    return G,G_rev\n"
   ]
  },
  {
   "cell_type": "code",
   "execution_count": 113,
   "metadata": {
    "collapsed": false,
    "scrolled": true
   },
   "outputs": [],
   "source": [
    "G,G_rev= Get_G(\"sanity.txt\",4)"
   ]
  },
  {
   "cell_type": "code",
   "execution_count": 140,
   "metadata": {
    "collapsed": true
   },
   "outputs": [],
   "source": [
    "def Kosaraju(G,G_rev):\n",
    "    global t,finish,leader\n",
    "    finish={}\n",
    "    G_finish={}\n",
    "    leader={}\n",
    "    DFS_loop(G_rev)\n",
    "    \n",
    "    for i in range(1,len(G)+1):\n",
    "        G_finish.setdefault(finish[i],set())\n",
    "        [G_finish[finish[i]].add(finish[x]) for x in G[i]]\n",
    "    \n",
    "    DFS_loop(G_finish)\n",
    "    #print G_finish\n",
    "    return leader"
   ]
  },
  {
   "cell_type": "code",
   "execution_count": 141,
   "metadata": {
    "collapsed": false
   },
   "outputs": [],
   "source": [
    "def DFS_loop(G):\n",
    "    global s,t,Visited\n",
    "    t=0\n",
    "    s=None\n",
    "    Visited=set()\n",
    "    for i in range(len(G),0,-1):\n",
    "        #print i,  Visited\n",
    "        if i not in Visited:\n",
    "          s=i\n",
    "          DFS(G,i)"
   ]
  },
  {
   "cell_type": "code",
   "execution_count": 142,
   "metadata": {
    "collapsed": false
   },
   "outputs": [],
   "source": [
    "def DFS(G,k):\n",
    "    global t\n",
    "    Visited.add(k)\n",
    "    leader[k]=s\n",
    "    #print leader\n",
    "    for j in G[k]:\n",
    "        if G[k] and j not in Visited:\n",
    "          DFS(G,j)\n",
    "    t+=1\n",
    "    #print \"i\",i,t\n",
    "    finish[k]=t"
   ]
  },
  {
   "cell_type": "code",
   "execution_count": 143,
   "metadata": {
    "collapsed": false
   },
   "outputs": [],
   "source": [
    "lead = Kosaraju(G,G_rev)"
   ]
  },
  {
   "cell_type": "code",
   "execution_count": 144,
   "metadata": {
    "collapsed": false,
    "scrolled": true
   },
   "outputs": [],
   "source": [
    "SCCd = {}\n",
    "for i in range(1,len(G)+1):\n",
    "    SCCd.setdefault(lead[i],set()).add(i)"
   ]
  },
  {
   "cell_type": "code",
   "execution_count": 145,
   "metadata": {
    "collapsed": false,
    "scrolled": true
   },
   "outputs": [],
   "source": [
    "SCCl = SCCd.values()"
   ]
  },
  {
   "cell_type": "code",
   "execution_count": 147,
   "metadata": {
    "collapsed": false
   },
   "outputs": [],
   "source": [
    "groups = sorted(SCCl,key=len)"
   ]
  },
  {
   "cell_type": "code",
   "execution_count": 149,
   "metadata": {
    "collapsed": false
   },
   "outputs": [
    {
     "data": {
      "text/plain": [
       "{4}"
      ]
     },
     "execution_count": 149,
     "metadata": {},
     "output_type": "execute_result"
    }
   ],
   "source": [
    "groups[-2]"
   ]
  }
 ],
 "metadata": {
  "kernelspec": {
   "display_name": "Python 2",
   "language": "python",
   "name": "python2"
  },
  "language_info": {
   "codemirror_mode": {
    "name": "ipython",
    "version": 2
   },
   "file_extension": ".py",
   "mimetype": "text/x-python",
   "name": "python",
   "nbconvert_exporter": "python",
   "pygments_lexer": "ipython2",
   "version": "2.7.13"
  }
 },
 "nbformat": 4,
 "nbformat_minor": 0
}
