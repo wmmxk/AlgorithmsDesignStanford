{
 "cells": [
  {
   "cell_type": "code",
   "execution_count": 17,
   "metadata": {
    "collapsed": true
   },
   "outputs": [],
   "source": [
    "import sys, resource, time\n",
    "\n",
    "# Increase recursion limit and stack size\n",
    "sys.setrecursionlimit(2 ** 20)\n",
    "hardlimit = resource.getrlimit(resource.RLIMIT_STACK)[1]\n",
    "resource.setrlimit(resource.RLIMIT_STACK,(hardlimit,hardlimit))\n"
   ]
  },
  {
   "cell_type": "code",
   "execution_count": 18,
   "metadata": {
    "collapsed": false
   },
   "outputs": [],
   "source": [
    "import os\n",
    "def Get_G(file,num):\n",
    "    G={}\n",
    "    G_rev={}\n",
    "    with open(os.path.join('./data',file)) as f:\n",
    "              for line in f:\n",
    "                    tmp = line.rstrip().split(\" \")\n",
    "                    #print tmp\n",
    "                    G.setdefault(int(tmp[0]),set()).add(int(tmp[1]))\n",
    "                    G_rev.setdefault(int(tmp[1]),set()).add(int(tmp[0]))\n",
    "    for i in range(1,num+1):\n",
    "        G.setdefault(i,set())\n",
    "        G_rev.setdefault(i,set())\n",
    "    return G,G_rev\n"
   ]
  },
  {
   "cell_type": "code",
   "execution_count": 19,
   "metadata": {
    "collapsed": false,
    "scrolled": true
   },
   "outputs": [],
   "source": [
    "G,G_rev= Get_G(\"SCC.txt\",875714)"
   ]
  },
  {
   "cell_type": "code",
   "execution_count": 20,
   "metadata": {
    "collapsed": true
   },
   "outputs": [],
   "source": [
    "def Kosaraju(G,G_rev):\n",
    "    global t,finish,leader\n",
    "    finish={}\n",
    "    G_finish={}\n",
    "    leader={}\n",
    "    DFS_loop(G_rev)\n",
    "    \n",
    "    for i in range(1,len(G)+1):\n",
    "        G_finish.setdefault(finish[i],set())\n",
    "        [G_finish[finish[i]].add(finish[x]) for x in G[i]]\n",
    "    \n",
    "    DFS_loop(G_finish)\n",
    "    #print G_finish\n",
    "    return leader"
   ]
  },
  {
   "cell_type": "code",
   "execution_count": 21,
   "metadata": {
    "collapsed": false
   },
   "outputs": [],
   "source": [
    "def DFS_loop(G):\n",
    "    global s,t,Visited\n",
    "    t=0\n",
    "    s=None\n",
    "    Visited=set()\n",
    "    for i in range(len(G),0,-1):\n",
    "        #print i,  Visited\n",
    "        if i not in Visited:\n",
    "          s=i\n",
    "          DFS(G,i)"
   ]
  },
  {
   "cell_type": "code",
   "execution_count": 22,
   "metadata": {
    "collapsed": false
   },
   "outputs": [],
   "source": [
    "def DFS(G,k):\n",
    "    global t\n",
    "    Visited.add(k)\n",
    "    leader[k]=s\n",
    "    #print leader\n",
    "    for j in G[k]:\n",
    "        if G[k] and j not in Visited:\n",
    "          DFS(G,j)\n",
    "    t+=1\n",
    "    #print \"i\",i,t\n",
    "    finish[k]=t"
   ]
  },
  {
   "cell_type": "code",
   "execution_count": 23,
   "metadata": {
    "collapsed": false
   },
   "outputs": [],
   "source": [
    "lead = Kosaraju(G,G_rev)"
   ]
  },
  {
   "cell_type": "code",
   "execution_count": 24,
   "metadata": {
    "collapsed": false,
    "scrolled": true
   },
   "outputs": [],
   "source": [
    "SCCd = {}\n",
    "for i in range(1,len(G)+1):\n",
    "    SCCd.setdefault(lead[i],set()).add(i)"
   ]
  },
  {
   "cell_type": "code",
   "execution_count": 25,
   "metadata": {
    "collapsed": false,
    "scrolled": true
   },
   "outputs": [],
   "source": [
    "SCCl = SCCd.values()"
   ]
  },
  {
   "cell_type": "code",
   "execution_count": 29,
   "metadata": {
    "collapsed": false
   },
   "outputs": [],
   "source": [
    "groups = sorted(SCCl,key=len)[::-1]"
   ]
  },
  {
   "cell_type": "code",
   "execution_count": 31,
   "metadata": {
    "collapsed": false
   },
   "outputs": [
    {
     "name": "stdout",
     "output_type": "stream",
     "text": [
      "434821\n",
      "968\n",
      "459\n",
      "313\n",
      "211\n"
     ]
    }
   ],
   "source": [
    "for i in range(5):\n",
    "  print len(groups[i])"
   ]
  }
 ],
 "metadata": {
  "kernelspec": {
   "display_name": "Python 2",
   "language": "python",
   "name": "python2"
  },
  "language_info": {
   "codemirror_mode": {
    "name": "ipython",
    "version": 2
   },
   "file_extension": ".py",
   "mimetype": "text/x-python",
   "name": "python",
   "nbconvert_exporter": "python",
   "pygments_lexer": "ipython2",
   "version": "2.7.13"
  }
 },
 "nbformat": 4,
 "nbformat_minor": 0
}
