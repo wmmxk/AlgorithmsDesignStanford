{
 "cells": [
  {
   "cell_type": "code",
   "execution_count": 1,
   "metadata": {
    "collapsed": false,
    "scrolled": false
   },
   "outputs": [
    {
     "name": "stdout",
     "output_type": "stream",
     "text": [
      "['1', '2,1', '4,2']\n",
      "['2', '1,2', '3,2', '5,4']\n",
      "['3', '2,2', '5,1']\n",
      "['4', '1,2', '5,3']\n",
      "['5', '2,4', '3,1']\n"
     ]
    }
   ],
   "source": [
    "filename = \"./data/sanity.txt\"\n",
    "\n",
    "G = []\n",
    "\n",
    "with open(filename) as f:\n",
    "    for line in f:\n",
    "      print line.rstrip().split(\" \")\n",
    "      G.append(line.rstrip().split(\" \"))"
   ]
  },
  {
   "cell_type": "code",
   "execution_count": 2,
   "metadata": {
    "collapsed": false
   },
   "outputs": [
    {
     "data": {
      "text/plain": [
       "[['1', '2,1', '4,2'],\n",
       " ['2', '1,2', '3,2', '5,4'],\n",
       " ['3', '2,2', '5,1'],\n",
       " ['4', '1,2', '5,3'],\n",
       " ['5', '2,4', '3,1']]"
      ]
     },
     "execution_count": 2,
     "metadata": {},
     "output_type": "execute_result"
    }
   ],
   "source": [
    "G"
   ]
  },
  {
   "cell_type": "code",
   "execution_count": 4,
   "metadata": {
    "collapsed": false,
    "scrolled": true
   },
   "outputs": [],
   "source": [
    "A={'1':0}\n",
    "Visited = set()\n",
    "Visited.add('1')"
   ]
  },
  {
   "cell_type": "code",
   "execution_count": 5,
   "metadata": {
    "collapsed": false
   },
   "outputs": [
    {
     "data": {
      "text/plain": [
       "{'1'}"
      ]
     },
     "execution_count": 5,
     "metadata": {},
     "output_type": "execute_result"
    }
   ],
   "source": []
  },
  {
   "cell_type": "code",
   "execution_count": 6,
   "metadata": {
    "collapsed": false
   },
   "outputs": [
    {
     "name": "stdout",
     "output_type": "stream",
     "text": [
      "set(['1'])\n",
      "set(['1', '2'])\n",
      "set(['1', '2', '4'])\n",
      "set(['1', '3', '2', '4'])\n",
      "set(['1', '3', '2', '5', '4'])\n"
     ]
    }
   ],
   "source": [
    "while len(Visited)<5:\n",
    "    tmp={}\n",
    "    for S in Visited:\n",
    "        for Front in G[int(S)-1][1:]:\n",
    "            edge = Front.split(\",\")\n",
    "            if edge[0] not in Visited:\n",
    "               tmp[edge[0]] = A[S] + int(edge[1])\n",
    "    minkey = min(tmp, key=tmp.get)\n",
    "    A[minkey]=tmp[minkey]\n",
    "    print Visited\n",
    "    Visited.add(minkey)\n",
    "print Visited"
   ]
  },
  {
   "cell_type": "code",
   "execution_count": 7,
   "metadata": {
    "collapsed": false
   },
   "outputs": [
    {
     "data": {
      "text/plain": [
       "{'1': 0, '2': 1, '3': 3, '4': 2, '5': 5}"
      ]
     },
     "execution_count": 7,
     "metadata": {},
     "output_type": "execute_result"
    }
   ],
   "source": [
    "A"
   ]
  },
  {
   "cell_type": "code",
   "execution_count": 44,
   "metadata": {
    "collapsed": false
   },
   "outputs": [
    {
     "data": {
      "text/plain": [
       "'2'"
      ]
     },
     "execution_count": 44,
     "metadata": {},
     "output_type": "execute_result"
    }
   ],
   "source": [
    "min(tmp, key=tmp.get)"
   ]
  }
 ],
 "metadata": {
  "kernelspec": {
   "display_name": "Python 2",
   "language": "python",
   "name": "python2"
  },
  "language_info": {
   "codemirror_mode": {
    "name": "ipython",
    "version": 2
   },
   "file_extension": ".py",
   "mimetype": "text/x-python",
   "name": "python",
   "nbconvert_exporter": "python",
   "pygments_lexer": "ipython2",
   "version": "2.7.13"
  }
 },
 "nbformat": 4,
 "nbformat_minor": 0
}
