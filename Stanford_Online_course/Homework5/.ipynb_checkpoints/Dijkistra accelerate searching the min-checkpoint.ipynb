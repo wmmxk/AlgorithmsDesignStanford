{
 "cells": [
  {
   "cell_type": "code",
   "execution_count": null,
   "metadata": {
    "collapsed": true
   },
   "outputs": [],
   "source": [
    "# In your 1st version of implementation, you repeated compute A[S]+SW\n",
    "When you add a new charted vertex S2, the path length to S1's neighbours through S1 does not change.\n",
    "So you need to keep all the tenative distance from all visited vertices to all front nodes, and the corresponding \n",
    "   front vertices.\n",
    "For each iteration, you pop out a pair of (tenative distance, front vertices),\n",
    "# no need to do this add the chosen front vertices to the set of visited vertices\n",
    "add the tenative distances to vertices reachable from the chosen front vertices (charted neighbours don't count)\n",
    "                                                                            \n",
    "end when there is no tenative distance in the queue"
   ]
  },
  {
   "cell_type": "code",
   "execution_count": null,
   "metadata": {
    "collapsed": true
   },
   "outputs": [],
   "source": [
    "# Design principle: minimize the bookkeeping and then add in next version. The source node is not necessay\n"
   ]
  },
  {
   "cell_type": "code",
   "execution_count": null,
   "metadata": {
    "collapsed": true
   },
   "outputs": [],
   "source": [
    "#source: https://codereview.stackexchange.com/questions/79025/dijkstras-algorithm-in-python"
   ]
  },
  {
   "cell_type": "code",
   "execution_count": null,
   "metadata": {
    "collapsed": true
   },
   "outputs": [],
   "source": [
    "from heapq import heappush, heappop\n",
    "\n",
    "def Dijkstra(graph, start):\n",
    "    A = [None] * len(graph)\n",
    "    queue = [(0, start)]\n",
    "    while queue:\n",
    "        path_len, v = heappop(queue)\n",
    "        if A[v] is None: # v is unvisited\n",
    "            A[v] = path_len\n",
    "            for w, edge_len in graph[v].items():\n",
    "                if A[w] is None:\n",
    "                    heappush(queue, (path_len + edge_len, w))\n",
    "\n",
    "    # to give same result as original, assign zero distance to unreachable vertices             \n",
    "    return [0 if x is None else x for x in A] "
   ]
  },
  {
   "cell_type": "code",
   "execution_count": 1,
   "metadata": {
    "collapsed": false,
    "scrolled": true
   },
   "outputs": [
    {
     "data": {
      "text/plain": [
       "(0, 1)"
      ]
     },
     "execution_count": 1,
     "metadata": {},
     "output_type": "execute_result"
    }
   ],
   "source": [
    "from heapq import heappush, heappop\n",
    "queue=[(0,1),(10,3),(5,2)]\n",
    "heappop(queue)"
   ]
  },
  {
   "cell_type": "code",
   "execution_count": 7,
   "metadata": {
    "collapsed": false
   },
   "outputs": [
    {
     "name": "stdout",
     "output_type": "stream",
     "text": [
      "(1, 'c', 14)\n",
      "(5, 'a', 10)\n",
      "(7, 'b', 11)\n"
     ]
    }
   ],
   "source": [
    "h = []\n",
    "heappush(h, (5, 'a',10))\n",
    "heappush(h, (7, 'b',11))\n",
    "heappush(h, (1, 'c',14))\n",
    "\n",
    "\n",
    "print heappop(h)\n",
    "print heappop(h)\n",
    "print heappop(h)"
   ]
  },
  {
   "cell_type": "code",
   "execution_count": 3,
   "metadata": {
    "collapsed": false,
    "scrolled": true
   },
   "outputs": [
    {
     "data": {
      "text/plain": [
       "[(0, 2), (2, 6)]"
      ]
     },
     "execution_count": 3,
     "metadata": {},
     "output_type": "execute_result"
    }
   ],
   "source": [
    "g = {0:{1:2}, 1:{0:2, 2:6}, 2:{1:6}}\n",
    "g[1].items()"
   ]
  },
  {
   "cell_type": "code",
   "execution_count": 48,
   "metadata": {
    "collapsed": false,
    "scrolled": true
   },
   "outputs": [
    {
     "name": "stdout",
     "output_type": "stream",
     "text": [
      "['1', '2,1', '4,2']\n",
      "['2', '1,2', '3,2', '5,4']\n",
      "['3', '2,2', '5,1']\n",
      "['4', '1,2', '5,3']\n",
      "['5', '2,4', '3,1']\n"
     ]
    }
   ],
   "source": [
    "filename = \"./data/sanity.txt\"\n",
    "\n",
    "G = []\n",
    "\n",
    "with open(filename) as f:\n",
    "    for line in f:\n",
    "      print line.rstrip().split(\" \")\n",
    "      G.append(line.rstrip().split(\" \"))"
   ]
  },
  {
   "cell_type": "code",
   "execution_count": 56,
   "metadata": {
    "collapsed": false,
    "scrolled": true
   },
   "outputs": [],
   "source": [
    "A={'1':0}\n",
    "Visited = set()\n",
    "Visited.add('1')"
   ]
  },
  {
   "cell_type": "code",
   "execution_count": 57,
   "metadata": {
    "collapsed": false
   },
   "outputs": [
    {
     "data": {
      "text/plain": [
       "{'1': 0}"
      ]
     },
     "execution_count": 57,
     "metadata": {},
     "output_type": "execute_result"
    }
   ],
   "source": [
    "A"
   ]
  },
  {
   "cell_type": "code",
   "execution_count": 58,
   "metadata": {
    "collapsed": false
   },
   "outputs": [
    {
     "name": "stdout",
     "output_type": "stream",
     "text": [
      "set(['1'])\n",
      "set(['1', '2'])\n",
      "set(['1', '2', '4'])\n",
      "set(['1', '3', '2', '4'])\n",
      "set(['1', '3', '2', '5', '4'])\n"
     ]
    }
   ],
   "source": [
    "while len(Visited)<5:\n",
    "    tmp={}\n",
    "    for S in Visited:\n",
    "        for Front in G[int(S)-1][1:]:\n",
    "            edge = Front.split(\",\")\n",
    "            if edge[0] not in Visited:\n",
    "               tmp[edge[0]] = A[S] + int(edge[1])\n",
    "    minkey = min(tmp, key=tmp.get)\n",
    "    A[minkey]=tmp[minkey]\n",
    "    print Visited\n",
    "    Visited.add(minkey)\n",
    "print Visited"
   ]
  },
  {
   "cell_type": "code",
   "execution_count": 59,
   "metadata": {
    "collapsed": false
   },
   "outputs": [
    {
     "data": {
      "text/plain": [
       "{'1': 0, '2': 1, '3': 3, '4': 2, '5': 5}"
      ]
     },
     "execution_count": 59,
     "metadata": {},
     "output_type": "execute_result"
    }
   ],
   "source": [
    "A"
   ]
  },
  {
   "cell_type": "code",
   "execution_count": 44,
   "metadata": {
    "collapsed": false
   },
   "outputs": [
    {
     "data": {
      "text/plain": [
       "'2'"
      ]
     },
     "execution_count": 44,
     "metadata": {},
     "output_type": "execute_result"
    }
   ],
   "source": [
    "min(tmp, key=tmp.get)"
   ]
  }
 ],
 "metadata": {
  "kernelspec": {
   "display_name": "Python 2",
   "language": "python",
   "name": "python2"
  },
  "language_info": {
   "codemirror_mode": {
    "name": "ipython",
    "version": 2
   },
   "file_extension": ".py",
   "mimetype": "text/x-python",
   "name": "python",
   "nbconvert_exporter": "python",
   "pygments_lexer": "ipython2",
   "version": "2.7.12"
  }
 },
 "nbformat": 4,
 "nbformat_minor": 0
}
