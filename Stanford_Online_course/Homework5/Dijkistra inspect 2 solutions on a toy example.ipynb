{
 "cells": [
  {
   "cell_type": "code",
   "execution_count": null,
   "metadata": {
    "collapsed": true
   },
   "outputs": [],
   "source": [
    "# bug:  tmp[tail] = A[S] + G[S][tail] does not take into account that multiple sources \n",
    "  linked to one tails. In this case, you should keep the shortest one"
   ]
  },
  {
   "cell_type": "code",
   "execution_count": 20,
   "metadata": {
    "collapsed": true
   },
   "outputs": [],
   "source": [
    "G={1:{2:10,4:5},2:{4:2,3:1},3:{5:4},4:{2:3,3:9,5:2},5:{1:7,3:6}}\n",
    "A={1:0}\n",
    "Visited = set()\n",
    "Visited.add(1)\n",
    "total = len(G)\n",
    "seq=[]"
   ]
  },
  {
   "cell_type": "code",
   "execution_count": 21,
   "metadata": {
    "collapsed": false,
    "scrolled": false
   },
   "outputs": [
    {
     "name": "stdout",
     "output_type": "stream",
     "text": [
      "visited set([1])\n",
      "tmp defaultdict(<function <lambda> at 0x7f772c0ffd70>, {2: 10, 4: 5})\n",
      "visited set([1, 4])\n",
      "tmp defaultdict(<function <lambda> at 0x7f772c0ffed8>, {2: 8, 3: 14, 5: 7})\n",
      "visited set([1, 4, 5])\n",
      "tmp defaultdict(<function <lambda> at 0x7f772c1819b0>, {2: 8, 3: 13})\n",
      "visited set([1, 2, 4, 5])\n",
      "tmp defaultdict(<function <lambda> at 0x7f772c118050>, {3: 9})\n"
     ]
    }
   ],
   "source": [
    "from collections import defaultdict\n",
    "while len(Visited)<total:\n",
    "    tmp=defaultdict(lambda: float(\"inf\"))\n",
    "    for S in Visited:\n",
    "        for tail in G[S]:\n",
    "            if tail not in Visited:\n",
    "               tmp[tail] = min(tmp[tail],A[S] + G[S][tail])\n",
    "    minkey = min(tmp, key=tmp.get)\n",
    "\n",
    "    print \"visited\",Visited\n",
    "    print \"tmp\",tmp\n",
    "    A[minkey]=tmp[minkey]\n",
    "    Visited.add(minkey)\n",
    "    seq.append(minkey)\n"
   ]
  },
  {
   "cell_type": "code",
   "execution_count": 22,
   "metadata": {
    "collapsed": false
   },
   "outputs": [
    {
     "name": "stdout",
     "output_type": "stream",
     "text": [
      "[4, 5, 2, 3]\n"
     ]
    }
   ],
   "source": [
    "print seq"
   ]
  },
  {
   "cell_type": "code",
   "execution_count": 23,
   "metadata": {
    "collapsed": false
   },
   "outputs": [],
   "source": [
    "#source: http://www.cnblogs.com/hanahimi/p/4692638.html\n",
    "def Dijkstra(G,v0,INF=9999999):\n",
    "\n",
    "     book = set()\n",
    "     minv = v0\n",
    "\n",
    "     dis = dict((k,INF) for k in G.keys())\n",
    "     dis[v0] = 0\n",
    "     \n",
    "     while len(book)<len(G):\n",
    "         book.add(minv)                                  # 确定当期顶点的距离\n",
    "         for w in G[minv]:                               # 以当前点的中心向外扩散\n",
    "            # if dis[minv] + G[minv][w] < dis[w]:         # 如果从当前点扩展到某一点的距离小与已知最短距离  \n",
    "              if w not in book:\n",
    "                 dis[w] = dis[minv] + G[minv][w]         # 对已知距离进行更新\n",
    "         \n",
    "         new = INF                                       # 从剩下的未确定点中选择最小距离点作为新的扩散点\n",
    "         for v in dis.keys():\n",
    "             if v in book: continue\n",
    "             if dis[v] < new: \n",
    "                 new = dis[v]\n",
    "                 minv = v\n",
    "     return dis\n",
    " \n",
    " \n",
    "dis = Dijkstra(G,v0=1)"
   ]
  },
  {
   "cell_type": "code",
   "execution_count": 23,
   "metadata": {
    "collapsed": false
   },
   "outputs": [
    {
     "data": {
      "text/plain": [
       "{1: 0, 2: 8, 3: 9, 4: 5, 5: 7}"
      ]
     },
     "execution_count": 23,
     "metadata": {},
     "output_type": "execute_result"
    }
   ],
   "source": [
    "A"
   ]
  },
  {
   "cell_type": "code",
   "execution_count": 25,
   "metadata": {
    "collapsed": false
   },
   "outputs": [
    {
     "data": {
      "text/plain": [
       "{1: 0, 2: 8, 3: 9, 4: 5, 5: 7}"
      ]
     },
     "execution_count": 25,
     "metadata": {},
     "output_type": "execute_result"
    }
   ],
   "source": [
    "dis"
   ]
  }
 ],
 "metadata": {
  "kernelspec": {
   "display_name": "Python 2",
   "language": "python",
   "name": "python2"
  },
  "language_info": {
   "codemirror_mode": {
    "name": "ipython",
    "version": 2
   },
   "file_extension": ".py",
   "mimetype": "text/x-python",
   "name": "python",
   "nbconvert_exporter": "python",
   "pygments_lexer": "ipython2",
   "version": "2.7.13"
  }
 },
 "nbformat": 4,
 "nbformat_minor": 0
}
