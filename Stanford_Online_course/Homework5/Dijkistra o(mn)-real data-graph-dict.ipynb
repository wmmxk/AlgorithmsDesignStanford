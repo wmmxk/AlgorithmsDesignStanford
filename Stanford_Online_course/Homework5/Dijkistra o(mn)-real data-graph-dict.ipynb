{
 "cells": [
  {
   "cell_type": "code",
   "execution_count": null,
   "metadata": {
    "collapsed": true
   },
   "outputs": [],
   "source": [
    "＃distances.get(k,float('inf'))     "
   ]
  },
  {
   "cell_type": "code",
   "execution_count": null,
   "metadata": {
    "collapsed": true
   },
   "outputs": [],
   "source": [
    "# These two are not equivalent\n",
    "if dis[minv] + G[minv][w] < dis[w]:         # 如果从当前点扩展到某一点的距离小与已知最短距离  \n",
    "if w not in book:\n",
    "    \n",
    "# the right answer seems to minimize A[S] + G[S][tail] sequentially"
   ]
  },
  {
   "cell_type": "code",
   "execution_count": null,
   "metadata": {
    "collapsed": true
   },
   "outputs": [],
   "source": [
    "# The difference is that you keeps the final distance only in A,whereas the tenative distance is stored and replaced\n",
    "with the shortest path finally"
   ]
  },
  {
   "cell_type": "code",
   "execution_count": 29,
   "metadata": {
    "collapsed": false,
    "scrolled": false
   },
   "outputs": [],
   "source": [
    "filename = \"./data/dijkstraData.txt\"  \n",
    "G = {}\n",
    "with open(filename) as f:\n",
    "    for line in f:\n",
    "      eachline = line.rstrip().split(\"\\t\")\n",
    "      tmp ={}\n",
    "      for edge in eachline[1:]:\n",
    "         node_len = edge.split(\",\")\n",
    "         tmp[int(node_len[0])]=int(node_len[1])\n",
    "      G[int(eachline[0])] = tmp"
   ]
  },
  {
   "cell_type": "code",
   "execution_count": 30,
   "metadata": {
    "collapsed": true
   },
   "outputs": [],
   "source": [
    "A={1:0}\n",
    "Visited = set()\n",
    "Visited.add(1)\n",
    "total = len(G)"
   ]
  },
  {
   "cell_type": "code",
   "execution_count": 28,
   "metadata": {
    "collapsed": true
   },
   "outputs": [],
   "source": [
    "minv=1"
   ]
  },
  {
   "cell_type": "markdown",
   "metadata": {
    "collapsed": true
   },
   "source": [
    "k=1\n",
    "while len(Visited)<total:\n",
    "    tmp={}\n",
    "    S=minv\n",
    "    for tail in G[S]:\n",
    "        if tail not in Visited:\n",
    "           tmp[tail] = A[S] + G[S][tail]\n",
    "    minkey = min(tmp, key=tmp.get)\n",
    "    A[minkey]=tmp[minkey]\n",
    "    Visited.add(minkey)\n",
    "    minv=minkey\n",
    "    k+=1"
   ]
  },
  {
   "cell_type": "code",
   "execution_count": 32,
   "metadata": {
    "collapsed": false,
    "scrolled": false
   },
   "outputs": [],
   "source": [
    "from collections import defaultdict\n",
    "while len(Visited)<total:\n",
    "    tmp=defaultdict(lambda: float(\"inf\"))\n",
    "    for S in Visited:\n",
    "        for tail in G[S]:\n",
    "            if tail not in Visited:\n",
    "               tmp[tail] = min(tmp[tail],A[S] + G[S][tail])\n",
    "    minkey = min(tmp, key=tmp.get)\n",
    "    A[minkey]=tmp[minkey]\n",
    "    Visited.add(minkey)\n"
   ]
  },
  {
   "cell_type": "code",
   "execution_count": 33,
   "metadata": {
    "collapsed": false
   },
   "outputs": [],
   "source": [
    "#source: http://www.cnblogs.com/hanahimi/p/4692638.html\n",
    "def Dijkstra(G,v0,INF=9999999):\n",
    "\n",
    "     book = set()\n",
    "     minv = v0\n",
    "\n",
    "     dis = dict((k,INF) for k in G.keys())\n",
    "     dis[v0] = 0\n",
    "     \n",
    "     while len(book)<len(G):\n",
    "         book.add(minv)                                  # 确定当期顶点的距离\n",
    "         for w in G[minv]:                               # 以当前点的中心向外扩散\n",
    "            # if dis[minv] + G[minv][w] < dis[w]:         # 如果从当前点扩展到某一点的距离小与已知最短距离  \n",
    "              if w not in book:\n",
    "                 dis[w] = dis[minv] + G[minv][w]         # 对已知距离进行更新\n",
    "         \n",
    "         new = INF                                       # 从剩下的未确定点中选择最小距离点作为新的扩散点\n",
    "         for v in dis.keys():\n",
    "             if v in book: continue\n",
    "             if dis[v] < new: \n",
    "                 new = dis[v]\n",
    "                 minv = v\n",
    "     return dis\n",
    " \n",
    " \n",
    "dis = Dijkstra(G,v0=1)"
   ]
  },
  {
   "cell_type": "code",
   "execution_count": 24,
   "metadata": {
    "collapsed": false
   },
   "outputs": [
    {
     "data": {
      "text/plain": [
       "{1: 0, 2: 8, 3: 13, 4: 5, 5: 7}"
      ]
     },
     "execution_count": 24,
     "metadata": {},
     "output_type": "execute_result"
    }
   ],
   "source": [
    "A"
   ]
  },
  {
   "cell_type": "code",
   "execution_count": 25,
   "metadata": {
    "collapsed": false
   },
   "outputs": [
    {
     "data": {
      "text/plain": [
       "{1: 0, 2: 8, 3: 9, 4: 5, 5: 7}"
      ]
     },
     "execution_count": 25,
     "metadata": {},
     "output_type": "execute_result"
    }
   ],
   "source": [
    "dis"
   ]
  },
  {
   "cell_type": "code",
   "execution_count": 34,
   "metadata": {
    "collapsed": false
   },
   "outputs": [
    {
     "data": {
      "text/plain": [
       "[2599, 2610, 2947, 2052, 2367, 2399, 2029, 2442, 2505, 3068]"
      ]
     },
     "execution_count": 34,
     "metadata": {},
     "output_type": "execute_result"
    }
   ],
   "source": [
    "#A=dis\n",
    "select = [7,37,59,82,99,115,133,165,188,197]\n",
    "[A[k] for k in select]"
   ]
  },
  {
   "cell_type": "code",
   "execution_count": 20,
   "metadata": {
    "collapsed": true
   },
   "outputs": [],
   "source": [
    "import pickle\n",
    "with open('./output/shortpath.pickle', 'rb') as handle:\n",
    "    truth = pickle.load(handle)"
   ]
  },
  {
   "cell_type": "code",
   "execution_count": 35,
   "metadata": {
    "collapsed": false
   },
   "outputs": [
    {
     "ename": "NameError",
     "evalue": "name 'truth' is not defined",
     "output_type": "error",
     "traceback": [
      "\u001b[0;31m---------------------------------------------------------------------------\u001b[0m",
      "\u001b[0;31mNameError\u001b[0m                                 Traceback (most recent call last)",
      "\u001b[0;32m<ipython-input-35-69794e5e4c4a>\u001b[0m in \u001b[0;36m<module>\u001b[0;34m()\u001b[0m\n\u001b[1;32m      1\u001b[0m \u001b[0mselect\u001b[0m \u001b[0;34m=\u001b[0m \u001b[0;34m[\u001b[0m\u001b[0;36m7\u001b[0m\u001b[0;34m,\u001b[0m\u001b[0;36m37\u001b[0m\u001b[0;34m,\u001b[0m\u001b[0;36m59\u001b[0m\u001b[0;34m,\u001b[0m\u001b[0;36m82\u001b[0m\u001b[0;34m,\u001b[0m\u001b[0;36m99\u001b[0m\u001b[0;34m,\u001b[0m\u001b[0;36m115\u001b[0m\u001b[0;34m,\u001b[0m\u001b[0;36m133\u001b[0m\u001b[0;34m,\u001b[0m\u001b[0;36m165\u001b[0m\u001b[0;34m,\u001b[0m\u001b[0;36m188\u001b[0m\u001b[0;34m,\u001b[0m\u001b[0;36m197\u001b[0m\u001b[0;34m]\u001b[0m\u001b[0;34m\u001b[0m\u001b[0m\n\u001b[0;32m----> 2\u001b[0;31m \u001b[0;34m[\u001b[0m\u001b[0mtruth\u001b[0m\u001b[0;34m[\u001b[0m\u001b[0mk\u001b[0m\u001b[0;34m-\u001b[0m\u001b[0;36m1\u001b[0m\u001b[0;34m]\u001b[0m \u001b[0;32mfor\u001b[0m \u001b[0mk\u001b[0m \u001b[0;32min\u001b[0m \u001b[0mselect\u001b[0m\u001b[0;34m]\u001b[0m\u001b[0;34m\u001b[0m\u001b[0m\n\u001b[0m",
      "\u001b[0;31mNameError\u001b[0m: name 'truth' is not defined"
     ]
    }
   ],
   "source": [
    "select = [7,37,59,82,99,115,133,165,188,197]\n",
    "[truth[k-1] for k in select]"
   ]
  }
 ],
 "metadata": {
  "kernelspec": {
   "display_name": "Python 2",
   "language": "python",
   "name": "python2"
  },
  "language_info": {
   "codemirror_mode": {
    "name": "ipython",
    "version": 2
   },
   "file_extension": ".py",
   "mimetype": "text/x-python",
   "name": "python",
   "nbconvert_exporter": "python",
   "pygments_lexer": "ipython2",
   "version": "2.7.13"
  }
 },
 "nbformat": 4,
 "nbformat_minor": 0
}
