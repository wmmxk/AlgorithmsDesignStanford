{
 "cells": [
  {
   "cell_type": "code",
   "execution_count": null,
   "metadata": {
    "collapsed": true
   },
   "outputs": [],
   "source": [
    "# In your 1st version of implementation, you repeated compute A[S]+SW\n",
    "When you add a new charted vertex S2, the path length to S1's neighbours through S1 does not change.\n",
    "So you need to keep all the tenative distance from all visited vertices to all front nodes, and the corresponding \n",
    "   front vertices.\n",
    "For each iteration, you pop out a pair of (tenative distance, front vertices),\n",
    "# no need to do this add the chosen front vertices to the set of visited vertices\n",
    "add the tenative distances to vertices reachable from the chosen front vertices (charted neighbours don't count)\n",
    "                                                                            \n",
    "end when there is no tenative distance in the queue"
   ]
  },
  {
   "cell_type": "code",
   "execution_count": null,
   "metadata": {
    "collapsed": true
   },
   "outputs": [],
   "source": [
    "# Design principle: minimize the bookkeeping and then add in next version. The source node is not necessay\n"
   ]
  },
  {
   "cell_type": "code",
   "execution_count": null,
   "metadata": {
    "collapsed": true
   },
   "outputs": [],
   "source": [
    "#source: https://codereview.stackexchange.com/questions/79025/dijkstras-algorithm-in-python"
   ]
  },
  {
   "cell_type": "code",
   "execution_count": 19,
   "metadata": {
    "collapsed": true
   },
   "outputs": [],
   "source": [
    "from heapq import heappush, heappop\n",
    "\n",
    "def Dijkstra(graph, start):\n",
    "    A = [None] * len(graph)\n",
    "    queue = [(0, start)]\n",
    "    while queue:\n",
    "        path_len, v = heappop(queue)\n",
    "        if A[v-1] is None: # v is unvisited\n",
    "            A[v-1] = path_len\n",
    "            for w, edge_len in graph[v].items():\n",
    "                if A[w-1] is None:\n",
    "                    heappush(queue, (path_len + edge_len, w))\n",
    "\n",
    "    # to give same result as original, assign zero distance to unreachable vertices             \n",
    "    return [1000000 if x is None else x for x in A] "
   ]
  },
  {
   "cell_type": "code",
   "execution_count": 1,
   "metadata": {
    "collapsed": false,
    "scrolled": true
   },
   "outputs": [
    {
     "data": {
      "text/plain": [
       "[(0, 2), (2, 6)]"
      ]
     },
     "execution_count": 1,
     "metadata": {},
     "output_type": "execute_result"
    }
   ],
   "source": [
    "g = {0:{1:2}, 1:{0:2, 2:6}, 2:{1:6}}\n",
    "g[1].items()"
   ]
  },
  {
   "cell_type": "code",
   "execution_count": 20,
   "metadata": {
    "collapsed": false,
    "scrolled": true
   },
   "outputs": [],
   "source": [
    "filename = \"./data/dijkstraData.txt\"  \n",
    "\n",
    "G = {}\n",
    "\n",
    "with open(filename) as f:\n",
    "    for line in f:\n",
    "      eachline = line.rstrip().split(\"\\t\")\n",
    "      tmp ={}\n",
    "      for edge in eachline[1:]:\n",
    "         node_len = edge.split(\",\")\n",
    "         tmp[int(node_len[0])]=int(node_len[1])\n",
    "      G[int(eachline[0])] = tmp"
   ]
  },
  {
   "cell_type": "code",
   "execution_count": 29,
   "metadata": {
    "collapsed": false
   },
   "outputs": [
    {
     "data": {
      "text/plain": [
       "200"
      ]
     },
     "execution_count": 29,
     "metadata": {},
     "output_type": "execute_result"
    }
   ],
   "source": [
    "v"
   ]
  },
  {
   "cell_type": "code",
   "execution_count": 31,
   "metadata": {
    "collapsed": false,
    "scrolled": false
   },
   "outputs": [],
   "source": [
    "graph=G\n",
    "start=1\n",
    "A = [None] * len(graph)\n",
    "queue = [(0, start)]\n",
    "while queue:\n",
    "    path_len, v = heappop(queue)\n",
    "    if A[v-1] is None: # v is unvisited\n",
    "\n",
    "        A[v-1] = path_len\n",
    "        for w, edge_len in graph[v].items():\n",
    "            #print w\n",
    "            if A[w-1] is None:\n",
    "                heappush(queue, (path_len + edge_len, w))"
   ]
  },
  {
   "cell_type": "code",
   "execution_count": 33,
   "metadata": {
    "collapsed": false,
    "scrolled": true
   },
   "outputs": [
    {
     "data": {
      "text/plain": [
       "[2599, 2610, 2947, 2052, 2367, 2399, 2029, 2442, 2505, 3068]"
      ]
     },
     "execution_count": 33,
     "metadata": {},
     "output_type": "execute_result"
    }
   ],
   "source": [
    "select = [7,37,59,82,99,115,133,165,188,197]\n",
    "[A[k-1] for k in select]"
   ]
  },
  {
   "cell_type": "code",
   "execution_count": null,
   "metadata": {
    "collapsed": true
   },
   "outputs": [],
   "source": [
    "[10626, 5293, 5116, 5379, 2367, 2834, 12509, 2442, 4112, 8436]"
   ]
  },
  {
   "cell_type": "code",
   "execution_count": 40,
   "metadata": {
    "collapsed": false,
    "scrolled": true
   },
   "outputs": [],
   "source": [
    "import pickle\n",
    "with open(\"./output/shortpath.pickle\",\"wb\") as f:\n",
    "    pickle.dump( A, f)"
   ]
  },
  {
   "cell_type": "code",
   "execution_count": 57,
   "metadata": {
    "collapsed": false
   },
   "outputs": [
    {
     "data": {
      "text/plain": [
       "{'1': 0}"
      ]
     },
     "execution_count": 57,
     "metadata": {},
     "output_type": "execute_result"
    }
   ],
   "source": [
    "A"
   ]
  },
  {
   "cell_type": "code",
   "execution_count": 58,
   "metadata": {
    "collapsed": false
   },
   "outputs": [
    {
     "name": "stdout",
     "output_type": "stream",
     "text": [
      "set(['1'])\n",
      "set(['1', '2'])\n",
      "set(['1', '2', '4'])\n",
      "set(['1', '3', '2', '4'])\n",
      "set(['1', '3', '2', '5', '4'])\n"
     ]
    }
   ],
   "source": [
    "while len(Visited)<5:\n",
    "    tmp={}\n",
    "    for S in Visited:\n",
    "        for Front in G[int(S)-1][1:]:\n",
    "            edge = Front.split(\",\")\n",
    "            if edge[0] not in Visited:\n",
    "               tmp[edge[0]] = A[S] + int(edge[1])\n",
    "    minkey = min(tmp, key=tmp.get)\n",
    "    A[minkey]=tmp[minkey]\n",
    "    print Visited\n",
    "    Visited.add(minkey)\n",
    "print Visited"
   ]
  },
  {
   "cell_type": "code",
   "execution_count": 59,
   "metadata": {
    "collapsed": false
   },
   "outputs": [
    {
     "data": {
      "text/plain": [
       "{'1': 0, '2': 1, '3': 3, '4': 2, '5': 5}"
      ]
     },
     "execution_count": 59,
     "metadata": {},
     "output_type": "execute_result"
    }
   ],
   "source": [
    "A"
   ]
  },
  {
   "cell_type": "code",
   "execution_count": 44,
   "metadata": {
    "collapsed": false
   },
   "outputs": [
    {
     "data": {
      "text/plain": [
       "'2'"
      ]
     },
     "execution_count": 44,
     "metadata": {},
     "output_type": "execute_result"
    }
   ],
   "source": [
    "min(tmp, key=tmp.get)"
   ]
  }
 ],
 "metadata": {
  "kernelspec": {
   "display_name": "Python 2",
   "language": "python",
   "name": "python2"
  },
  "language_info": {
   "codemirror_mode": {
    "name": "ipython",
    "version": 2
   },
   "file_extension": ".py",
   "mimetype": "text/x-python",
   "name": "python",
   "nbconvert_exporter": "python",
   "pygments_lexer": "ipython2",
   "version": "2.7.13"
  }
 },
 "nbformat": 4,
 "nbformat_minor": 0
}
