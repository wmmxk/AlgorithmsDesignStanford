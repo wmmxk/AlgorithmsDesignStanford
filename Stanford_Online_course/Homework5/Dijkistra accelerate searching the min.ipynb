{
 "cells": [
  {
   "cell_type": "markdown",
   "metadata": {
    "collapsed": false
   },
   "source": [
    "# In your 1st version of implementation, you repeated compute A[S]+SW\n",
    "When you add a new charted vertex S2, the path length to S1's neighbours through S1 does not change.\n",
    "So you need to keep all the tenative distance from all visited vertices to all front nodes, and the corresponding \n",
    "   front vertices.\n",
    "For each iteration, you pop out a pair of (tenative distance, front vertices),\n",
    "# no need to  add the chosen front vertices to the set of visited vertices\n",
    "add the tenative distances to vertices reachable from the chosen front vertices (charted neighbours don't count)\n",
    "                                                                            \n",
    "end when there is no tenative distance in the queue"
   ]
  },
  {
   "cell_type": "code",
   "execution_count": 3,
   "metadata": {
    "collapsed": true
   },
   "outputs": [],
   "source": [
    "# Design principle: minimize the bookkeeping and then add in next version. The source node is not necessay\n"
   ]
  },
  {
   "cell_type": "code",
   "execution_count": 4,
   "metadata": {
    "collapsed": true
   },
   "outputs": [],
   "source": [
    "#source: https://codereview.stackexchange.com/questions/79025/dijkstras-algorithm-in-python"
   ]
  },
  {
   "cell_type": "code",
   "execution_count": 5,
   "metadata": {
    "collapsed": true
   },
   "outputs": [],
   "source": [
    "from heapq import heappush, heappop\n",
    "def Dijkstra(graph, start):\n",
    "    A = [None] * len(graph)\n",
    "    queue = [(0, start)]\n",
    "    while queue:\n",
    "        path_len, v = heappop(queue)\n",
    "        if A[v-1] is None: # v is unvisited\n",
    "            A[v-1] = path_len\n",
    "            for w, edge_len in graph[v].items():\n",
    "                if A[w-1] is None:\n",
    "                    heappush(queue, (path_len + edge_len, w))\n",
    "\n",
    "    # to give same result as original, assign zero distance to unreachable vertices             D\n",
    "    return [1000000 if x is None else x for x in A] "
   ]
  },
  {
   "cell_type": "code",
   "execution_count": 6,
   "metadata": {
    "collapsed": false,
    "scrolled": true
   },
   "outputs": [
    {
     "data": {
      "text/plain": [
       "[(0, 2), (2, 6)]"
      ]
     },
     "execution_count": 6,
     "metadata": {},
     "output_type": "execute_result"
    }
   ],
   "source": [
    "g = {0:{1:2}, 1:{0:2, 2:6}, 2:{1:6}}\n",
    "g[1].items()"
   ]
  },
  {
   "cell_type": "code",
   "execution_count": 1,
   "metadata": {
    "collapsed": false,
    "scrolled": true
   },
   "outputs": [],
   "source": [
    "filename = \"./data/dijkstraData.txt\"  \n",
    "G = {}\n",
    "with open(filename) as f:\n",
    "    for line in f:\n",
    "      eachline = line.rstrip().split(\"\\t\")\n",
    "      tmp ={}\n",
    "      for edge in eachline[1:]:\n",
    "         node_len = edge.split(\",\")\n",
    "         tmp[int(node_len[0])]=int(node_len[1])\n",
    "      G[int(eachline[0])] = tmp"
   ]
  },
  {
   "cell_type": "code",
   "execution_count": 19,
   "metadata": {
    "collapsed": true
   },
   "outputs": [],
   "source": [
    "sequence=[]"
   ]
  },
  {
   "cell_type": "code",
   "execution_count": 20,
   "metadata": {
    "collapsed": false,
    "scrolled": true
   },
   "outputs": [],
   "source": [
    "graph=G\n",
    "start=1\n",
    "k=1\n",
    "A = [None] * len(graph)\n",
    "queue = [(0, start)]\n",
    "while queue:\n",
    "    path_len, v = heappop(queue)\n",
    "    if A[v-1] is None: # v is unvisited\n",
    "\n",
    "        A[v-1] = path_len\n",
    "        sequence.append(v)\n",
    "        for w, edge_len in graph[v].items():\n",
    "            #print w\n",
    "            if A[w-1] is None:\n",
    "                heappush(queue, (path_len + edge_len, w))\n",
    "    k+=1\n",
    "    if k ==10:\n",
    "        break\n",
    "    #print [index+1 for index, dist in enumerate(A) if dist!=None]"
   ]
  },
  {
   "cell_type": "code",
   "execution_count": 23,
   "metadata": {
    "collapsed": false
   },
   "outputs": [
    {
     "data": {
      "text/plain": [
       "199"
      ]
     },
     "execution_count": 23,
     "metadata": {},
     "output_type": "execute_result"
    }
   ],
   "source": [
    "v"
   ]
  },
  {
   "cell_type": "code",
   "execution_count": 22,
   "metadata": {
    "collapsed": false
   },
   "outputs": [
    {
     "data": {
      "text/plain": [
       "[1, 114, 140, 92, 145, 129, 70, 9, 199]"
      ]
     },
     "execution_count": 22,
     "metadata": {},
     "output_type": "execute_result"
    }
   ],
   "source": [
    "sequence"
   ]
  },
  {
   "cell_type": "code",
   "execution_count": 24,
   "metadata": {
    "collapsed": false
   },
   "outputs": [
    {
     "name": "stdout",
     "output_type": "stream",
     "text": [
      "65\n"
     ]
    }
   ],
   "source": [
    "path_len, v = heappop(queue)\n",
    "print v"
   ]
  },
  {
   "cell_type": "code",
   "execution_count": 11,
   "metadata": {
    "collapsed": false,
    "scrolled": false
   },
   "outputs": [
    {
     "data": {
      "text/plain": [
       "[(826, 65),\n",
       " (982, 80),\n",
       " (1193, 85),\n",
       " (998, 35),\n",
       " (1169, 108),\n",
       " (1203, 128),\n",
       " (1445, 131),\n",
       " (1073, 194),\n",
       " (2351, 20),\n",
       " (1457, 194),\n",
       " (1826, 103),\n",
       " (1913, 11),\n",
       " (2038, 168),\n",
       " (2979, 47),\n",
       " (2069, 173),\n",
       " (1257, 134),\n",
       " (1222, 27),\n",
       " (2437, 49),\n",
       " (3333, 64),\n",
       " (3401, 200),\n",
       " (2183, 150),\n",
       " (2417, 136),\n",
       " (2367, 99),\n",
       " (3140, 109),\n",
       " (3013, 77),\n",
       " (2776, 169),\n",
       " (2597, 117),\n",
       " (3999, 175),\n",
       " (3109, 149),\n",
       " (4575, 158),\n",
       " (2620, 170),\n",
       " (1539, 72),\n",
       " (4042, 32),\n",
       " (1724, 198),\n",
       " (2491, 108),\n",
       " (3653, 24),\n",
       " (3261, 89),\n",
       " (4466, 121),\n",
       " (3610, 189),\n",
       " (6160, 100),\n",
       " (3536, 44),\n",
       " (6461, 160),\n",
       " (7900, 174),\n",
       " (8164, 163),\n",
       " (3990, 55),\n",
       " (2540, 107),\n",
       " (2535, 111),\n",
       " (6046, 167),\n",
       " (3620, 115),\n",
       " (8141, 115),\n",
       " (6299, 184),\n",
       " (3681, 25),\n",
       " (7073, 97),\n",
       " (3091, 34),\n",
       " (2909, 125),\n",
       " (6896, 141),\n",
       " (4709, 9),\n",
       " (4642, 17),\n",
       " (4137, 178),\n",
       " (8798, 59),\n",
       " (5413, 24),\n",
       " (4967, 130),\n",
       " (6029, 36),\n",
       " (4612, 30),\n",
       " (7410, 139),\n",
       " (7747, 17),\n",
       " (5284, 150),\n",
       " (2498, 63),\n",
       " (1832, 152),\n",
       " (2816, 167),\n",
       " (2733, 8),\n",
       " (4594, 175),\n",
       " (3829, 177),\n",
       " (3512, 152),\n",
       " (6239, 22),\n",
       " (6379, 31),\n",
       " (8627, 186),\n",
       " (7420, 159),\n",
       " (6732, 94),\n",
       " (8021, 200),\n",
       " (6775, 71),\n",
       " (7321, 192),\n",
       " (4508, 193),\n",
       " (10135, 152),\n",
       " (6747, 110),\n",
       " (8858, 72),\n",
       " (10131, 47),\n",
       " (10198, 76),\n",
       " (8747, 20),\n",
       " (8384, 117),\n",
       " (6026, 142),\n",
       " (7345, 26),\n",
       " (9452, 123),\n",
       " (7797, 175),\n",
       " (9497, 101),\n",
       " (9201, 6),\n",
       " (9047, 40),\n",
       " (10170, 68),\n",
       " (4122, 26),\n",
       " (10375, 166),\n",
       " (10209, 47),\n",
       " (6916, 102),\n",
       " (6647, 104),\n",
       " (8700, 169),\n",
       " (7990, 79),\n",
       " (8697, 143),\n",
       " (10652, 32),\n",
       " (5992, 138),\n",
       " (6028, 4),\n",
       " (5028, 43),\n",
       " (5573, 156),\n",
       " (10139, 42),\n",
       " (7905, 27),\n",
       " (6986, 17),\n",
       " (6075, 183),\n",
       " (9423, 17),\n",
       " (5547, 155),\n",
       " (7974, 148),\n",
       " (5835, 151),\n",
       " (10468, 22),\n",
       " (9832, 124),\n",
       " (6769, 188),\n",
       " (7275, 153),\n",
       " (9995, 26),\n",
       " (5922, 65),\n",
       " (9653, 63),\n",
       " (9447, 166),\n",
       " (7896, 138),\n",
       " (10225, 95),\n",
       " (9446, 139),\n",
       " (10085, 76),\n",
       " (9986, 29),\n",
       " (8572, 115),\n",
       " (7571, 159),\n",
       " (6740, 180),\n",
       " (8727, 138),\n",
       " (6742, 75),\n",
       " (8125, 31),\n",
       " (4358, 190),\n",
       " (8564, 162),\n",
       " (6399, 55),\n",
       " (7892, 78),\n",
       " (7693, 76),\n",
       " (9988, 47),\n",
       " (9011, 34),\n",
       " (8998, 180),\n",
       " (8598, 136),\n",
       " (9146, 61),\n",
       " (3543, 16),\n",
       " (6601, 154),\n",
       " (9773, 59),\n",
       " (7860, 53)]"
      ]
     },
     "execution_count": 11,
     "metadata": {},
     "output_type": "execute_result"
    }
   ],
   "source": [
    "queue"
   ]
  },
  {
   "cell_type": "code",
   "execution_count": 19,
   "metadata": {
    "collapsed": true
   },
   "outputs": [],
   "source": [
    "import pickle\n",
    "with open(\"./output/nodeseq.pickle\",\"wb\") as f:\n",
    "    pickle.dump( sequence, f)"
   ]
  },
  {
   "cell_type": "code",
   "execution_count": 11,
   "metadata": {
    "collapsed": false
   },
   "outputs": [
    {
     "name": "stdout",
     "output_type": "stream",
     "text": [
      "0 1\n",
      "1 2\n"
     ]
    }
   ],
   "source": [
    "a=[1,2]\n",
    "for i,j in enumerate(a):\n",
    "    print i,j"
   ]
  },
  {
   "cell_type": "code",
   "execution_count": 33,
   "metadata": {
    "collapsed": false,
    "scrolled": true
   },
   "outputs": [
    {
     "data": {
      "text/plain": [
       "[2599, 2610, 2947, 2052, 2367, 2399, 2029, 2442, 2505, 3068]"
      ]
     },
     "execution_count": 33,
     "metadata": {},
     "output_type": "execute_result"
    }
   ],
   "source": [
    "select = [7,37,59,82,99,115,133,165,188,197]\n",
    "[A[k-1] for k in select]"
   ]
  },
  {
   "cell_type": "code",
   "execution_count": null,
   "metadata": {
    "collapsed": true
   },
   "outputs": [],
   "source": [
    "[10626, 5293, 5116, 5379, 2367, 2834, 12509, 2442, 4112, 8436]"
   ]
  },
  {
   "cell_type": "code",
   "execution_count": 40,
   "metadata": {
    "collapsed": false,
    "scrolled": true
   },
   "outputs": [],
   "source": [
    "import pickle\n",
    "with open(\"./output/shortpath.pickle\",\"wb\") as f:\n",
    "    pickle.dump( A, f)"
   ]
  },
  {
   "cell_type": "code",
   "execution_count": 57,
   "metadata": {
    "collapsed": false
   },
   "outputs": [
    {
     "data": {
      "text/plain": [
       "{'1': 0}"
      ]
     },
     "execution_count": 57,
     "metadata": {},
     "output_type": "execute_result"
    }
   ],
   "source": [
    "A"
   ]
  },
  {
   "cell_type": "code",
   "execution_count": 58,
   "metadata": {
    "collapsed": false
   },
   "outputs": [
    {
     "name": "stdout",
     "output_type": "stream",
     "text": [
      "set(['1'])\n",
      "set(['1', '2'])\n",
      "set(['1', '2', '4'])\n",
      "set(['1', '3', '2', '4'])\n",
      "set(['1', '3', '2', '5', '4'])\n"
     ]
    }
   ],
   "source": [
    "while len(Visited)<5:\n",
    "    tmp={}\n",
    "    for S in Visited:\n",
    "        for Front in G[int(S)-1][1:]:\n",
    "            edge = Front.split(\",\")\n",
    "            if edge[0] not in Visited:\n",
    "               tmp[edge[0]] = A[S] + int(edge[1])\n",
    "    minkey = min(tmp, key=tmp.get)\n",
    "    A[minkey]=tmp[minkey]\n",
    "    print Visited\n",
    "    Visited.add(minkey)\n",
    "print Visited"
   ]
  },
  {
   "cell_type": "code",
   "execution_count": 59,
   "metadata": {
    "collapsed": false
   },
   "outputs": [
    {
     "data": {
      "text/plain": [
       "{'1': 0, '2': 1, '3': 3, '4': 2, '5': 5}"
      ]
     },
     "execution_count": 59,
     "metadata": {},
     "output_type": "execute_result"
    }
   ],
   "source": [
    "A"
   ]
  },
  {
   "cell_type": "code",
   "execution_count": 44,
   "metadata": {
    "collapsed": false
   },
   "outputs": [
    {
     "data": {
      "text/plain": [
       "'2'"
      ]
     },
     "execution_count": 44,
     "metadata": {},
     "output_type": "execute_result"
    }
   ],
   "source": [
    "min(tmp, key=tmp.get)"
   ]
  }
 ],
 "metadata": {
  "kernelspec": {
   "display_name": "Python 2",
   "language": "python",
   "name": "python2"
  },
  "language_info": {
   "codemirror_mode": {
    "name": "ipython",
    "version": 2
   },
   "file_extension": ".py",
   "mimetype": "text/x-python",
   "name": "python",
   "nbconvert_exporter": "python",
   "pygments_lexer": "ipython2",
   "version": "2.7.13"
  }
 },
 "nbformat": 4,
 "nbformat_minor": 0
}
