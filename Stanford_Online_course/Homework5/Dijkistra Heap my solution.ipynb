{
 "cells": [
  {
   "cell_type": "code",
   "execution_count": null,
   "metadata": {
    "collapsed": true
   },
   "outputs": [],
   "source": [
    "# bug:  tmp[tail] = A[S] + G[S][tail] does not take into account that multiple sources \n",
    "  linked to one tails. In this case, you should keep the shortest one"
   ]
  },
  {
   "cell_type": "code",
   "execution_count": 4,
   "metadata": {
    "collapsed": true
   },
   "outputs": [],
   "source": [
    "G={1:{2:10,4:5},2:{4:2,3:1},3:{5:4},4:{2:3,3:9,5:2},5:{1:7,3:6}}\n",
    "A={1:0}\n",
    "Visited = set()\n",
    "Visited.add(1)\n",
    "total = len(G)\n",
    "seq=[]"
   ]
  },
  {
   "cell_type": "code",
   "execution_count": 5,
   "metadata": {
    "collapsed": false,
    "scrolled": false
   },
   "outputs": [],
   "source": [
    "from heapq import heappush, heappop\n",
    "tmp=[(0,1)]\n",
    "while len(Visited)<total:\n",
    "    dist,new_source = heappop(tmp)\n",
    "    if new_source not in Visited:\n",
    "        Visited.add(new_source)\n",
    "        A[new_source]=dist\n",
    "    for tail in G[new_source]:\n",
    "        if tail not in Visited:\n",
    "           heappush(tmp,(A[new_source]+G[new_source][tail],tail))\n",
    "\n",
    "\n"
   ]
  },
  {
   "cell_type": "code",
   "execution_count": 7,
   "metadata": {
    "collapsed": false
   },
   "outputs": [
    {
     "name": "stdout",
     "output_type": "stream",
     "text": [
      "{1: 0, 2: 8, 3: 9, 4: 5, 5: 7}\n"
     ]
    }
   ],
   "source": [
    "print A"
   ]
  },
  {
   "cell_type": "code",
   "execution_count": 14,
   "metadata": {
    "collapsed": false
   },
   "outputs": [],
   "source": [
    "#source: http://www.cnblogs.com/hanahimi/p/4692638.html\n",
    "def Dijkstra(G,v0,INF=9999999):\n",
    "\n",
    "    book = set()\n",
    "    minv = v0\n",
    "\n",
    "    dis = dict((k,INF) for k in G.keys())\n",
    "    dis[v0] = 0\n",
    "\n",
    "    while len(book)<len(G):\n",
    "     book.add(minv)                                  # 确定当期顶点的距离\n",
    "     for w in G[minv]:                               # 以当前点的中心向外扩散\n",
    "        if dis[minv] + G[minv][w] < dis[w]:         # 如果从当前点扩展到某一点的距离小与已知最短距离  \n",
    "        #  if w not in book:\n",
    "             dis[w] = dis[minv] + G[minv][w]         # 对已知距离进行更新\n",
    "\n",
    "     new = INF                                       # 从剩下的未确定点中选择最小距离点作为新的扩散点\n",
    "     for v in dis.keys():\n",
    "         if v in book: continue\n",
    "         if dis[v] < new: \n",
    "             new = dis[v]\n",
    "             minv = v\n",
    "    return dis\n",
    "\n",
    " \n",
    "dis = Dijkstra(G,v0=1)"
   ]
  },
  {
   "cell_type": "code",
   "execution_count": 8,
   "metadata": {
    "collapsed": false
   },
   "outputs": [
    {
     "data": {
      "text/plain": [
       "{1: 0, 2: 8, 3: 9, 4: 5, 5: 7}"
      ]
     },
     "execution_count": 8,
     "metadata": {},
     "output_type": "execute_result"
    }
   ],
   "source": [
    "A"
   ]
  },
  {
   "cell_type": "code",
   "execution_count": 15,
   "metadata": {
    "collapsed": false
   },
   "outputs": [
    {
     "data": {
      "text/plain": [
       "{1: 0, 2: 8, 3: 9, 4: 5, 5: 7}"
      ]
     },
     "execution_count": 15,
     "metadata": {},
     "output_type": "execute_result"
    }
   ],
   "source": [
    "dis"
   ]
  }
 ],
 "metadata": {
  "kernelspec": {
   "display_name": "Python 2",
   "language": "python",
   "name": "python2"
  },
  "language_info": {
   "codemirror_mode": {
    "name": "ipython",
    "version": 2
   },
   "file_extension": ".py",
   "mimetype": "text/x-python",
   "name": "python",
   "nbconvert_exporter": "python",
   "pygments_lexer": "ipython2",
   "version": "2.7.12"
  }
 },
 "nbformat": 4,
 "nbformat_minor": 0
}
