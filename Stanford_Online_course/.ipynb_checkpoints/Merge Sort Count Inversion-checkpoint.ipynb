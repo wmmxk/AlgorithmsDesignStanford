{
 "cells": [
  {
   "cell_type": "code",
   "execution_count": null,
   "metadata": {
    "collapsed": true
   },
   "outputs": [],
   "source": [
    "#This python note includes three parts:\n",
    "part1 MergeSort\n",
    "part2 MergeCount\n",
    "part3 test on homework dataset"
   ]
  },
  {
   "cell_type": "code",
   "execution_count": null,
   "metadata": {
    "collapsed": true
   },
   "outputs": [],
   "source": [
    "# bug 1:\n",
    "The base case is in Mergesort  fucntion not in merge function"
   ]
  },
  {
   "cell_type": "code",
   "execution_count": 5,
   "metadata": {
    "collapsed": false
   },
   "outputs": [
    {
     "data": {
      "text/plain": [
       "[1, 2, 3, 4]"
      ]
     },
     "execution_count": 5,
     "metadata": {},
     "output_type": "execute_result"
    }
   ],
   "source": [
    "# bug 2: C is empty first\n",
    "C=[]\n",
    "C[k]=B[j]"
   ]
  },
  {
   "cell_type": "code",
   "execution_count": 23,
   "metadata": {
    "collapsed": false
   },
   "outputs": [],
   "source": [
    "def merge(A,B):\n",
    "    n_all=len(A)+len(B)\n",
    "#     print \"A\",A\n",
    "#     print \"B\",B\n",
    "    C=[]\n",
    "    i,j=0,0\n",
    "    \n",
    "    for k in range(n_all):\n",
    "        if i<len(A) and j <len(B):\n",
    "            if A[i]<B[j]:\n",
    "               C.append(A[i])\n",
    "               i+=1\n",
    "            else:\n",
    "               C.append(B[j])\n",
    "               j+=1\n",
    "        elif i==len(A):\n",
    "            return C+B[j:]\n",
    "        elif j==len(B):\n",
    "            return C+A[i:]\n",
    "    \n",
    "    \n",
    "def MergeSort(nums):\n",
    "    n=len(nums)\n",
    "    if n==1:\n",
    "       return nums\n",
    "    if n==2:\n",
    "       return [min(nums),max(nums)]\n",
    "    else:\n",
    "       left,right=MergeSort(nums[:n/2]),MergeSort(nums[n/2:])\n",
    "       return merge(left,right)"
   ]
  },
  {
   "cell_type": "code",
   "execution_count": 24,
   "metadata": {
    "collapsed": false
   },
   "outputs": [
    {
     "data": {
      "text/plain": [
       "[1, 2, 3, 4, 5, 6]"
      ]
     },
     "execution_count": 24,
     "metadata": {},
     "output_type": "execute_result"
    }
   ],
   "source": [
    "test=[1,5,2,4,6,3]\n",
    "MergeSort(test)"
   ]
  },
  {
   "cell_type": "code",
   "execution_count": 30,
   "metadata": {
    "collapsed": true
   },
   "outputs": [],
   "source": [
    "def MergeCount(A,B):\n",
    "    n_inv=0\n",
    "    n_A=len(A)\n",
    "    n_B=len(B)\n",
    "    n_all=n_A+n_B\n",
    "    C=[]\n",
    "    \n",
    "    i,j=0,0\n",
    "    \n",
    "    for k in range(n_all):\n",
    "        if i<n_A and j<n_B:\n",
    "           if A[i]<B[j]:\n",
    "               C.append(A[i])\n",
    "               i+=1\n",
    "           else:\n",
    "               C.append(B[j])\n",
    "               j+=1\n",
    "               n_inv+=n_A-i  # Unique part to MergeCount\n",
    "        elif i==len(A):\n",
    "            return C+B[j:],n_inv  # # Unique part to MergeCount\n",
    "        elif j==len(B):\n",
    "            return C+A[i:],n_inv       "
   ]
  },
  {
   "cell_type": "code",
   "execution_count": 39,
   "metadata": {
    "collapsed": false
   },
   "outputs": [
    {
     "data": {
      "text/plain": [
       "([1, 2, 5], 0)"
      ]
     },
     "execution_count": 39,
     "metadata": {},
     "output_type": "execute_result"
    }
   ],
   "source": [
    "MergeCount([1],[2,5])"
   ]
  },
  {
   "cell_type": "code",
   "execution_count": 40,
   "metadata": {
    "collapsed": true
   },
   "outputs": [],
   "source": [
    "def CountInv(nums):\n",
    "    n=len(nums)\n",
    "    if n==1:\n",
    "        return nums,0\n",
    "    if n==2:\n",
    "        base_n=1 if nums[0]>nums[1] else 0\n",
    "        return [min(nums),max(nums)],base_n\n",
    "    else:\n",
    "       res_left,res_right=CountInv(nums[:n/2]),CountInv(nums[n/2:])\n",
    "       res_merge=MergeCount(res_left[0],res_right[0])\n",
    "       return res_merge[0], res_merge[1]+res_left[1]+res_right[1]"
   ]
  },
  {
   "cell_type": "code",
   "execution_count": 43,
   "metadata": {
    "collapsed": false,
    "scrolled": true
   },
   "outputs": [
    {
     "data": {
      "text/plain": [
       "([1, 2, 3, 4, 5], 3)"
      ]
     },
     "execution_count": 43,
     "metadata": {},
     "output_type": "execute_result"
    }
   ],
   "source": [
    "test=[2, 4, 1, 3, 5]\n",
    "CountInv(test)"
   ]
  },
  {
   "cell_type": "code",
   "execution_count": 47,
   "metadata": {
    "collapsed": false
   },
   "outputs": [],
   "source": [
    "data=open(\"./data/IntegerArray.txt\",'r')"
   ]
  },
  {
   "cell_type": "code",
   "execution_count": 48,
   "metadata": {
    "collapsed": false
   },
   "outputs": [
    {
     "data": {
      "text/plain": [
       "'54044\\r\\n'"
      ]
     },
     "execution_count": 48,
     "metadata": {},
     "output_type": "execute_result"
    }
   ],
   "source": [
    "next(data)"
   ]
  },
  {
   "cell_type": "code",
   "execution_count": 49,
   "metadata": {
    "collapsed": false,
    "scrolled": true
   },
   "outputs": [
    {
     "name": "stderr",
     "output_type": "stream",
     "text": [
      "/home/wxk/anaconda2/lib/python2.7/site-packages/ipykernel/__main__.py:2: ParserWarning: Falling back to the 'python' engine because the 'c' engine does not support regex separators (separators > 1 char and different from '\\s+' are interpreted as regex); you can avoid this warning by specifying engine='python'.\n",
      "  from ipykernel import kernelapp as app\n"
     ]
    }
   ],
   "source": [
    "# Run the code on the homework dataset\n",
    "import  pandas as pd\n",
    "data=pd.read_table(\"./data/IntegerArray.txt\",sep=\" *\",header=None)\n"
   ]
  },
  {
   "cell_type": "code",
   "execution_count": 56,
   "metadata": {
    "collapsed": false
   },
   "outputs": [],
   "source": [
    "nums=list(data.iloc[:,0])"
   ]
  },
  {
   "cell_type": "code",
   "execution_count": 59,
   "metadata": {
    "collapsed": true
   },
   "outputs": [],
   "source": [
    "_,count=CountInv(nums)"
   ]
  },
  {
   "cell_type": "code",
   "execution_count": 60,
   "metadata": {
    "collapsed": false
   },
   "outputs": [
    {
     "data": {
      "text/plain": [
       "2407905288"
      ]
     },
     "execution_count": 60,
     "metadata": {},
     "output_type": "execute_result"
    }
   ],
   "source": [
    "count"
   ]
  }
 ],
 "metadata": {
  "kernelspec": {
   "display_name": "Python [Root]",
   "language": "python",
   "name": "Python [Root]"
  },
  "language_info": {
   "codemirror_mode": {
    "name": "ipython",
    "version": 2
   },
   "file_extension": ".py",
   "mimetype": "text/x-python",
   "name": "python",
   "nbconvert_exporter": "python",
   "pygments_lexer": "ipython2",
   "version": "2.7.12"
  }
 },
 "nbformat": 4,
 "nbformat_minor": 0
}
