{
 "cells": [
  {
   "cell_type": "code",
   "execution_count": 2,
   "metadata": {
    "collapsed": false
   },
   "outputs": [
    {
     "data": {
      "text/plain": [
       "'\\n#Trick part: \\n  1. Base part: if len(nums)==2, len(nums[:i-1]) is eqaul to zero after partitioning\\n  So the base should include both len(nums)==1 and len(nums)==0\\n\\n  2. Your 1st solution (QuickSort1) is not implementing the solution in place\\n\\n  3. Becasuse python call by object reference, you can modify an obect through any reference linked to an object\\n\\n  4. As nums is mutable, after you run the QuickSort on nums, nums is already sorted. Sort when you count, it \\n     is unexpected.\\n'"
      ]
     },
     "execution_count": 2,
     "metadata": {},
     "output_type": "execute_result"
    }
   ],
   "source": [
    "\"\"\"\n",
    "#Trick part: \n",
    "  1. Base part: if len(nums)==2, len(nums[:i-1]) is eqaul to zero after partitioning\n",
    "  So the base should include both len(nums)==1 and len(nums)==0\n",
    "\n",
    "  2. Your 1st solution (QuickSort1) is not implementing the solution in place\n",
    "\n",
    "  3. Becasuse python call by object reference, you can modify an obect through any reference linked to an object\n",
    "\n",
    "  4. As nums is mutable, after you run the QuickSort on nums, nums is already sorted. Sort when you count, it \n",
    "     is unexpected.\n",
    "\"\"\"\n",
    "    "
   ]
  },
  {
   "cell_type": "code",
   "execution_count": 3,
   "metadata": {
    "collapsed": false
   },
   "outputs": [],
   "source": [
    "def QuickSort1(nums):\n",
    "    if len(nums)<2:\n",
    "        return nums\n",
    "    else:\n",
    "        i,j=1,1\n",
    "        for j in range(1,len(nums)):\n",
    "            print nums\n",
    "            if nums[j]<nums[0]:\n",
    "               nums[i],nums[j]=nums[j],nums[i]\n",
    "               i+=1\n",
    "        nums[0],nums[i-1]=nums[i-1],nums[0]\n",
    "        \n",
    "        return QuickSort1(nums[:i-1])+[nums[i-1]]+QuickSort1(nums[i:])"
   ]
  },
  {
   "cell_type": "code",
   "execution_count": 4,
   "metadata": {
    "collapsed": false
   },
   "outputs": [],
   "source": [
    "def partition(A,left,right):\n",
    "    i=left+1\n",
    "    for j in range(left+1,right):\n",
    "        if A[j]<A[left]:\n",
    "            A[i],A[j]=A[j],A[i]\n",
    "            i+=1\n",
    "    A[left],A[i-1]=A[i-1],A[left]\n",
    "    #print A,\"left\",left,\"right\",right\n",
    "    return i-1\n",
    "        "
   ]
  },
  {
   "cell_type": "code",
   "execution_count": 5,
   "metadata": {
    "collapsed": true
   },
   "outputs": [],
   "source": [
    "nums=[4,2,3,5,6]"
   ]
  },
  {
   "cell_type": "code",
   "execution_count": 6,
   "metadata": {
    "collapsed": false
   },
   "outputs": [],
   "source": [
    "# Does not work, count is updated when invoking QuickSort2 on the left part but not on the right part\n",
    "def QuickSort2(nums,start,end,count=0):  # IF there is only two elements, start is 0 end is 2, so end-start>1\n",
    "    \n",
    "  if (end-start)>1:\n",
    "    BreakPoint=partition(nums,start,end)\n",
    "    count+=end-start-1\n",
    "    print count\n",
    "    QuickSort2(nums,start,BreakPoint,count=count)\n",
    "    QuickSort2(nums,BreakPoint+1,end,count=count)"
   ]
  },
  {
   "cell_type": "code",
   "execution_count": 7,
   "metadata": {
    "collapsed": false,
    "scrolled": true
   },
   "outputs": [
    {
     "name": "stdout",
     "output_type": "stream",
     "text": [
      "4\n",
      "5\n",
      "5\n"
     ]
    },
    {
     "ename": "NameError",
     "evalue": "name 'count' is not defined",
     "output_type": "error",
     "traceback": [
      "\u001b[1;31m---------------------------------------------------------------------------\u001b[0m",
      "\u001b[1;31mNameError\u001b[0m                                 Traceback (most recent call last)",
      "\u001b[1;32m<ipython-input-7-cc323eef1a1a>\u001b[0m in \u001b[0;36m<module>\u001b[1;34m()\u001b[0m\n\u001b[0;32m      1\u001b[0m \u001b[0mQuickSort2\u001b[0m\u001b[1;33m(\u001b[0m\u001b[0mnums\u001b[0m\u001b[1;33m,\u001b[0m\u001b[1;36m0\u001b[0m\u001b[1;33m,\u001b[0m\u001b[0mlen\u001b[0m\u001b[1;33m(\u001b[0m\u001b[0mnums\u001b[0m\u001b[1;33m)\u001b[0m\u001b[1;33m)\u001b[0m\u001b[1;33m\u001b[0m\u001b[0m\n\u001b[1;32m----> 2\u001b[1;33m \u001b[1;32mprint\u001b[0m \u001b[0mcount\u001b[0m\u001b[1;33m\u001b[0m\u001b[0m\n\u001b[0m",
      "\u001b[1;31mNameError\u001b[0m: name 'count' is not defined"
     ]
    }
   ],
   "source": [
    "QuickSort2(nums,0,len(nums))\n",
    "print count"
   ]
  },
  {
   "cell_type": "code",
   "execution_count": 8,
   "metadata": {
    "collapsed": true
   },
   "outputs": [],
   "source": [
    "global count\n",
    "count=0\n",
    "def QuickSort3(nums,start,end):  # IF there is only two elements, start is 0 end is 2, so end-start>1\n",
    "    \n",
    "  if (end-start)>1:\n",
    "    BreakPoint=partition(nums,start,end)\n",
    "    count+=end-start-1\n",
    "    print count\n",
    "    QuickSort3(nums,start,BreakPoint)\n",
    "    QuickSort3(nums,BreakPoint+1,end)"
   ]
  },
  {
   "cell_type": "code",
   "execution_count": 9,
   "metadata": {
    "collapsed": true
   },
   "outputs": [],
   "source": [
    "nums=[4,2,3,5,6]\n",
    "count=[0]\n",
    "def QuickSort3(nums,start,end):  # IF there is only two elements, start is 0 end is 2, so end-start>1\n",
    "    \n",
    "  if (end-start)>1:\n",
    "    BreakPoint=partition(nums,start,end)\n",
    "    #print count\n",
    "    count[0]+=end-start-1\n",
    "    #print count\n",
    "    QuickSort3(nums,start,BreakPoint)\n",
    "    QuickSort3(nums,BreakPoint+1,end)"
   ]
  },
  {
   "cell_type": "code",
   "execution_count": 10,
   "metadata": {
    "collapsed": false,
    "scrolled": true
   },
   "outputs": [
    {
     "name": "stdout",
     "output_type": "stream",
     "text": [
      "[6]\n"
     ]
    }
   ],
   "source": [
    "count=[0]\n",
    "QuickSort3(nums,0,len(nums))\n",
    "print count"
   ]
  },
  {
   "cell_type": "code",
   "execution_count": 62,
   "metadata": {
    "collapsed": false,
    "scrolled": true
   },
   "outputs": [
    {
     "data": {
      "text/plain": [
       "[2, 3, 4, 5, 6]"
      ]
     },
     "execution_count": 62,
     "metadata": {},
     "output_type": "execute_result"
    }
   ],
   "source": [
    "nums"
   ]
  },
  {
   "cell_type": "code",
   "execution_count": 14,
   "metadata": {
    "collapsed": false
   },
   "outputs": [],
   "source": [
    "import pandas as pd\n",
    "df=pd.read_table(\"QuickSort.txt\",header=None)"
   ]
  },
  {
   "cell_type": "code",
   "execution_count": 16,
   "metadata": {
    "collapsed": false
   },
   "outputs": [
    {
     "name": "stdout",
     "output_type": "stream",
     "text": [
      "[162085]\n"
     ]
    }
   ],
   "source": [
    "nums=list(df[0])\n",
    "count=[0]\n",
    "QuickSort3(nums,0,len(nums))\n",
    "print count"
   ]
  },
  {
   "cell_type": "markdown",
   "metadata": {
    "collapsed": false
   },
   "source": [
    "print x\n",
    "x1()\n",
    "x2()\n",
    "print x"
   ]
  }
 ],
 "metadata": {
  "kernelspec": {
   "display_name": "Python 2",
   "language": "python",
   "name": "python2"
  },
  "language_info": {
   "codemirror_mode": {
    "name": "ipython",
    "version": 2
   },
   "file_extension": ".py",
   "mimetype": "text/x-python",
   "name": "python",
   "nbconvert_exporter": "python",
   "pygments_lexer": "ipython2",
   "version": "2.7.12"
  }
 },
 "nbformat": 4,
 "nbformat_minor": 0
}
