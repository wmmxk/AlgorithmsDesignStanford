{
 "cells": [
  {
   "cell_type": "code",
   "execution_count": 49,
   "metadata": {
    "collapsed": false
   },
   "outputs": [
    {
     "data": {
      "text/plain": [
       "'\\nModifications:\\n1. The position of pivot is i not i-1 \\n'"
      ]
     },
     "execution_count": 49,
     "metadata": {},
     "output_type": "execute_result"
    }
   ],
   "source": [
    "\"\"\"\n",
    "Modifications:\n",
    "1. The position of pivot is i not i-1 \n",
    "\"\"\"\n"
   ]
  },
  {
   "cell_type": "code",
   "execution_count": 1,
   "metadata": {
    "collapsed": false
   },
   "outputs": [],
   "source": [
    "def partition(A,left,right):\n",
    "    A[left],A[right-1]=A[right-1],A[left]\n",
    "    i=left+1\n",
    "    for j in range(left+1,right):\n",
    "        if A[j]<A[left]:\n",
    "            A[i],A[j]=A[j],A[i]\n",
    "            i+=1\n",
    "        #print \"j=\",j,A\n",
    "    A[left],A[i-1]=A[i-1],A[left]\n",
    "    #print A,\"left\",left,\"right\",right\n",
    "    return i-1   "
   ]
  },
  {
   "cell_type": "code",
   "execution_count": 6,
   "metadata": {
    "collapsed": true
   },
   "outputs": [],
   "source": [
    "nums=[4,2,3,5,6]\n",
    "count=[0]\n",
    "def QuickSort3(nums,start,end):  # IF there is only two elements, start is 0 end is 2, so end-start>1\n",
    "    \n",
    "  if (end-start)>1:\n",
    "    BreakPoint=partition(nums,start,end)\n",
    "    #print count,\"BP\",BreakPoint\n",
    "    count[0]+=end-start-1\n",
    "    #print count\n",
    "    QuickSort3(nums,start,BreakPoint)\n",
    "    QuickSort3(nums,BreakPoint+1,end)"
   ]
  },
  {
   "cell_type": "code",
   "execution_count": 7,
   "metadata": {
    "collapsed": false,
    "scrolled": true
   },
   "outputs": [
    {
     "name": "stdout",
     "output_type": "stream",
     "text": [
      "[8]\n"
     ]
    }
   ],
   "source": [
    "nums=[6,5,3,2,1,4]\n",
    "count=[0]\n",
    "QuickSort3(nums,0,len(nums))\n",
    "print count"
   ]
  },
  {
   "cell_type": "code",
   "execution_count": 8,
   "metadata": {
    "collapsed": false
   },
   "outputs": [],
   "source": [
    "import pandas as pd\n",
    "df=pd.read_table(\"QuickSort.txt\",header=None)"
   ]
  },
  {
   "cell_type": "code",
   "execution_count": 9,
   "metadata": {
    "collapsed": false
   },
   "outputs": [
    {
     "name": "stdout",
     "output_type": "stream",
     "text": [
      "[164123]\n"
     ]
    }
   ],
   "source": [
    "nums=list(df[0])\n",
    "count=[0]\n",
    "QuickSort3(nums,0,len(nums))\n",
    "print count"
   ]
  },
  {
   "cell_type": "code",
   "execution_count": 6,
   "metadata": {
    "collapsed": false,
    "scrolled": false
   },
   "outputs": [
    {
     "name": "stdout",
     "output_type": "stream",
     "text": [
      "[4, 5, 3, 2, 1, 6] l 0 r 5\n",
      "[1, 3, 2, 4, 5, 6] l 0 r 4\n",
      "[1, 3, 2, 4, 5, 6] l 0 r 2\n",
      "[1, 2, 3, 4, 5, 6] l 1 r 2\n",
      "first 12\n",
      "[1, 3, 2, 4, 5, 6] l 0 r 5\n",
      "[1, 2, 3, 4, 5, 6] l 0 r 2\n",
      "[1, 2, 3, 4, 5, 6] l 4 r 5\n",
      "last 8\n",
      "[1, 3, 2, 4, 5, 6] l 0 r 5\n",
      "[1, 2, 3, 4, 5, 6] l 0 r 2\n",
      "[1, 2, 3, 4, 5, 6] l 4 r 5\n",
      "median 8\n"
     ]
    }
   ],
   "source": [
    "from random import randint\n",
    "\n",
    "def partition(arr, l, r, i, count=None, asserting=False):\n",
    "    if asserting: assert l <= i <= r\n",
    "    p = arr[i]                              # value of pivot element\n",
    "    arr[l], arr[i] = arr[i], arr[l]         # swap pivot w/ leftmost element\n",
    "    i = l + 1                               # start i after leftmost element\n",
    "    for j in range(i, r + 1):\n",
    "        if count: count(1)                  # increment comparison count\n",
    "        if arr[j] < p:\n",
    "            arr[j], arr[i] = arr[i], arr[j] # swap!\n",
    "            i += 1                               \n",
    "    i -= 1\n",
    "    arr[l], arr[i] = arr[i], arr[l]         # swap pivot w/ LAST > p element\n",
    "    if asserting: assert all(x < p for x in arr[l:i])\n",
    "    if asserting: assert all(x >= p for x in arr[i+1:r])\n",
    "    print arr,\"l\",l,\"r\",r\n",
    "    return i\n",
    "\n",
    "\n",
    "rand = lambda arr, l, r: randint(l, r)\n",
    "\n",
    "def quicksort(arr, l=0, r=None, count=None, pivot=rand):\n",
    "    if r is None: r = len(arr) - 1\n",
    "    if r - l < 1: return\n",
    "    i = pivot(arr, l, r)\n",
    "    i = partition(arr, l, r, i, count)\n",
    "    quicksort(arr, l, i - 1, count, pivot)\n",
    "    quicksort(arr, i + 1, r, count, pivot)\n",
    "\n",
    "\n",
    "# The following are pivot choice methods - you can use these to \n",
    "# in `quicksort` to choose a particular element on which to pivot.\n",
    "\n",
    "def first(arr, l, r): return l\n",
    "def last(arr, l, r): return r\n",
    "def median(arr, l, r):\n",
    "    '''\n",
    "    Return index of the median value for the following three \n",
    "    elements within specified sub-array, where `l` is the index \n",
    "    of the first element, `r` is the index of the last element:\n",
    "    [first, middle-element-between-first-last, last]\n",
    "    '''\n",
    "    m = 0 if (r - l) == 1 else ((r - l)) / 2 + l\n",
    "    M = arr[m]                      # middle element\n",
    "    L = arr[l]                      # leftmost element\n",
    "    R = arr[r]                      # rightmost element\n",
    "    ordered = sorted([(L, l), (M, m), (R, r)])\n",
    "    return ordered[1][1]            # index of median of the three\n",
    "\n",
    "\n",
    "class Counter:\n",
    "    '''\n",
    "    A simple counter class.\n",
    "    Useful for counting up the number of \n",
    "    comparisons made by quicksort.\n",
    "    '''\n",
    "    def __init__(self, n=0):\n",
    "        self.total = n\n",
    "\n",
    "    def __call__(self, x=0):\n",
    "        self.total += x\n",
    "\n",
    "\n",
    "nums=list(df[0])\n",
    "input=nums\n",
    "input=[6,5,3,2,1,4]\n",
    "\n",
    "\n",
    "for pivot in [first, last, median]:\n",
    "    arr = input[:]\n",
    "    count = Counter()\n",
    "    quicksort(arr, count=count, pivot=pivot)\n",
    "    assert arr == sorted(input)\n",
    "    print pivot.__name__, count.total"
   ]
  },
  {
   "cell_type": "code",
   "execution_count": 7,
   "metadata": {
    "collapsed": false
   },
   "outputs": [
    {
     "data": {
      "text/plain": [
       "[6, 5, 3, 2, 1, 4]"
      ]
     },
     "execution_count": 7,
     "metadata": {},
     "output_type": "execute_result"
    }
   ],
   "source": [
    "input"
   ]
  }
 ],
 "metadata": {
  "kernelspec": {
   "display_name": "Python 2",
   "language": "python",
   "name": "python2"
  },
  "language_info": {
   "codemirror_mode": {
    "name": "ipython",
    "version": 2
   },
   "file_extension": ".py",
   "mimetype": "text/x-python",
   "name": "python",
   "nbconvert_exporter": "python",
   "pygments_lexer": "ipython2",
   "version": "2.7.12"
  }
 },
 "nbformat": 4,
 "nbformat_minor": 0
}
