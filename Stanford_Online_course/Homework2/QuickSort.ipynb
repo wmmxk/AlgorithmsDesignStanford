{
 "cells": [
  {
   "cell_type": "code",
   "execution_count": null,
   "metadata": {
    "collapsed": true
   },
   "outputs": [],
   "source": [
    "#Trick part: \n",
    "  1. Base part: if len(nums)==2, len(nums[:i-1]) is eqaul to zero after partitioning\n",
    "  So the base should include both len(nums)==1 and len(nums)==0\n",
    "\n",
    "  2. Your 1st solution (QuickSort1) is not implementing the solution in place\n",
    "\n",
    "  3. Becasuse python call by object reference, you can modify an obect through any reference linked to an object\n",
    "\n",
    "    "
   ]
  },
  {
   "cell_type": "code",
   "execution_count": 89,
   "metadata": {
    "collapsed": false
   },
   "outputs": [],
   "source": [
    "def QuickSort1(nums):\n",
    "    if len(nums)<2:\n",
    "        return nums\n",
    "    else:\n",
    "        i,j=1,1\n",
    "        for j in range(1,len(nums)):\n",
    "            print nums\n",
    "            if nums[j]<nums[0]:\n",
    "               nums[i],nums[j]=nums[j],nums[i]\n",
    "               i+=1\n",
    "        nums[0],nums[i-1]=nums[i-1],nums[0]\n",
    "        \n",
    "        return QuickSort1(nums[:i-1])+[nums[i-1]]+QuickSort1(nums[i:])"
   ]
  },
  {
   "cell_type": "code",
   "execution_count": 1,
   "metadata": {
    "collapsed": false
   },
   "outputs": [],
   "source": [
    "def partition(A,left,right):\n",
    "    i=left+1\n",
    "    for j in range(left+1,right):\n",
    "        if A[j]<A[left]:\n",
    "            A[i],A[j]=A[j],A[i]\n",
    "            i+=1\n",
    "    A[left],A[i-1]=A[i-1],A[left]\n",
    "    print A\n",
    "    return i-1\n",
    "        "
   ]
  },
  {
   "cell_type": "code",
   "execution_count": 10,
   "metadata": {
    "collapsed": true
   },
   "outputs": [],
   "source": [
    "nums=[4,1,2,5,3,9,7,8]"
   ]
  },
  {
   "cell_type": "code",
   "execution_count": 11,
   "metadata": {
    "collapsed": false
   },
   "outputs": [],
   "source": [
    "def QuickSort2(nums,start,end):\n",
    "    \n",
    "  if (end-start)>1:\n",
    "    BreakPoint=partition(nums,start,end)\n",
    "    QuickSort2(nums,start,BreakPoint)\n",
    "    QuickSort2(nums,BreakPoint+1,end)"
   ]
  },
  {
   "cell_type": "code",
   "execution_count": 12,
   "metadata": {
    "collapsed": false
   },
   "outputs": [
    {
     "name": "stdout",
     "output_type": "stream",
     "text": [
      "[3, 1, 2, 4, 5, 9, 7, 8]\n",
      "[2, 1, 3, 4, 5, 9, 7, 8]\n",
      "[1, 2, 3, 4, 5, 9, 7, 8]\n",
      "[1, 2, 3, 4, 5, 9, 7, 8]\n",
      "[1, 2, 3, 4, 5, 8, 7, 9]\n",
      "[1, 2, 3, 4, 5, 7, 8, 9]\n",
      "[1, 2, 3, 4, 5, 7, 8, 9]\n"
     ]
    }
   ],
   "source": [
    "QuickSort2(nums,0,len(nums))\n",
    "print nums"
   ]
  },
  {
   "cell_type": "code",
   "execution_count": null,
   "metadata": {
    "collapsed": true
   },
   "outputs": [],
   "source": [
    "# BreakDown of this example:\n",
    "Initially, start=0, end=8, return BreakPoint=4\n",
    "left part: start=0, end=4; return BreakPoint=1     right part: start=5, end=8, return BreakPoint=0\n"
   ]
  }
 ],
 "metadata": {
  "kernelspec": {
   "display_name": "Python 2",
   "language": "python",
   "name": "python2"
  },
  "language_info": {
   "codemirror_mode": {
    "name": "ipython",
    "version": 2
   },
   "file_extension": ".py",
   "mimetype": "text/x-python",
   "name": "python",
   "nbconvert_exporter": "python",
   "pygments_lexer": "ipython2",
   "version": "2.7.12"
  }
 },
 "nbformat": 4,
 "nbformat_minor": 0
}
