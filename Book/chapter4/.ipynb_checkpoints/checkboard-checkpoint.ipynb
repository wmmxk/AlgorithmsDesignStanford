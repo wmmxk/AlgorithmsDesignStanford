{
 "cells": [
  {
   "cell_type": "code",
   "execution_count": 51,
   "metadata": {
    "collapsed": false,
    "scrolled": true
   },
   "outputs": [
    {
     "name": "stdout",
     "output_type": "stream",
     "text": [
      "0\n",
      "0\n",
      "0\n",
      "0\n"
     ]
    }
   ],
   "source": [
    "board = [[0]*8 for i in range(8)]\n",
    "board[7][7] = -1\n",
    "offsets = ((0, -1), (3, 0))\n",
    "\n",
    "for dy_outer, dy_inner in offsets:\n",
    "    for dx_outer, dx_inner in offsets:\n",
    "      if not board[0+dy_outer][4+dx_outer]:\n",
    "      #print dy_inner,dx_inner\n",
    "         print board[4+dy_inner][6+dx_inner]"
   ]
  },
  {
   "cell_type": "code",
   "execution_count": 48,
   "metadata": {
    "collapsed": false
   },
   "outputs": [],
   "source": [
    "def cover(board, lab=1, top=0, left=0, side=None):\n",
    "        if side is None: side = len(board)\n",
    "        s = side // 2\n",
    "\n",
    "        offsets = ((0, -1), (side-1, 0))\n",
    "        for dy_outer, dy_inner in offsets:\n",
    "            for dx_outer, dx_inner in offsets:\n",
    "                if not board[top+dy_outer][left+dx_outer]:\n",
    "                    board[top+s+dy_inner][left+s+dx_inner] = lab\n",
    "        # Next tile: \n",
    "        lab += 1\n",
    "        if s > 1:\n",
    "            for dy in [0, s]:\n",
    "                for dx in [0, s]:\n",
    "                    # Recursive calls, if s is at least 2:\n",
    "                    lab = cover(board, lab, top+dy, left+dx, s)\n",
    "\n",
    "        # Return the next available label: \n",
    "        return lab\n",
    "\n",
    "def printboard(board):\n",
    "    for row in board:\n",
    "        print ((' %2d'*8)%tuple(row))\n",
    "    print '\\n'"
   ]
  },
  {
   "cell_type": "code",
   "execution_count": 49,
   "metadata": {
    "collapsed": false,
    "scrolled": true
   },
   "outputs": [
    {
     "name": "stdout",
     "output_type": "stream",
     "text": [
      "  0  0  0  0  0  0  0  0\n",
      "  0  0  0  0  0  0  0  0\n",
      "  0  0  0  0  0  0  0  0\n",
      "  0  0  0  0  0  0  0  0\n",
      "  0  0  0  0  0  0  0  0\n",
      "  0  0  0  0  0  0  0  0\n",
      "  0  0  0  0  0  0  0  0\n",
      "  0  0  0  0  0  0  0 -1\n",
      "\n",
      "\n",
      "  3  3  4  4  8  8  9  9\n",
      "  3  2  2  4  8  7  7  9\n",
      "  5  2  6  6 10 10  7 11\n",
      "  5  5  6  1  1 10 11 11\n",
      " 13 13 14  1 18 18 19 19\n",
      " 13 12 14 14 18 17 17 19\n",
      " 15 12 12 16 20 17 21 21\n",
      " 15 15 16 16 20 20 21 -1\n",
      "\n",
      "\n"
     ]
    }
   ],
   "source": [
    "board = [[0]*8 for i in range(8)]\n",
    "board[7][7] = -1\n",
    "printboard(board)\n",
    "\n",
    "cover(board)\n",
    "printboard(board)"
   ]
  },
  {
   "cell_type": "code",
   "execution_count": 7,
   "metadata": {
    "collapsed": false
   },
   "outputs": [
    {
     "name": "stdout",
     "output_type": "stream",
     "text": [
      "(3, 3, 4, 4, 8, 8, 9, 9)\n",
      "(3, 2, 2, 4, 8, 7, 7, 9)\n",
      "(5, 2, 6, 6, 10, 10, 7, 11)\n",
      "(5, 5, 6, 1, 1, 10, 11, 11)\n",
      "(13, 13, 14, 1, 18, 18, 19, 19)\n",
      "(13, 12, 14, 14, 18, 17, 17, 19)\n",
      "(15, 12, 12, 16, 20, 17, 21, 21)\n",
      "(15, 15, 16, 16, 20, 20, 21, -1)\n"
     ]
    }
   ],
   "source": [
    "for row in board:\n",
    "    print tuple(row)"
   ]
  }
 ],
 "metadata": {
  "kernelspec": {
   "display_name": "Python 2",
   "language": "python",
   "name": "python2"
  },
  "language_info": {
   "codemirror_mode": {
    "name": "ipython",
    "version": 2
   },
   "file_extension": ".py",
   "mimetype": "text/x-python",
   "name": "python",
   "nbconvert_exporter": "python",
   "pygments_lexer": "ipython2",
   "version": "2.7.12"
  }
 },
 "nbformat": 4,
 "nbformat_minor": 0
}
