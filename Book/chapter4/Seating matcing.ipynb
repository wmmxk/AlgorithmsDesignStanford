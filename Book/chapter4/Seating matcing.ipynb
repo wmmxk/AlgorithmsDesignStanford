{
 "cells": [
  {
   "cell_type": "code",
   "execution_count": 10,
   "metadata": {
    "collapsed": true
   },
   "outputs": [],
   "source": [
    "def match(M,A=None):\n",
    "    if A is None: \n",
    "       A=set(range(len(M)))\n",
    "    if len(A)==1: return A\n",
    "    B=set(M[i] for i in A)\n",
    "    \n",
    "    C=A-B\n",
    "    if C:\n",
    "        print \"A\",A\n",
    "        print \"B\",B\n",
    "        print \"C\",C\n",
    "        A.remove(C.pop())\n",
    "\n",
    "        \n",
    "        return match(M,A)\n",
    "    return A"
   ]
  },
  {
   "cell_type": "code",
   "execution_count": 11,
   "metadata": {
    "collapsed": true
   },
   "outputs": [],
   "source": [
    "M=[2,2,0,5,3,5,7,4]"
   ]
  },
  {
   "cell_type": "code",
   "execution_count": 12,
   "metadata": {
    "collapsed": false,
    "scrolled": false
   },
   "outputs": [
    {
     "name": "stdout",
     "output_type": "stream",
     "text": [
      "A set([0, 1, 2, 3, 4, 5, 6, 7])\n",
      "B set([0, 2, 3, 4, 5, 7])\n",
      "C set([1, 6])\n",
      "A set([0, 2, 3, 4, 5, 6, 7])\n",
      "B set([0, 2, 3, 4, 5, 7])\n",
      "C set([6])\n",
      "A set([0, 2, 3, 4, 5, 7])\n",
      "B set([0, 2, 3, 4, 5])\n",
      "C set([7])\n",
      "A set([0, 2, 3, 4, 5])\n",
      "B set([0, 2, 3, 5])\n",
      "C set([4])\n",
      "A set([0, 2, 3, 5])\n",
      "B set([0, 2, 5])\n",
      "C set([3])\n"
     ]
    },
    {
     "data": {
      "text/plain": [
       "{0, 2, 5}"
      ]
     },
     "execution_count": 12,
     "metadata": {},
     "output_type": "execute_result"
    }
   ],
   "source": [
    "match(M)"
   ]
  },
  {
   "cell_type": "code",
   "execution_count": null,
   "metadata": {
    "collapsed": true
   },
   "outputs": [],
   "source": []
  }
 ],
 "metadata": {
  "kernelspec": {
   "display_name": "Python [Root]",
   "language": "python",
   "name": "Python [Root]"
  },
  "language_info": {
   "codemirror_mode": {
    "name": "ipython",
    "version": 2
   },
   "file_extension": ".py",
   "mimetype": "text/x-python",
   "name": "python",
   "nbconvert_exporter": "python",
   "pygments_lexer": "ipython2",
   "version": "2.7.12"
  }
 },
 "nbformat": 4,
 "nbformat_minor": 0
}
