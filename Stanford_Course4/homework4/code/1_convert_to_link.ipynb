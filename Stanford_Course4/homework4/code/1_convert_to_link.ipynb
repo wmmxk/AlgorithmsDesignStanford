{
 "cells": [
  {
   "cell_type": "code",
   "execution_count": 1,
   "metadata": {
    "collapsed": false
   },
   "outputs": [],
   "source": [
    "import pandas as pd\n",
    "import numpy as np\n",
    "df=pd.read_table(\"../data/2sat1.txt\",sep=\" \",index_col = None)\n"
   ]
  },
  {
   "cell_type": "code",
   "execution_count": null,
   "metadata": {
    "collapsed": false
   },
   "outputs": [],
   "source": [
    "clause = df.values\n",
    "n = clause.shape[0]"
   ]
  },
  {
   "cell_type": "code",
   "execution_count": 37,
   "metadata": {
    "collapsed": false
   },
   "outputs": [],
   "source": [
    "fo = open(\"../data/edges/test\",\"wb\")\n",
    "for i in range(n):\n",
    "    x,y = clause[i]\n",
    "    if x > 0:\n",
    "        if y > 0:\n",
    "            out_str = str(x+n)+\" \" + str(y) +\"\\n\" + str(y+n) + \" \" + str(x) +\"\\n\"\n",
    "        else:\n",
    "            out_str = str(x+n)+\" \" + str(-y+n) +\"\\n\" + str(-y) + \" \" + str(x) +\"\\n\"\n",
    "    else:\n",
    "        if y > 0:\n",
    "            out_str = str(-x)+\" \" + str(y) +\"\\n\" + str(y+n) + \" \" + str(-x+n) +\"\\n\"\n",
    "        else:\n",
    "            out_str = str(-x)+\" \" + str(-y+n) +\"\\n\" + str(-y) + \" \" + str(-x+n) +\"\\n\"\n",
    "    fo.write(out_str)\n",
    "fo.close()"
   ]
  }
 ],
 "metadata": {
  "kernelspec": {
   "display_name": "Python 2",
   "language": "python",
   "name": "python2"
  },
  "language_info": {
   "codemirror_mode": {
    "name": "ipython",
    "version": 2
   },
   "file_extension": ".py",
   "mimetype": "text/x-python",
   "name": "python",
   "nbconvert_exporter": "python",
   "pygments_lexer": "ipython2",
   "version": "2.7.13"
  }
 },
 "nbformat": 4,
 "nbformat_minor": 2
}
