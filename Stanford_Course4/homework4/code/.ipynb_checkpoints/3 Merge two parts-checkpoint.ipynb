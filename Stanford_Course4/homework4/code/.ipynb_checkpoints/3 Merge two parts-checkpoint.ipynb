{
 "cells": [
  {
   "cell_type": "code",
   "execution_count": null,
   "metadata": {
    "collapsed": true
   },
   "outputs": [],
   "source": [
    "    #for i in range(1,len(G)+1): 不知道对不\n",
    "    # number of nodes in the graph是两倍"
   ]
  },
  {
   "cell_type": "code",
   "execution_count": 43,
   "metadata": {
    "collapsed": true
   },
   "outputs": [],
   "source": [
    "import sys, resource, time\n",
    "import os\n",
    "import pandas as pd\n",
    "import numpy as np\n",
    "import itertools\n",
    "# Increase recursion limit and stack size\n",
    "sys.setrecursionlimit(2 ** 20)\n",
    "hardlimit = resource.getrlimit(resource.RLIMIT_STACK)[1]\n",
    "resource.setrlimit(resource.RLIMIT_STACK,(hardlimit,hardlimit))"
   ]
  },
  {
   "cell_type": "code",
   "execution_count": 66,
   "metadata": {
    "collapsed": false
   },
   "outputs": [],
   "source": [
    "filename = \"2sat1.txt\"\n"
   ]
  },
  {
   "cell_type": "code",
   "execution_count": 45,
   "metadata": {
    "collapsed": true
   },
   "outputs": [],
   "source": [
    "def to_edges(filename):\n",
    "    df=pd.read_table(\"../data/\"+filename,sep=\" \",index_col = None)\n",
    "    clause = df.values\n",
    "    n = clause.shape[0]\n",
    "    out_file = filename.replace(\"sat\",\"edge\")\n",
    "    fo = open(\"../data/edges/\"+out_file,\"wb\")\n",
    "    for i in range(n):\n",
    "        x,y = clause[i]\n",
    "        if x > 0:\n",
    "            if y > 0:\n",
    "                out_str = str(x+n)+\" \" + str(y) +\"\\n\" + str(y+n) + \" \" + str(x) +\"\\n\"\n",
    "            else:\n",
    "                out_str = str(x+n)+\" \" + str(-y+n) +\"\\n\" + str(-y) + \" \" + str(x) +\"\\n\"\n",
    "        else:\n",
    "            if y > 0:\n",
    "                out_str = str(-x)+\" \" + str(y) +\"\\n\" + str(y+n) + \" \" + str(-x+n) +\"\\n\"\n",
    "            else:\n",
    "                out_str = str(-x)+\" \" + str(-y+n) +\"\\n\" + str(-y) + \" \" + str(-x+n) +\"\\n\"\n",
    "        fo.write(out_str)\n",
    "    fo.close()\n",
    "    # return the number of variables in this 2sat problem, this number is needed \n",
    "       # when building the graph\n",
    "    return int(df.columns[1])*2"
   ]
  },
  {
   "cell_type": "code",
   "execution_count": 46,
   "metadata": {
    "collapsed": false
   },
   "outputs": [],
   "source": [
    "def Get_G(file,num):\n",
    "    G={}\n",
    "    G_rev={}\n",
    "    with open(os.path.join('../data/edges/',file)) as f:\n",
    "              for line in f:\n",
    "                    tmp = line.rstrip().split(\" \")\n",
    "                    #print tmp\n",
    "                    G.setdefault(int(tmp[0]),set()).add(int(tmp[1]))\n",
    "                    G_rev.setdefault(int(tmp[1]),set()).add(int(tmp[0]))\n",
    "    for i in range(1,num+1):\n",
    "        G.setdefault(i,set())\n",
    "        G_rev.setdefault(i,set())\n",
    "    return G,G_rev\n"
   ]
  },
  {
   "cell_type": "code",
   "execution_count": 47,
   "metadata": {
    "collapsed": true
   },
   "outputs": [],
   "source": [
    "def Kosaraju(G,G_rev):\n",
    "    global t,finish,leader\n",
    "    finish={}\n",
    "    G_finish={}\n",
    "    leader={}\n",
    "    DFS_loop(G_rev)\n",
    "    \n",
    "    for i in range(1,len(G)+1):\n",
    "        G_finish.setdefault(finish[i],set())\n",
    "        [G_finish[finish[i]].add(finish[x]) for x in G[i]]\n",
    "    \n",
    "    DFS_loop(G_finish)\n",
    "    #print G_finish\n",
    "    return leader"
   ]
  },
  {
   "cell_type": "code",
   "execution_count": 48,
   "metadata": {
    "collapsed": false
   },
   "outputs": [],
   "source": [
    "def DFS_loop(G):\n",
    "    global s,t,Visited\n",
    "    t=0\n",
    "    s=None\n",
    "    Visited=set()\n",
    "    for i in range(len(G),0,-1):\n",
    "        #print i,  Visited\n",
    "        if i not in Visited:\n",
    "          s=i\n",
    "          DFS(G,i)"
   ]
  },
  {
   "cell_type": "code",
   "execution_count": 49,
   "metadata": {
    "collapsed": false
   },
   "outputs": [],
   "source": [
    "def DFS(G,k):\n",
    "    global t\n",
    "    Visited.add(k)\n",
    "    leader[k]=s\n",
    "    #print leader\n",
    "    for j in G[k]:\n",
    "        if G[k] and j not in Visited:\n",
    "          DFS(G,j)\n",
    "    t+=1\n",
    "    #print \"i\",i,t\n",
    "    finish[k]=t"
   ]
  },
  {
   "cell_type": "code",
   "execution_count": 68,
   "metadata": {
    "collapsed": false,
    "scrolled": true
   },
   "outputs": [],
   "source": [
    "def get_groups(lead):\n",
    "    SCCd = {}\n",
    "    #for i in range(1,len(G)+1):\n",
    "    for i in range(1,len(G)):\n",
    "        SCCd.setdefault(lead[i],set()).add(i)\n",
    "\n",
    "    SCCl = SCCd.values()\n",
    "    groups = sorted(SCCl,key=len)[::-1]\n",
    "    return groups"
   ]
  },
  {
   "cell_type": "code",
   "execution_count": 51,
   "metadata": {
    "collapsed": false,
    "scrolled": true
   },
   "outputs": [],
   "source": [
    "def judge(groups):\n",
    "    for group in groups:\n",
    "        num = len(group)\n",
    "        group_s = list(group)\n",
    "        if num > 1:\n",
    "            for i, j in itertools.combinations(range(num),2):\n",
    "                if abs(group_s[i] - group_s[j])==100000:\n",
    "                    return False\n",
    "    return True"
   ]
  },
  {
   "cell_type": "code",
   "execution_count": 65,
   "metadata": {
    "collapsed": false
   },
   "outputs": [],
   "source": [
    "def SAT2(filename):\n",
    "    n  = to_edges(filename)\n",
    "    edgefile = filename.replace(\"sat\",\"edge\")\n",
    "    G,G_rev= Get_G(edgefile,n)\n",
    "    lead = Kosaraju(G,G_rev)\n",
    "    groups = get_groups(lead)\n",
    "    return judge(groups)\n"
   ]
  },
  {
   "cell_type": "code",
   "execution_count": 74,
   "metadata": {
    "collapsed": false
   },
   "outputs": [
    {
     "data": {
      "text/plain": [
       "True"
      ]
     },
     "execution_count": 74,
     "metadata": {},
     "output_type": "execute_result"
    }
   ],
   "source": [
    "SAT2(filename)"
   ]
  },
  {
   "cell_type": "code",
   "execution_count": 64,
   "metadata": {
    "collapsed": false
   },
   "outputs": [
    {
     "data": {
      "text/plain": [
       "'../data/2sat1.txt'"
      ]
     },
     "execution_count": 64,
     "metadata": {},
     "output_type": "execute_result"
    }
   ],
   "source": [
    "file"
   ]
  },
  {
   "cell_type": "code",
   "execution_count": 76,
   "metadata": {
    "collapsed": false
   },
   "outputs": [
    {
     "data": {
      "text/plain": [
       "'2sat5.txt'"
      ]
     },
     "execution_count": 76,
     "metadata": {},
     "output_type": "execute_result"
    }
   ],
   "source": [
    "filename"
   ]
  },
  {
   "cell_type": "code",
   "execution_count": 77,
   "metadata": {
    "collapsed": false,
    "scrolled": false
   },
   "outputs": [
    {
     "name": "stdout",
     "output_type": "stream",
     "text": [
      "True\n",
      "True\n"
     ]
    }
   ],
   "source": [
    "import glob,os\n",
    "files = sorted(list(glob.glob(\"../data/*.txt\")))\n",
    "for file in files[4:]:\n",
    "    filename = os.path.basename(file)\n",
    "    print SAT2(filename)\n",
    "    "
   ]
  }
 ],
 "metadata": {
  "kernelspec": {
   "display_name": "Python 2",
   "language": "python",
   "name": "python2"
  },
  "language_info": {
   "codemirror_mode": {
    "name": "ipython",
    "version": 2
   },
   "file_extension": ".py",
   "mimetype": "text/x-python",
   "name": "python",
   "nbconvert_exporter": "python",
   "pygments_lexer": "ipython2",
   "version": "2.7.13"
  }
 },
 "nbformat": 4,
 "nbformat_minor": 0
}
