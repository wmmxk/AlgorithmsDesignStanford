{
 "cells": [
  {
   "cell_type": "code",
   "execution_count": 1,
   "metadata": {
    "collapsed": true
   },
   "outputs": [],
   "source": [
    "import sys, resource, time\n",
    "\n",
    "# Increase recursion limit and stack size\n",
    "sys.setrecursionlimit(2 ** 20)\n",
    "hardlimit = resource.getrlimit(resource.RLIMIT_STACK)[1]\n",
    "resource.setrlimit(resource.RLIMIT_STACK,(hardlimit,hardlimit))\n"
   ]
  },
  {
   "cell_type": "code",
   "execution_count": 2,
   "metadata": {
    "collapsed": false
   },
   "outputs": [],
   "source": [
    "import os\n",
    "def Get_G(file,num):\n",
    "    G={}\n",
    "    G_rev={}\n",
    "    with open(os.path.join('../data/edges/',file)) as f:\n",
    "              for line in f:\n",
    "                    tmp = line.rstrip().split(\" \")\n",
    "                    #print tmp\n",
    "                    G.setdefault(int(tmp[0]),set()).add(int(tmp[1]))\n",
    "                    G_rev.setdefault(int(tmp[1]),set()).add(int(tmp[0]))\n",
    "    for i in range(1,num+1):\n",
    "        G.setdefault(i,set())\n",
    "        G_rev.setdefault(i,set())\n",
    "    return G,G_rev\n"
   ]
  },
  {
   "cell_type": "code",
   "execution_count": 3,
   "metadata": {
    "collapsed": false,
    "scrolled": true
   },
   "outputs": [],
   "source": [
    "G,G_rev= Get_G(\"2edge1.txt\",200000)"
   ]
  },
  {
   "cell_type": "code",
   "execution_count": 4,
   "metadata": {
    "collapsed": true
   },
   "outputs": [],
   "source": [
    "def Kosaraju(G,G_rev):\n",
    "    global t,finish,leader\n",
    "    finish={}\n",
    "    G_finish={}\n",
    "    leader={}\n",
    "    DFS_loop(G_rev)\n",
    "    \n",
    "    for i in range(1,len(G)+1):\n",
    "        G_finish.setdefault(finish[i],set())\n",
    "        [G_finish[finish[i]].add(finish[x]) for x in G[i]]\n",
    "    \n",
    "    DFS_loop(G_finish)\n",
    "    #print G_finish\n",
    "    return leader"
   ]
  },
  {
   "cell_type": "code",
   "execution_count": 5,
   "metadata": {
    "collapsed": false
   },
   "outputs": [],
   "source": [
    "def DFS_loop(G):\n",
    "    global s,t,Visited\n",
    "    t=0\n",
    "    s=None\n",
    "    Visited=set()\n",
    "    for i in range(len(G),0,-1):\n",
    "        #print i,  Visited\n",
    "        if i not in Visited:\n",
    "          s=i\n",
    "          DFS(G,i)"
   ]
  },
  {
   "cell_type": "code",
   "execution_count": 6,
   "metadata": {
    "collapsed": false
   },
   "outputs": [],
   "source": [
    "def DFS(G,k):\n",
    "    global t\n",
    "    Visited.add(k)\n",
    "    leader[k]=s\n",
    "    #print leader\n",
    "    for j in G[k]:\n",
    "        if G[k] and j not in Visited:\n",
    "          DFS(G,j)\n",
    "    t+=1\n",
    "    #print \"i\",i,t\n",
    "    finish[k]=t"
   ]
  },
  {
   "cell_type": "code",
   "execution_count": 7,
   "metadata": {
    "collapsed": false
   },
   "outputs": [],
   "source": [
    "lead = Kosaraju(G,G_rev)"
   ]
  },
  {
   "cell_type": "code",
   "execution_count": 10,
   "metadata": {
    "collapsed": false,
    "scrolled": true
   },
   "outputs": [],
   "source": [
    "SCCd = {}\n",
    "for i in range(1,len(G)+1):\n",
    "    SCCd.setdefault(lead[i],set()).add(i)"
   ]
  },
  {
   "cell_type": "code",
   "execution_count": 11,
   "metadata": {
    "collapsed": false,
    "scrolled": true
   },
   "outputs": [],
   "source": [
    "SCCl = SCCd.values()"
   ]
  },
  {
   "cell_type": "code",
   "execution_count": 12,
   "metadata": {
    "collapsed": false
   },
   "outputs": [],
   "source": [
    "groups = sorted(SCCl,key=len)[::-1]"
   ]
  },
  {
   "cell_type": "code",
   "execution_count": 26,
   "metadata": {
    "collapsed": false,
    "scrolled": true
   },
   "outputs": [],
   "source": [
    "for group in groups:\n",
    "    num = len(group)\n",
    "    group_s = list(group)\n",
    "    if num > 1:\n",
    "        for i, j in itertools.combinations(range(num),2):\n",
    "            if abs(group_s[i] - group_s[j])==100000:\n",
    "                print \"False\"\n",
    "                break"
   ]
  },
  {
   "cell_type": "code",
   "execution_count": 22,
   "metadata": {
    "collapsed": false
   },
   "outputs": [
    {
     "data": {
      "text/plain": [
       "1"
      ]
     },
     "execution_count": 22,
     "metadata": {},
     "output_type": "execute_result"
    }
   ],
   "source": [
    "min(lengths)"
   ]
  },
  {
   "cell_type": "code",
   "execution_count": 20,
   "metadata": {
    "collapsed": false
   },
   "outputs": [
    {
     "name": "stdout",
     "output_type": "stream",
     "text": [
      "1\n",
      "2\n",
      "3\n",
      "4\n",
      "1\n",
      "2\n",
      "3\n",
      "1\n",
      "2\n",
      "1\n"
     ]
    }
   ],
   "source": [
    "import itertools\n",
    "for i, j in itertools.combinations(range(5),2):\n",
    "    print abs(i-j)"
   ]
  }
 ],
 "metadata": {
  "kernelspec": {
   "display_name": "Python 2",
   "language": "python",
   "name": "python2"
  },
  "language_info": {
   "codemirror_mode": {
    "name": "ipython",
    "version": 2
   },
   "file_extension": ".py",
   "mimetype": "text/x-python",
   "name": "python",
   "nbconvert_exporter": "python",
   "pygments_lexer": "ipython2",
   "version": "2.7.13"
  }
 },
 "nbformat": 4,
 "nbformat_minor": 0
}
