{
 "cells": [
  {
   "cell_type": "code",
   "execution_count": null,
   "metadata": {
    "collapsed": true
   },
   "outputs": [],
   "source": [
    "# Two subtle points: the head nodes are keys, the second column is the key\n",
    "   # G[int(nodes_dist[1])-1][int(nodes_dist[0])-1] = int(nodes_dist[2])\n",
    "# The number of keys can be smaller than the number of vertices in the graph,\n",
    "   # n = len(G.keys()) does not work. So vertices has no in-coming edges\n",
    "    \n",
    "# The number of vertices starts from 1\n",
    "\n",
    "# The column of vertices which have no in-coming vertices in A is always zero or inf "
   ]
  },
  {
   "cell_type": "code",
   "execution_count": null,
   "metadata": {
    "collapsed": true
   },
   "outputs": [],
   "source": [
    "# Sanity example source: http://www.geeksforgeeks.org/dynamic-programming-set-23-bellman-ford-algorithm/"
   ]
  },
  {
   "cell_type": "code",
   "execution_count": 108,
   "metadata": {
    "collapsed": false
   },
   "outputs": [],
   "source": [
    "\n",
    "def Create_G(input):\n",
    "    from collections import defaultdict\n",
    "    filename = \"../data/\"+input\n",
    "\n",
    "    G = defaultdict(dict)\n",
    "    with open(filename) as f:\n",
    "        for line in f:\n",
    "          nodes_dist = line.rstrip().split(\" \")\n",
    "          if len(nodes_dist)==3:\n",
    "             G[int(nodes_dist[1])-1][int(nodes_dist[0])-1] = int(nodes_dist[2])\n",
    "          else:\n",
    "             n = int(nodes_dist[0])\n",
    "    return G,n\n"
   ]
  },
  {
   "cell_type": "code",
   "execution_count": 125,
   "metadata": {
    "collapsed": false
   },
   "outputs": [],
   "source": [
    "G,n = Create_G(\"g3.txt\")\n",
    "s = 0"
   ]
  },
  {
   "cell_type": "code",
   "execution_count": 126,
   "metadata": {
    "collapsed": false
   },
   "outputs": [],
   "source": [
    "def BellmanFord(G,s,n):\n",
    "    A = [[float(\"inf\")]*n for i in range(n+1)]\n",
    "\n",
    "    for i in range(n+1):\n",
    "        A[i][s] = 0\n",
    "    for i in range(1,n+1):\n",
    "\n",
    "        for v in G.keys():\n",
    "            A_wv = float(\"inf\")\n",
    "\n",
    "            for w in G[v].keys():\n",
    "                A_wv = min(A_wv,A[i-1][w]+G[v][w])\n",
    "            A[i][v] = min(A_wv,A[i-1][v])\n",
    "\n",
    "    if all([A[n-1][i] == A[n][i] for i in range(n)]):\n",
    "        return A[n-1]\n",
    "    else:\n",
    "        return \"Negative cycle\""
   ]
  },
  {
   "cell_type": "code",
   "execution_count": 127,
   "metadata": {
    "collapsed": false,
    "scrolled": false
   },
   "outputs": [],
   "source": [
    "res = BellmanFord(G,s,n)"
   ]
  },
  {
   "cell_type": "code",
   "execution_count": null,
   "metadata": {
    "collapsed": false
   },
   "outputs": [],
   "source": [
    "short = float(\"inf\")\n",
    "for i in range(n):\n",
    "    short = min(short,min(BellmanFord(G,i,n)))\n"
   ]
  }
 ],
 "metadata": {
  "kernelspec": {
   "display_name": "Python 2",
   "language": "python",
   "name": "python2"
  },
  "language_info": {
   "codemirror_mode": {
    "name": "ipython",
    "version": 2
   },
   "file_extension": ".py",
   "mimetype": "text/x-python",
   "name": "python",
   "nbconvert_exporter": "python",
   "pygments_lexer": "ipython2",
   "version": "2.7.12"
  }
 },
 "nbformat": 4,
 "nbformat_minor": 0
}
