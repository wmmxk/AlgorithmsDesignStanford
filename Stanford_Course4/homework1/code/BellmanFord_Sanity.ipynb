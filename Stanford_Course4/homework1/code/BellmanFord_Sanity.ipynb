{
 "cells": [
  {
   "cell_type": "code",
   "execution_count": 1,
   "metadata": {
    "collapsed": true
   },
   "outputs": [],
   "source": [
    "# Two subtle points: the head nodes are keys, the second column is the key\n",
    "   # G[int(nodes_dist[1])-1][int(nodes_dist[0])-1] = int(nodes_dist[2])\n",
    "# The number of keys can be smaller than the number of vertices in the graph,\n",
    "   # n = len(G.keys()) does not work. So vertices has no in-coming edges\n",
    "    \n",
    "# The number of vertices starts from 1\n",
    "\n",
    "# The column of vertices which have no in-coming vertices in A is always zero or inf "
   ]
  },
  {
   "cell_type": "code",
   "execution_count": 2,
   "metadata": {
    "collapsed": true
   },
   "outputs": [],
   "source": [
    "# Sanity example source: http://www.geeksforgeeks.org/dynamic-programming-set-23-bellman-ford-algorithm/"
   ]
  },
  {
   "cell_type": "code",
   "execution_count": 3,
   "metadata": {
    "collapsed": false
   },
   "outputs": [],
   "source": [
    "\n",
    "def Create_G(input):\n",
    "    from collections import defaultdict\n",
    "    filename = \"../data/\"+input\n",
    "\n",
    "    G = defaultdict(dict)\n",
    "    with open(filename) as f:\n",
    "        for line in f:\n",
    "          nodes_dist = line.rstrip().split(\" \")\n",
    "          if len(nodes_dist)==3:\n",
    "             G[int(nodes_dist[1])-1][int(nodes_dist[0])-1] = int(nodes_dist[2])\n",
    "          else:\n",
    "             n = int(nodes_dist[0])\n",
    "    return G,n\n"
   ]
  },
  {
   "cell_type": "code",
   "execution_count": 4,
   "metadata": {
    "collapsed": false
   },
   "outputs": [],
   "source": [
    "G,n = Create_G(\"g3.txt\")\n",
    "s = 0"
   ]
  },
  {
   "cell_type": "code",
   "execution_count": 5,
   "metadata": {
    "collapsed": false
   },
   "outputs": [],
   "source": [
    "def BellmanFord(G,s,n):\n",
    "    A = [[float(\"inf\")]*n for i in range(n+1)]\n",
    "\n",
    "    for i in range(n+1):\n",
    "        A[i][s] = 0\n",
    "    for i in range(1,n+1):\n",
    "\n",
    "        for v in G.keys():\n",
    "            A_wv = float(\"inf\")\n",
    "\n",
    "            for w in G[v].keys():\n",
    "                A_wv = min(A_wv,A[i-1][w]+G[v][w])\n",
    "            A[i][v] = min(A_wv,A[i-1][v])\n",
    "\n",
    "    if all([A[n-1][i] == A[n][i] for i in range(n)]):\n",
    "        return A[n-1]\n",
    "    else:\n",
    "        return \"Negative cycle\""
   ]
  },
  {
   "cell_type": "code",
   "execution_count": 6,
   "metadata": {
    "collapsed": false,
    "scrolled": false
   },
   "outputs": [],
   "source": [
    "res = BellmanFord(G,s,n)"
   ]
  },
  {
   "cell_type": "code",
   "execution_count": 8,
   "metadata": {
    "collapsed": false,
    "scrolled": true
   },
   "outputs": [
    {
     "name": "stdout",
     "output_type": "stream",
     "text": [
      "0\n",
      "10\n",
      "20\n",
      "30\n",
      "40\n",
      "50\n",
      "60\n",
      "70\n",
      "80\n",
      "90\n",
      "100\n",
      "110\n",
      "120\n",
      "130\n",
      "140\n",
      "150\n",
      "160\n",
      "170\n",
      "180\n",
      "190\n",
      "200\n",
      "210\n",
      "220\n",
      "230\n",
      "240\n",
      "250\n",
      "260\n",
      "270\n",
      "280\n",
      "290\n",
      "300\n",
      "310\n",
      "320\n",
      "330\n",
      "340\n",
      "350\n",
      "360\n",
      "370\n",
      "380\n",
      "390\n",
      "400\n",
      "410\n",
      "420\n",
      "430\n",
      "440\n",
      "450\n",
      "460\n",
      "470\n",
      "480\n",
      "490\n",
      "500\n",
      "510\n",
      "520\n",
      "530\n",
      "540\n",
      "550\n",
      "560\n",
      "570\n",
      "580\n",
      "590\n",
      "600\n",
      "610\n",
      "620\n",
      "630\n",
      "640\n",
      "650\n",
      "660\n",
      "670\n",
      "680\n",
      "690\n",
      "700\n",
      "710\n",
      "720\n",
      "730\n",
      "740\n",
      "750\n",
      "760\n",
      "770\n",
      "780\n",
      "790\n",
      "800\n",
      "810\n",
      "820\n",
      "830\n",
      "840\n",
      "850\n",
      "860\n",
      "870\n",
      "880\n",
      "890\n",
      "900\n",
      "910\n",
      "920\n",
      "930\n",
      "940\n",
      "950\n",
      "960\n",
      "970\n",
      "980\n",
      "990\n"
     ]
    }
   ],
   "source": [
    "short = float(\"inf\")\n",
    "for i in range(n):\n",
    "    if i%50 ==0:\n",
    "        print i\n",
    "    short = min(short,min(BellmanFord(G,i,n)))\n"
   ]
  },
  {
   "cell_type": "code",
   "execution_count": 9,
   "metadata": {
    "collapsed": false
   },
   "outputs": [
    {
     "data": {
      "text/plain": [
       "-19"
      ]
     },
     "execution_count": 9,
     "metadata": {},
     "output_type": "execute_result"
    }
   ],
   "source": [
    "short"
   ]
  }
 ],
 "metadata": {
  "kernelspec": {
   "display_name": "Python 2",
   "language": "python",
   "name": "python2"
  },
  "language_info": {
   "codemirror_mode": {
    "name": "ipython",
    "version": 2
   },
   "file_extension": ".py",
   "mimetype": "text/x-python",
   "name": "python",
   "nbconvert_exporter": "python",
   "pygments_lexer": "ipython2",
   "version": "2.7.13"
  }
 },
 "nbformat": 4,
 "nbformat_minor": 0
}
