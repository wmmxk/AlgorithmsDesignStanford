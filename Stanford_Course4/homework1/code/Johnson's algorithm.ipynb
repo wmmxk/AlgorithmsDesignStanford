{
 "cells": [
  {
   "cell_type": "code",
   "execution_count": 52,
   "metadata": {
    "collapsed": true
   },
   "outputs": [],
   "source": [
    "\n",
    "def Create_G(input):\n",
    "    from collections import defaultdict\n",
    "    filename = \"../data/\"+input\n",
    "\n",
    "    G = defaultdict(dict)\n",
    "    with open(filename) as f:\n",
    "        for line in f:\n",
    "          nodes_dist = line.rstrip().split(\" \")\n",
    "          if len(nodes_dist)==3:\n",
    "             G[int(nodes_dist[1])][int(nodes_dist[0])] = int(nodes_dist[2])\n",
    "          else:\n",
    "             n = int(nodes_dist[0])\n",
    "    return G,n\n"
   ]
  },
  {
   "cell_type": "code",
   "execution_count": 53,
   "metadata": {
    "collapsed": true
   },
   "outputs": [],
   "source": [
    "G,n = Create_G(\"sanity.txt\")\n",
    "G_o = G\n",
    "s = 0\n",
    "for i in range(1,n+1):\n",
    "        G[i][0] = 0"
   ]
  },
  {
   "cell_type": "code",
   "execution_count": 55,
   "metadata": {
    "collapsed": false,
    "scrolled": true
   },
   "outputs": [
    {
     "data": {
      "text/plain": [
       "defaultdict(dict,\n",
       "            {1: {0: 0},\n",
       "             2: {0: 0, 1: -1, 4: 1},\n",
       "             3: {0: 0, 1: 4, 2: 3, 4: 5},\n",
       "             4: {0: 0, 2: 2, 5: -3},\n",
       "             5: {0: 0, 2: 2}})"
      ]
     },
     "execution_count": 55,
     "metadata": {},
     "output_type": "execute_result"
    }
   ],
   "source": [
    "G_o"
   ]
  },
  {
   "cell_type": "code",
   "execution_count": 41,
   "metadata": {
    "collapsed": true
   },
   "outputs": [],
   "source": [
    "def BellmanFord(G,s,n):\n",
    "    A = [[float(\"inf\")]*n for i in range(n+1)]\n",
    "\n",
    "    for i in range(n+1):\n",
    "        A[i][s] = 0\n",
    "    for i in range(1,n+1):\n",
    "\n",
    "        for v in G.keys():\n",
    "            A_wv = float(\"inf\")\n",
    "\n",
    "            for w in G[v].keys():\n",
    "                A_wv = min(A_wv,A[i-1][w]+G[v][w])\n",
    "            A[i][v] = min(A_wv,A[i-1][v])\n",
    "\n",
    "    if all([A[n-1][i] == A[n][i] for i in range(n)]):\n",
    "        return A[n-1]\n",
    "    else:\n",
    "        return \"Negative cycle\""
   ]
  },
  {
   "cell_type": "code",
   "execution_count": 42,
   "metadata": {
    "collapsed": false
   },
   "outputs": [],
   "source": [
    "A = BellmanFord(G,0,n+1)"
   ]
  },
  {
   "cell_type": "code",
   "execution_count": 44,
   "metadata": {
    "collapsed": false
   },
   "outputs": [],
   "source": [
    "P = {}\n",
    "for i in range(1,n+1):\n",
    "    P[i] = A[i]"
   ]
  },
  {
   "cell_type": "code",
   "execution_count": 47,
   "metadata": {
    "collapsed": false
   },
   "outputs": [],
   "source": [
    "from heapq import heappush, heappop\n",
    "def Dijkstra(graph, start):\n",
    "    A = [None] * len(graph)\n",
    "    queue = [(0, start)]\n",
    "    while queue:\n",
    "        path_len, v = heappop(queue)\n",
    "        if A[v-1] is None: # v is unvisited\n",
    "            A[v-1] = path_len\n",
    "            for w, edge_len in graph[v].items():\n",
    "                if A[w-1] is None:\n",
    "                    heappush(queue, (path_len + edge_len, w))\n",
    "\n",
    "    # to give same result as original, assign zero distance to unreachable vertices             D\n",
    "    return [1000000 if x is None else x for x in A] "
   ]
  },
  {
   "cell_type": "code",
   "execution_count": 56,
   "metadata": {
    "collapsed": true
   },
   "outputs": [],
   "source": [
    "single_p = Dijkstra(G_o,1)"
   ]
  },
  {
   "cell_type": "code",
   "execution_count": 57,
   "metadata": {
    "collapsed": false
   },
   "outputs": [
    {
     "data": {
      "text/plain": [
       "[0, 1000000, 1000000, 1000000, 0]"
      ]
     },
     "execution_count": 57,
     "metadata": {},
     "output_type": "execute_result"
    }
   ],
   "source": [
    "single_p"
   ]
  },
  {
   "cell_type": "code",
   "execution_count": 58,
   "metadata": {
    "collapsed": false
   },
   "outputs": [
    {
     "data": {
      "text/plain": [
       "defaultdict(dict,\n",
       "            {0: {},\n",
       "             1: {0: 0},\n",
       "             2: {0: 0, 1: -1, 4: 1},\n",
       "             3: {0: 0, 1: 4, 2: 3, 4: 5},\n",
       "             4: {0: 0, 2: 2, 5: -3},\n",
       "             5: {0: 0, 2: 2}})"
      ]
     },
     "execution_count": 58,
     "metadata": {},
     "output_type": "execute_result"
    }
   ],
   "source": [
    "G_o"
   ]
  }
 ],
 "metadata": {
  "kernelspec": {
   "display_name": "Python 2",
   "language": "python",
   "name": "python2"
  },
  "language_info": {
   "codemirror_mode": {
    "name": "ipython",
    "version": 2
   },
   "file_extension": ".py",
   "mimetype": "text/x-python",
   "name": "python",
   "nbconvert_exporter": "python",
   "pygments_lexer": "ipython2",
   "version": "2.7.13"
  }
 },
 "nbformat": 4,
 "nbformat_minor": 2
}
