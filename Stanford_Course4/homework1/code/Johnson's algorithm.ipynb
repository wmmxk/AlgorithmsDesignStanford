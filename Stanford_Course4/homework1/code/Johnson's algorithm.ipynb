{
 "cells": [
  {
   "cell_type": "code",
   "execution_count": null,
   "metadata": {
    "collapsed": true
   },
   "outputs": [],
   "source": [
    "# 1. The graph for BellmanFord use the heads as keys but for Dijkstra, tails are the keys\n",
    "# 2. In the last step, you should assign the distance to the source node to be infinity before searching the minimum\n",
    "# 3. The Bellman Ford you build assumes node starts from zero but for Dijkstra, node starts from one\n",
    "# 4. When looking for the minimum, you should convert the results of running Dijkstra on G_t_h to the path in G.\n",
    "   # Not the minimum path in G_t_h\n"
   ]
  },
  {
   "cell_type": "code",
   "execution_count": 70,
   "metadata": {
    "collapsed": true
   },
   "outputs": [],
   "source": [
    "# Step 1 create the G_h_t graph for Bellman Ford algorithm\n",
    "from collections import defaultdict\n",
    "def Create_G(input):\n",
    "\n",
    "    filename = \"../data/\"+input\n",
    "\n",
    "    G = defaultdict(dict)\n",
    "    with open(filename) as f:\n",
    "        for line in f:\n",
    "          nodes_dist = line.rstrip().split(\" \")\n",
    "          if len(nodes_dist)==3:\n",
    "             G[int(nodes_dist[1])][int(nodes_dist[0])] = int(nodes_dist[2])\n",
    "          else:\n",
    "             n = int(nodes_dist[0])\n",
    "    return G,n\n"
   ]
  },
  {
   "cell_type": "code",
   "execution_count": 71,
   "metadata": {
    "collapsed": false
   },
   "outputs": [],
   "source": [
    "# Step 2 Create the G_t_h graph for Dijkstra and add the zero source to G_h_t\n",
    "G,n = Create_G(\"g3.txt\")\n",
    "# G_t_h is for Dijkstra algorithm. \n",
    "G_t_h = defaultdict(dict)\n",
    "for h in G.keys():\n",
    "    for t in G[h].keys():\n",
    "        G_t_h[t][h] = G[h][t]\n",
    "s = 0\n",
    "for i in range(1,n+1):\n",
    "        G[i][0] = 0"
   ]
  },
  {
   "cell_type": "code",
   "execution_count": 72,
   "metadata": {
    "collapsed": true
   },
   "outputs": [],
   "source": [
    "def BellmanFord(G,s,n):\n",
    "    A = [[float(\"inf\")]*n for i in range(n+1)]\n",
    "\n",
    "    for i in range(n+1):\n",
    "        A[i][s] = 0\n",
    "    for i in range(1,n+1):\n",
    "\n",
    "        for v in G.keys():\n",
    "            A_wv = float(\"inf\")\n",
    "\n",
    "            for w in G[v].keys():\n",
    "                A_wv = min(A_wv,A[i-1][w]+G[v][w])\n",
    "            A[i][v] = min(A_wv,A[i-1][v])\n",
    "\n",
    "    if all([A[n-1][i] == A[n][i] for i in range(n)]):\n",
    "        return A[n-1]\n",
    "    else:\n",
    "        return \"Negative cycle\""
   ]
  },
  {
   "cell_type": "code",
   "execution_count": 73,
   "metadata": {
    "collapsed": false
   },
   "outputs": [],
   "source": [
    "# step 3. run Bellman Ford on the augmented graph\n",
    "A = BellmanFord(G,0,n+1)\n",
    "P = {}\n",
    "for i in range(1,n+1):\n",
    "    P[i] = A[i]"
   ]
  },
  {
   "cell_type": "code",
   "execution_count": 74,
   "metadata": {
    "collapsed": false,
    "scrolled": true
   },
   "outputs": [],
   "source": [
    "# step 4. correct the edge costs in G_t_h\n",
    "for t in G_t_h.keys():\n",
    "    for h in G_t_h[t].keys():\n",
    "        G_t_h[t][h] = G_t_h[t][h] + P[t] - P[h]"
   ]
  },
  {
   "cell_type": "code",
   "execution_count": 75,
   "metadata": {
    "collapsed": false
   },
   "outputs": [],
   "source": [
    "from heapq import heappush, heappop\n",
    "def Dijkstra(graph, n,start):\n",
    "    A = [None] * n\n",
    "    queue = [(0, start)]\n",
    "    while queue:\n",
    "        path_len, v = heappop(queue)\n",
    "        if A[v-1] is None: # v is unvisited\n",
    "            A[v-1] = path_len\n",
    "            for w, edge_len in graph[v].items():\n",
    "                if A[w-1] is None:\n",
    "                    heappush(queue, (path_len + edge_len, w))\n",
    "\n",
    "    # to give same result as original, assign zero distance to unreachable vertices             D\n",
    "    return [float(\"inf\") if x is None else x for x in A] "
   ]
  },
  {
   "cell_type": "code",
   "execution_count": 76,
   "metadata": {
    "collapsed": false,
    "scrolled": true
   },
   "outputs": [
    {
     "name": "stdout",
     "output_type": "stream",
     "text": [
      "100\n",
      "200\n",
      "300\n",
      "400\n",
      "500\n",
      "600\n",
      "700\n",
      "800\n",
      "900\n",
      "1000\n",
      "shortest -19\n"
     ]
    }
   ],
   "source": [
    "# step 5. run Dijkstra on G_t_h and convert the resultst. Finally find the shortest path\n",
    "short = float(\"inf\")\n",
    "for i in range(1,n+1):\n",
    "    if i%100==0:\n",
    "        print i\n",
    "    tmp = Dijkstra(G_t_h,n,i)\n",
    "    tmp[i-1] = float(\"inf\")\n",
    "    \n",
    "    tmp_o = [tmp[j] - P[i] + P[j+1] for j in range(len(tmp))]\n",
    "\n",
    "    short = min(short,min(tmp_o))\n",
    "print \"shortest\",short"
   ]
  }
 ],
 "metadata": {
  "kernelspec": {
   "display_name": "Python 2",
   "language": "python",
   "name": "python2"
  },
  "language_info": {
   "codemirror_mode": {
    "name": "ipython",
    "version": 2
   },
   "file_extension": ".py",
   "mimetype": "text/x-python",
   "name": "python",
   "nbconvert_exporter": "python",
   "pygments_lexer": "ipython2",
   "version": "2.7.13"
  }
 },
 "nbformat": 4,
 "nbformat_minor": 2
}
