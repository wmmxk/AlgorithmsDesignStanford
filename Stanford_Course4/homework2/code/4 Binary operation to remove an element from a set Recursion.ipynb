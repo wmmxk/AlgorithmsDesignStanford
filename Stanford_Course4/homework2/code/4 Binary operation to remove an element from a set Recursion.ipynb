{
 "cells": [
  {
   "cell_type": "code",
   "execution_count": null,
   "metadata": {
    "collapsed": true
   },
   "outputs": [],
   "source": [
    "# source: http://wikistack.com/traveling-salesman-problem-dynamic-programming/"
   ]
  },
  {
   "cell_type": "code",
   "execution_count": 71,
   "metadata": {
    "collapsed": true
   },
   "outputs": [],
   "source": [
    "filename = \"last20.txt\"\n",
    "\n",
    "def dist(p1,p2):\n",
    "    from math import sqrt\n",
    "    d = (float(p1[0])-float(p2[0]))**2 + (float(p1[1]) - float(p2[1]))**2\n",
    "    return sqrt(d)\n",
    "\n",
    "def create_m(filename):\n",
    "    coo_x_y = []\n",
    "    with open(\"../data/\"+filename) as f:\n",
    "        n=int(f.next().strip())\n",
    "        for line in f:\n",
    "            coo_x_y.append(line.strip().split())\n",
    "    matrix = []\n",
    "    for i in range(n):\n",
    "        tmp = []\n",
    "        for j in range(n):\n",
    "            tmp.append(dist(coo_x_y[i], coo_x_y[j]))\n",
    "        matrix.append(tmp)\n",
    "    return matrix,coo_x_y"
   ]
  },
  {
   "cell_type": "code",
   "execution_count": 72,
   "metadata": {
    "collapsed": false
   },
   "outputs": [],
   "source": [
    "matrix,coo_x_y = create_m(filename)"
   ]
  },
  {
   "cell_type": "markdown",
   "metadata": {},
   "source": [
    "matrix = [[0,8,12,26],[8,0,21,10],[12,21,0,30],[25,10,30,0]]"
   ]
  },
  {
   "cell_type": "code",
   "execution_count": 73,
   "metadata": {
    "collapsed": false,
    "scrolled": true
   },
   "outputs": [
    {
     "data": {
      "image/png": "[encoded data removed]",
      "text/plain": [
       "<matplotlib.figure.Figure at 0x7f8b3c603b90>"
      ]
     },
     "metadata": {},
     "output_type": "display_data"
    }
   ],
   "source": [
    "x = [float(coo[0]) for coo in coo_x_y]\n",
    "y= [float(coo[1]) for coo in coo_x_y]\n",
    "import matplotlib.pyplot as plt\n",
    "%matplotlib inline\n",
    "plt.scatter(x,y)\n",
    "\n",
    "for i in range(len(x)):\n",
    "    plt.annotate(i, (x[i],y[i]))\n"
   ]
  },
  {
   "cell_type": "code",
   "execution_count": 74,
   "metadata": {
    "collapsed": false
   },
   "outputs": [],
   "source": [
    "graph = matrix\n",
    "n = len(graph)\n",
    "npow = 2**n\n",
    "g = [[-1]*npow for i in range(n)]\n",
    "\n",
    "\n",
    "p = [[[None,None] for j in  range(npow)] for i in range(n)]\n",
    "\n",
    "for i in range(n):\n",
    "    g[i][0] = graph[i][0]\n",
    "    "
   ]
  },
  {
   "cell_type": "code",
   "execution_count": 75,
   "metadata": {
    "collapsed": true
   },
   "outputs": [],
   "source": [
    "def tsp(start, set):\n",
    "    result = -1\n",
    "    if g[start][set] !=-1:\n",
    "        return g[start][set]\n",
    "    else:\n",
    "        for x in range(n):\n",
    "            mask = npow -1 -2**x\n",
    "            masked = set & mask\n",
    "            if masked != set:\n",
    "                temp = graph[start][x] + tsp(x, masked)\n",
    "                if result == -1 or result > temp:\n",
    "                    result = temp\n",
    "                    p[start][set] = [x,masked]\n",
    "        g[start][set] = result\n",
    "        return result"
   ]
  },
  {
   "cell_type": "code",
   "execution_count": 76,
   "metadata": {
    "collapsed": false
   },
   "outputs": [
    {
     "data": {
      "text/plain": [
       "22597.661016862963"
      ]
     },
     "execution_count": 76,
     "metadata": {},
     "output_type": "execute_result"
    }
   ],
   "source": [
    "tsp(0,npow-2)"
   ]
  },
  {
   "cell_type": "code",
   "execution_count": 78,
   "metadata": {
    "collapsed": false
   },
   "outputs": [
    {
     "name": "stdout",
     "output_type": "stream",
     "text": [
      "[0, 2, 1, 3, 7, 8, 10, 18, 19, 14, 11, 15, 17, 16, 12, 13, 9, 6, 5, 4, 0]\n"
     ]
    }
   ],
   "source": [
    "point = 0\n",
    "index = npow-2\n",
    "\n",
    "points=[point]\n",
    "for i in range(n-1):\n",
    "    points.append(p[point][index][0])\n",
    "    \n",
    "    index = p[point][index][1]\n",
    "    point = points[-1]\n",
    "points.append(0)\n",
    "\n",
    "print points"
   ]
  },
  {
   "cell_type": "code",
   "execution_count": 79,
   "metadata": {
    "collapsed": false
   },
   "outputs": [
    {
     "data": {
      "image/png": "[encoded data removed]",
      "text/plain": [
       "<matplotlib.figure.Figure at 0x7f8b3c553e90>"
      ]
     },
     "metadata": {},
     "output_type": "display_data"
    }
   ],
   "source": [
    "x = [float(coo_x_y[i][0]) for i in points]\n",
    "y= [float(coo_x_y[i][1]) for i in points]\n",
    "import matplotlib.pyplot as plt\n",
    "%matplotlib inline\n",
    "plt.plot(x,y)\n",
    "plt.scatter(x,y)\n",
    "\n",
    "for i in range(len(x)):\n",
    "    plt.annotate(points[i], (x[i],y[i]))\n"
   ]
  },
  {
   "cell_type": "code",
   "execution_count": null,
   "metadata": {
    "collapsed": true
   },
   "outputs": [],
   "source": []
  }
 ],
 "metadata": {
  "kernelspec": {
   "display_name": "Python 2",
   "language": "python",
   "name": "python2"
  },
  "language_info": {
   "codemirror_mode": {
    "name": "ipython",
    "version": 2
   },
   "file_extension": ".py",
   "mimetype": "text/x-python",
   "name": "python",
   "nbconvert_exporter": "python",
   "pygments_lexer": "ipython2",
   "version": "2.7.13"
  }
 },
 "nbformat": 4,
 "nbformat_minor": 2
}
