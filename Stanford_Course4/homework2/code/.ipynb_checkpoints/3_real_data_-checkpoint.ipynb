{
 "cells": [
  {
   "cell_type": "code",
   "execution_count": null,
   "metadata": {
    "collapsed": true
   },
   "outputs": [],
   "source": [
    "# The answer was constructed by running TSP on the two parts of the data"
   ]
  },
  {
   "cell_type": "code",
   "execution_count": 7,
   "metadata": {
    "collapsed": false
   },
   "outputs": [],
   "source": [
    "filename = \"tsp.txt\"\n",
    "\n",
    "def dist(p1,p2):\n",
    "    from math import sqrt\n",
    "    d = (float(p1[0])-float(p2[0]))**2 + (float(p1[1]) - float(p2[1]))**2\n",
    "    return sqrt(d)\n",
    "\n",
    "def create_m(filename):\n",
    "    coo_x_y = []\n",
    "    with open(\"../data/\"+filename) as f:\n",
    "        n=int(f.next().strip())\n",
    "        for line in f:\n",
    "            coo_x_y.append(line.strip().split())\n",
    "    matrix = []\n",
    "    for i in range(n):\n",
    "        tmp = []\n",
    "        for j in range(n):\n",
    "            tmp.append(dist(coo_x_y[i], coo_x_y[j]))\n",
    "        matrix.append(tmp)\n",
    "    return matrix,coo_x_y"
   ]
  },
  {
   "cell_type": "code",
   "execution_count": 8,
   "metadata": {
    "collapsed": false
   },
   "outputs": [],
   "source": [
    "matrix,coo_x_y = create_m(filename)"
   ]
  },
  {
   "cell_type": "code",
   "execution_count": 19,
   "metadata": {
    "collapsed": false
   },
   "outputs": [],
   "source": [
    "import numpy as np\n",
    "d = np.array(matrix)"
   ]
  },
  {
   "cell_type": "code",
   "execution_count": 13,
   "metadata": {
    "collapsed": false
   },
   "outputs": [
    {
     "data": {
      "text/plain": [
       "26442.730308948641"
      ]
     },
     "execution_count": 13,
     "metadata": {},
     "output_type": "execute_result"
    }
   ],
   "source": [
    "20667.4652351 - d[5,0]+d[5,1]+d[1,0] \\\n",
    "- d[13,16]+d[13,15]+d[15,23]+d[23,24]+d[24,19]+d[19,16]\\\n",
    "-d[20,17]+d[20,22]+d[22,21]+d[21,17]\n",
    "-d[11,9] -d[9,5]+d[11,10]+d[10,9]+d[9,5]"
   ]
  },
  {
   "cell_type": "code",
   "execution_count": 20,
   "metadata": {
    "collapsed": false
   },
   "outputs": [
    {
     "name": "stdout",
     "output_type": "stream",
     "text": [
      "26443.0\n"
     ]
    }
   ],
   "source": [
    "points = [0,4,7,3,2,6,8,12,13,15,23,24,19,16,20,22,21,17,18,14,11,10,9,\\\n",
    "         5,1,0]\n",
    "d_tour = 0\n",
    "for i in range(len(points)-1):\n",
    "    d_tour += d[points[i],points[i+1]]\n",
    "print round(d_tour,0)"
   ]
  },
  {
   "cell_type": "code",
   "execution_count": 22,
   "metadata": {
    "collapsed": false
   },
   "outputs": [
    {
     "name": "stdout",
     "output_type": "stream",
     "text": [
      "3261.66879363\n",
      "3242.0644389\n"
     ]
    }
   ],
   "source": [
    "print d[0,1]+d[1,4]+d[0,5]\n",
    "print d[0,4] + d[5,1] + d[1,0]"
   ]
  },
  {
   "cell_type": "code",
   "execution_count": 6,
   "metadata": {
    "collapsed": false,
    "scrolled": true
   },
   "outputs": [
    {
     "data": {
      "image/png": "[encoded data removed]",
      "text/plain": [
       "<matplotlib.figure.Figure at 0x7f3cdb8b6b10>"
      ]
     },
     "metadata": {},
     "output_type": "display_data"
    }
   ],
   "source": [
    "x = [float(coo[0]) for coo in coo_x_y]\n",
    "y= [float(coo[1]) for coo in coo_x_y]\n",
    "import matplotlib.pyplot as plt\n",
    "%matplotlib inline\n",
    "plt.scatter(x[:],y[:])\n",
    "\n",
    "\n",
    "for i in range(len(x)):\n",
    "    plt.annotate(i, (x[i],y[i]))\n"
   ]
  }
 ],
 "metadata": {
  "kernelspec": {
   "display_name": "Python 2",
   "language": "python",
   "name": "python2"
  },
  "language_info": {
   "codemirror_mode": {
    "name": "ipython",
    "version": 2
   },
   "file_extension": ".py",
   "mimetype": "text/x-python",
   "name": "python",
   "nbconvert_exporter": "python",
   "pygments_lexer": "ipython2",
   "version": "2.7.13"
  }
 },
 "nbformat": 4,
 "nbformat_minor": 2
}
