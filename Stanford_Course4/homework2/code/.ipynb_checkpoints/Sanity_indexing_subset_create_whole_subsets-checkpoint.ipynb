{
 "cells": [
  {
   "cell_type": "code",
   "execution_count": null,
   "metadata": {
    "collapsed": true
   },
   "outputs": [],
   "source": [
    "# Assum n nodes, the first node is 0."
   ]
  },
  {
   "cell_type": "code",
   "execution_count": 59,
   "metadata": {
    "collapsed": false
   },
   "outputs": [],
   "source": [
    "# create the list of subsets, ordered by the number of elements in it\n",
    "def create_subsets(mylist):\n",
    "    tmp = reduce(lambda x, y: x + [i + [y] for i in x], mylist, [[]])\n",
    "    tmp.pop(0)\n",
    "    tmp.sort(key = len)\n",
    "    return [set(i) for i in tmp]"
   ]
  },
  {
   "cell_type": "code",
   "execution_count": 60,
   "metadata": {
    "collapsed": false,
    "scrolled": true
   },
   "outputs": [],
   "source": [
    "# indexing each subset using a unique number, n is the number of elements in the whole set\n",
    "def code_set(myset,n):\n",
    "    code = [0]*n\n",
    "    for i in myset:\n",
    "        code[i-1] ='1'\n",
    "    b_code = \"\".join(str(i) for i in code)\n",
    "    return int(b_code,2)"
   ]
  },
  {
   "cell_type": "code",
   "execution_count": 61,
   "metadata": {
    "collapsed": false
   },
   "outputs": [],
   "source": [
    "# pairwise distance matrix\n",
    "matrix = [\n",
    "    [0, 1, 15, 6],\n",
    "    [2, 0, 7, 3],\n",
    "    [9, 6, 0, 12],\n",
    "    [10, 4, 8, 0]\n",
    "]"
   ]
  },
  {
   "cell_type": "code",
   "execution_count": 62,
   "metadata": {
    "collapsed": true
   },
   "outputs": [],
   "source": [
    "# create the subsets and code for each subset\n",
    "n = len(matrix)\n",
    "mylist = range(1,n)\n",
    "subsets = create_subsets(mylist)\n",
    "codes = [code_set(i,n-1) for i in subsets]"
   ]
  },
  {
   "cell_type": "code",
   "execution_count": 97,
   "metadata": {
    "collapsed": false,
    "scrolled": true
   },
   "outputs": [],
   "source": [
    "# initialize the res matrix\n",
    "res = [[float(\"inf\")] * len(subsets) for i in range(n-1)]\n",
    "for i in range(n-1):\n",
    "    element = list(subsets[i])[0]\n",
    "    res[element-1][i] = matrix[0][element]"
   ]
  },
  {
   "cell_type": "code",
   "execution_count": 99,
   "metadata": {
    "collapsed": false
   },
   "outputs": [],
   "source": [
    "# triple loop, the body of DP\n",
    "for s in subsets[n-1:]:\n",
    "    #print s\n",
    "    code = code_set(s,n-1)\n",
    "    index_s = codes.index(code)\n",
    "    for j in s:\n",
    "        s_j = s - {j}\n",
    "        code = code_set(s_j,n-1)\n",
    "        index_j = codes.index(code)\n",
    "        \n",
    "        for k in s_j:\n",
    "            #print \"k\",k\n",
    "            #print \"cost\", matrix[k][j]\n",
    "            res[j-1][index_s]  = min(res[j-1][index_s], res[k-1][index_j]+matrix[k][j])\n",
    "\n",
    "# get the final \n",
    "final = float(\"inf\")\n",
    "for i in range(n-1):\n",
    "    final = min(final, res[i][len(subsets)-1]+matrix[i+1][0])\n",
    "    "
   ]
  }
 ],
 "metadata": {
  "kernelspec": {
   "display_name": "Python 2",
   "language": "python",
   "name": "python2"
  },
  "language_info": {
   "codemirror_mode": {
    "name": "ipython",
    "version": 2
   },
   "file_extension": ".py",
   "mimetype": "text/x-python",
   "name": "python",
   "nbconvert_exporter": "python",
   "pygments_lexer": "ipython2",
   "version": "2.7.13"
  }
 },
 "nbformat": 4,
 "nbformat_minor": 2
}
