{
 "cells": [
  {
   "cell_type": "code",
   "execution_count": null,
   "metadata": {
    "collapsed": true
   },
   "outputs": [],
   "source": [
    "# source: http://blog.csdn.net/zhaoxinfan/article/details/12450839"
   ]
  },
  {
   "cell_type": "code",
   "execution_count": null,
   "metadata": {
    "collapsed": true
   },
   "outputs": [],
   "source": [
    "https://github.com/yashtc/Algo2/blob/master/PA%205/Q1.cpp"
   ]
  },
  {
   "cell_type": "code",
   "execution_count": 8,
   "metadata": {
    "collapsed": false
   },
   "outputs": [],
   "source": [
    "import os  \n",
    "from time import time  \n",
    "import sys  \n",
    "from math import *  \n",
    "from itertools import chain, combinations  \n",
    "  \n",
    "def all_subsets(ss):  \n",
    "  return chain(*map(lambda x: combinations(ss, x), range(0, len(ss)+1)))  \n",
    "\n",
    "filename = \"tsp.txt\"\n",
    "file = open(\"../data/\"+filename)  \n",
    "number_of_cities = int(file.readline().replace(\"\\n\", \"\"))  \n",
    "\n",
    "  \n",
    "cache = {}  \n",
    "\n",
    "number_of_cities = 24\n",
    "   \n",
    "for subset in all_subsets(range(1,number_of_cities+1)):  \n",
    "    if not subset in cache:  \n",
    "        cache[subset] = [0 for k in xrange(number_of_cities+2)]      \n",
    "    if(subset == (1,)):  \n",
    "        cache[subset][1] = 0  \n",
    "    else:  \n",
    "        cache[subset][1] = float(\"inf\")  "
   ]
  },
  {
   "cell_type": "code",
   "execution_count": null,
   "metadata": {
    "collapsed": true
   },
   "outputs": [],
   "source": [
    "\n",
    "\n",
    "  \n",
    "def distance(city1, city2):  \n",
    "    return sqrt((city1[0]-city2[0]) ** 2 + (city1[1]-city2[1]) ** 2)  \n",
    "  \n",
    "cities = []  \n",
    "for line in file.readlines():  \n",
    "    parts = line.replace(\"\\n\",\"\").rstrip().split(\" \")  \n",
    "    cities.append(map(float, parts))  \n",
    "  \n",
    "adjacency_matrix = [[0 for k in xrange(number_of_cities+1)] for j in xrange(number_of_cities+1)]  \n",
    "for index, pair in enumerate(cities):  \n",
    "    for i in range(0, number_of_cities):  \n",
    "        # print(\"from: \" + str(index) + \" to: \" + str(i) + \" -> \" + str(distance(cities[index], cities[i])))  \n",
    "        adjacency_matrix[index][i] = distance(cities[index], cities[i])  \n",
    "  \n",
    "def subset_without(subset, element_to_remove):  \n",
    "    subset_without_j = []  \n",
    "    for s in list(subset):  \n",
    "        if not s == element_to_remove:  \n",
    "            subset_without_j.append(s)  \n",
    "    return tuple(subset_without_j)  \n",
    "  \n",
    "for m in range(2,number_of_cities+1):  \n",
    "    subsets_to_consider = filter(lambda(subset): len(subset) == m and 1 in subset, cache.keys())  \n",
    "    for subset in subsets_to_consider:  \n",
    "        for j in subset:  \n",
    "            if j != 1:  \n",
    "                subset_without_j = subset_without(subset, j)  \n",
    "                k_costs = []  \n",
    "                for k in subset:  \n",
    "                    if k != j:  \n",
    "                        k_cost = cache[subset_without_j][k] + adjacency_matrix[k-1][j-1]  \n",
    "                        k_costs.append(k_cost)  \n",
    "                  \n",
    "                cache[subset][j] = min(k_costs)  \n",
    "              \n",
    "minimum_tour_candidates = []  \n",
    "  \n",
    "for j in range(2, number_of_cities+1):  \n",
    "    tour_cost = cache[tuple(range(1, number_of_cities+1))][j] + adjacency_matrix[j-1][0]  \n",
    "    minimum_tour_candidates.append(tour_cost)  \n",
    "  \n",
    "print(\"minimum tour is: \" + str(min(minimum_tour_candidates)))  \n"
   ]
  }
 ],
 "metadata": {
  "kernelspec": {
   "display_name": "Python 2",
   "language": "python",
   "name": "python2"
  },
  "language_info": {
   "codemirror_mode": {
    "name": "ipython",
    "version": 2
   },
   "file_extension": ".py",
   "mimetype": "text/x-python",
   "name": "python",
   "nbconvert_exporter": "python",
   "pygments_lexer": "ipython2",
   "version": "2.7.13"
  }
 },
 "nbformat": 4,
 "nbformat_minor": 0
}
