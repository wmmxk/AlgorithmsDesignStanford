{
 "cells": [
  {
   "cell_type": "code",
   "execution_count": 1,
   "metadata": {
    "collapsed": false
   },
   "outputs": [],
   "source": [
    "filename = \"last16.txt\"\n",
    "\n",
    "def dist(p1,p2):\n",
    "    from math import sqrt\n",
    "    d = (float(p1[0])-float(p2[0]))**2 + (float(p1[1]) - float(p2[1]))**2\n",
    "    return sqrt(d)\n",
    "\n",
    "def create_m(filename):\n",
    "    coo_x_y = []\n",
    "    with open(\"../data/\"+filename) as f:\n",
    "        n=int(f.next().strip())\n",
    "        for line in f:\n",
    "            coo_x_y.append(line.strip().split())\n",
    "    matrix = []\n",
    "    for i in range(n):\n",
    "        tmp = []\n",
    "        for j in range(n):\n",
    "            tmp.append(dist(coo_x_y[i], coo_x_y[j]))\n",
    "        matrix.append(tmp)\n",
    "    return matrix,coo_x_y"
   ]
  },
  {
   "cell_type": "code",
   "execution_count": 2,
   "metadata": {
    "collapsed": false
   },
   "outputs": [],
   "source": [
    "matrix,coo_x_y = create_m(filename)"
   ]
  },
  {
   "cell_type": "code",
   "execution_count": 3,
   "metadata": {
    "collapsed": false,
    "scrolled": true
   },
   "outputs": [
    {
     "data": {
      "image/png": "[encoded data removed]",
      "text/plain": [
       "<matplotlib.figure.Figure at 0x7f2feabe0ad0>"
      ]
     },
     "metadata": {},
     "output_type": "display_data"
    }
   ],
   "source": [
    "x = [float(coo[0]) for coo in coo_x_y]\n",
    "y= [float(coo[1]) for coo in coo_x_y]\n",
    "import matplotlib.pyplot as plt\n",
    "%matplotlib inline\n",
    "plt.scatter(x,y)\n",
    "\n",
    "for i in range(len(x)):\n",
    "    plt.annotate(i, (x[i],y[i]))\n"
   ]
  },
  {
   "cell_type": "code",
   "execution_count": 4,
   "metadata": {
    "collapsed": true
   },
   "outputs": [],
   "source": [
    "import numpy as np\n",
    "dist = np.array(matrix)\n",
    "\n",
    "part = dist[:,:]"
   ]
  },
  {
   "cell_type": "code",
   "execution_count": 5,
   "metadata": {
    "collapsed": true
   },
   "outputs": [],
   "source": [
    "# create the list of subsets, ordered by the number of elements in it\n",
    "def create_subsets(mylist):\n",
    "    tmp = reduce(lambda x, y: x + [i + [y] for i in x], mylist, [[]])\n",
    "    tmp.pop(0)\n",
    "    tmp.sort(key = len)\n",
    "    return [set(i) for i in tmp]"
   ]
  },
  {
   "cell_type": "code",
   "execution_count": 6,
   "metadata": {
    "collapsed": false,
    "scrolled": true
   },
   "outputs": [],
   "source": [
    "# indexing each subset using a unique number, n is the number of elements in the whole set\n",
    "def code_set(myset,n):\n",
    "    code = [0]*n\n",
    "    for i in myset:\n",
    "        code[i-1] ='1'\n",
    "    b_code = \"\".join(str(i) for i in code)\n",
    "    return int(b_code,2)"
   ]
  },
  {
   "cell_type": "code",
   "execution_count": 7,
   "metadata": {
    "collapsed": true
   },
   "outputs": [],
   "source": [
    "# create the subsets and code for each subset\n",
    "n = len(part)\n",
    "mylist = range(1,n)\n",
    "subsets = create_subsets(mylist)\n",
    "codes = [code_set(i,n-1) for i in subsets]\n"
   ]
  },
  {
   "cell_type": "code",
   "execution_count": 9,
   "metadata": {
    "collapsed": false,
    "scrolled": true
   },
   "outputs": [],
   "source": [
    "res = [[[float(\"inf\")] for j in range(len(subsets))] for i in range(n)]\n",
    "tour = [[[None,None] for j in  range(len(subsets))] for i in range(n)]\n",
    "for i in range(n-1):\n",
    "    element = list(subsets[i])[0]\n",
    "    res[element][i] = part[0][element]\n",
    "for s in subsets[n-1:]:\n",
    "    code = code_set(s,n-1)\n",
    "    index_s = codes.index(code)\n",
    "    for j in s:\n",
    "        s_j = s - {j}\n",
    "\n",
    "        code = code_set(s_j,n-1)\n",
    "        index_j = codes.index(code)\n",
    "\n",
    "        \n",
    "        for k in s_j:\n",
    "\n",
    "            if res[j][index_s] > res[k][index_j]+part[k,j]:\n",
    "               res[j][index_s] = res[k][index_j]+part[k,j]\n",
    "               tour[j][index_s] = [k,index_j]\n"
   ]
  },
  {
   "cell_type": "code",
   "execution_count": 10,
   "metadata": {
    "collapsed": false
   },
   "outputs": [
    {
     "name": "stdout",
     "output_type": "stream",
     "text": [
      "16449.51509\n"
     ]
    }
   ],
   "source": [
    "final = float(\"inf\")\n",
    "return_point = None\n",
    "for i in range(1,n):\n",
    "    if final > res[i][len(subsets)-1]+part[i,0]:\n",
    "        \n",
    "       final = res[i][len(subsets)-1]+part[i,0]\n",
    "       return_point = i\n",
    "\n",
    "# There must be two eqaul elements\n",
    "#[res[i][len(subsets)-1] + part[i,0] for i in range(1,len(res))]\n",
    "print final"
   ]
  },
  {
   "cell_type": "code",
   "execution_count": 256,
   "metadata": {
    "collapsed": false
   },
   "outputs": [],
   "source": [
    "point = return_point\n",
    "index = -1\n",
    "\n",
    "points=[0,point]\n",
    "for i in range(n-2):\n",
    "    points.append(tour[point][index][0])\n",
    "    index = tour[point][index][1]\n",
    "    point = points[-1]\n",
    "points.append(0)\n",
    "    \n",
    "    "
   ]
  },
  {
   "cell_type": "code",
   "execution_count": 257,
   "metadata": {
    "collapsed": false
   },
   "outputs": [
    {
     "name": "stdout",
     "output_type": "stream",
     "text": [
      "points order: [0, 1, 5, 9, 8, 12, 13, 11, 7, 10, 15, 14, 6, 4, 3, 2, 0]\n"
     ]
    }
   ],
   "source": [
    "print \"points order:\",points"
   ]
  }
 ],
 "metadata": {
  "kernelspec": {
   "display_name": "Python 2",
   "language": "python",
   "name": "python2"
  },
  "language_info": {
   "codemirror_mode": {
    "name": "ipython",
    "version": 2
   },
   "file_extension": ".py",
   "mimetype": "text/x-python",
   "name": "python",
   "nbconvert_exporter": "python",
   "pygments_lexer": "ipython2",
   "version": "2.7.13"
  }
 },
 "nbformat": 4,
 "nbformat_minor": 2
}
