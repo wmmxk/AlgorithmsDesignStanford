{
 "cells": [
  {
   "cell_type": "code",
   "execution_count": null,
   "metadata": {
    "collapsed": true
   },
   "outputs": [],
   "source": [
    "# you don't have to keep the distance matrix, since it is local search\n",
    "\n",
    "# Don't check the existence in the list storing visited nodes. (checking in a list, o(n))\n",
    "  # Besides, visited is increasing. Use a set to keep which elements are left. That way\n",
    "  # the remaining computation decreases after each iteration\n",
    "\n",
    "# You code can use a while loop (while there are elements left in the left set)"
   ]
  },
  {
   "cell_type": "code",
   "execution_count": 29,
   "metadata": {
    "collapsed": true
   },
   "outputs": [],
   "source": [
    "from math import sqrt\n",
    "filename = \"tsp.txt\"\n",
    "\n",
    "def create_m(filename):\n",
    "    coo_x_y = []\n",
    "    with open(\"../data/\"+filename) as f:\n",
    "        n=int(f.next().strip())\n",
    "        for line in f:\n",
    "            coo_x_y.append(line.strip().split()[1:])\n",
    "    return coo_x_y"
   ]
  },
  {
   "cell_type": "code",
   "execution_count": 30,
   "metadata": {
    "collapsed": true
   },
   "outputs": [],
   "source": [
    "ps = create_m(filename)"
   ]
  },
  {
   "cell_type": "code",
   "execution_count": 34,
   "metadata": {
    "collapsed": false
   },
   "outputs": [
    {
     "name": "stdout",
     "output_type": "stream",
     "text": [
      "1203406.50127\n"
     ]
    }
   ],
   "source": [
    "\n",
    "n = len(ps)\n",
    "current = 0\n",
    "visited = [0]\n",
    "next_p = None\n",
    "cost = 0\n",
    "left = set(range(1,n))\n",
    "\n",
    "while (left):\n",
    "    dist = float('inf')\n",
    "    for j in left:\n",
    "           d_ij = (float(ps[current][0])-float(ps[j][0]))**2 + \\\n",
    "                         (float(ps[current][1]) - float(ps[j][1]))**2\n",
    "           if d_ij < dist:\n",
    "              dist, next_p = (d_ij,j)\n",
    "    left.remove(next_p)\n",
    "    current = next_p\n",
    "    cost += sqrt(dist)\n",
    "    visited.append(current)\n",
    "back_step = (float(ps[current][0])-float(ps[0][0]))**2 + \\\n",
    "                         (float(ps[current][1]) - float(ps[0][1]))**2\n",
    "cost += sqrt(back_step)\n",
    "print cost"
   ]
  }
 ],
 "metadata": {
  "kernelspec": {
   "display_name": "Python 2",
   "language": "python",
   "name": "python2"
  },
  "language_info": {
   "codemirror_mode": {
    "name": "ipython",
    "version": 2
   },
   "file_extension": ".py",
   "mimetype": "text/x-python",
   "name": "python",
   "nbconvert_exporter": "python",
   "pygments_lexer": "ipython2",
   "version": "2.7.13"
  }
 },
 "nbformat": 4,
 "nbformat_minor": 2
}
